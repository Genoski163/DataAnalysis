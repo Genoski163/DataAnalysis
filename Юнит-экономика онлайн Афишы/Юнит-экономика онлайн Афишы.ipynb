{
 "cells": [
  {
   "cell_type": "markdown",
   "metadata": {},
   "source": [
    "<a name=\"1common.\"></a>\n",
    "## Содержание:\n",
    "* [1. Описание проекта, описание данных, загрузка и импорт библиотек](#1.)\n",
    "* [2. Анализ продукта](#2.)\n",
    "     - [2.1. DAU, WAU, MAU](#2.1.)\n",
    "     - [2.2. Анализ сессий](#2.2.)\n",
    "     - [2.3. User Retention](#2.3.)\n",
    "* [3. Анализ продаж](#3.)\n",
    "     - [3.1. Когда начинают покупать?](#3.1.)\n",
    "     - [3.2. Cредний чек](#3.2.)\n",
    "     - [3.3. LTV](#3.3.)\n",
    "* [4. Анализ затрат на маркетинг](#4.)\n",
    "     - [4.1. Расходы, CAC](#4.1.)\n",
    "     - [4.2. ROMI](#4.2.)\n",
    "* [5. Метрики по рекламным источникам](#5.)\n",
    "* [6. Общий вывод и рекомендации](#5.)"
   ]
  },
  {
   "cell_type": "markdown",
   "metadata": {},
   "source": [
    " <a name=\"1.\"><a/><br/>\n",
    "    <font size =\"5\"><b>1. Описание проекта, описание данных, загрузка и импорт библиотек</b></font><br/>\n",
    "[<font size=\"2\">(к содержанию)</font>](#1common.)"
   ]
  },
  {
   "cell_type": "markdown",
   "metadata": {},
   "source": [
    "## Аналитика в сервисе продажи билетов\n",
    "\n",
    "У нас в распоряжении есть данные с июня 2017 по конец мая 2018 года:   \n",
    "* лог сервера с данными о посещениях сайта,\n",
    "* выгрузка всех заказов за этот период,\n",
    "* статистика рекламных расходов.\n",
    "\n",
    "Мы изучили:\n",
    "* как люди пользуются продуктом,\n",
    "* когда они начинают покупать,\n",
    "* сколько денег приносит каждый клиент\n",
    "* когда клиент окупается."
   ]
  },
  {
   "cell_type": "code",
   "execution_count": 1,
   "metadata": {},
   "outputs": [],
   "source": [
    "# работа с таблицами\n",
    "import pandas as pd\n",
    "\n",
    "# графики\n",
    "import seaborn as sns  \n",
    "from matplotlib import pyplot as plt  \n",
    "\n",
    "# математика\n",
    "import numpy as np  "
   ]
  },
  {
   "cell_type": "code",
   "execution_count": 2,
   "metadata": {},
   "outputs": [],
   "source": [
    "visits = pd.read_csv('C:/Users/User/Desktop/Python/Практикум/df_visits.csv')\n",
    "orders = pd.read_csv('C:/Users/User/Desktop/Python/Практикум/df_orders.csv')\n",
    "costs = pd.read_csv('C:/Users/User/Desktop/Python/Практикум/df_costs.csv')"
   ]
  },
  {
   "cell_type": "code",
   "execution_count": 3,
   "metadata": {},
   "outputs": [
    {
     "name": "stdout",
     "output_type": "stream",
     "text": [
      "Информация о датафрейме visits\n",
      "\n",
      "<class 'pandas.core.frame.DataFrame'>\n",
      "RangeIndex: 359400 entries, 0 to 359399\n",
      "Data columns (total 6 columns):\n",
      "Unnamed: 0    359400 non-null int64\n",
      "Device        359400 non-null object\n",
      "End Ts        359400 non-null object\n",
      "Source Id     359400 non-null int64\n",
      "Start Ts      359400 non-null object\n",
      "Uid           359400 non-null uint64\n",
      "dtypes: int64(2), object(3), uint64(1)\n",
      "memory usage: 16.5+ MB\n",
      "None\n",
      "\n",
      "Первые 5 строк visits\n",
      "   Unnamed: 0   Device               End Ts  Source Id             Start Ts  \\\n",
      "0           0    touch  2017-12-20 17:38:00          4  2017-12-20 17:20:00   \n",
      "1           1  desktop  2018-02-19 17:21:00          2  2018-02-19 16:53:00   \n",
      "2           2    touch  2017-07-01 01:54:00          5  2017-07-01 01:54:00   \n",
      "3           3  desktop  2018-05-20 11:23:00          9  2018-05-20 10:59:00   \n",
      "4           4  desktop  2017-12-27 14:06:00          3  2017-12-27 14:06:00   \n",
      "\n",
      "                    Uid  \n",
      "0  16879256277535980062  \n",
      "1    104060357244891740  \n",
      "2   7459035603376831527  \n",
      "3  16174680259334210214  \n",
      "4   9969694820036681168  \n",
      "\n",
      "Число пропущенных значений в столбце  Unnamed: 0  =  0\n",
      "Число пропущенных значений в столбце  Device  =  0\n",
      "Число пропущенных значений в столбце  End Ts  =  0\n",
      "Число пропущенных значений в столбце  Source Id  =  0\n",
      "Число пропущенных значений в столбце  Start Ts  =  0\n",
      "Число пропущенных значений в столбце  Uid  =  0\n",
      "Число дубликатов в датафрейме visits 0\n",
      "--------------------------------------------\n",
      "Информация о датафрейме orders\n",
      "\n",
      "<class 'pandas.core.frame.DataFrame'>\n",
      "RangeIndex: 50415 entries, 0 to 50414\n",
      "Data columns (total 4 columns):\n",
      "Unnamed: 0    50415 non-null int64\n",
      "Buy Ts        50415 non-null object\n",
      "Revenue       50415 non-null float64\n",
      "Uid           50415 non-null uint64\n",
      "dtypes: float64(1), int64(1), object(1), uint64(1)\n",
      "memory usage: 1.5+ MB\n",
      "None\n",
      "\n",
      "Первые 5 строк orders\n",
      "   Unnamed: 0               Buy Ts  Revenue                   Uid\n",
      "0           0  2017-06-01 00:10:00    17.00  10329302124590727494\n",
      "1           1  2017-06-01 00:25:00     0.55  11627257723692907447\n",
      "2           2  2017-06-01 00:27:00     0.37  17903680561304213844\n",
      "3           3  2017-06-01 00:29:00     0.55  16109239769442553005\n",
      "4           4  2017-06-01 07:58:00     0.37  14200605875248379450\n",
      "\n",
      "Число пропущенных значений в столбце  Unnamed: 0  =  0\n",
      "Число пропущенных значений в столбце  Buy Ts  =  0\n",
      "Число пропущенных значений в столбце  Revenue  =  0\n",
      "Число пропущенных значений в столбце  Uid  =  0\n",
      "Число дубликатов в датафрейме orders 0\n",
      "--------------------------------------------\n",
      "Информация о датафрейме costs\n",
      "\n",
      "<class 'pandas.core.frame.DataFrame'>\n",
      "RangeIndex: 2542 entries, 0 to 2541\n",
      "Data columns (total 4 columns):\n",
      "Unnamed: 0    2542 non-null int64\n",
      "source_id     2542 non-null int64\n",
      "dt            2542 non-null object\n",
      "costs         2542 non-null float64\n",
      "dtypes: float64(1), int64(2), object(1)\n",
      "memory usage: 79.5+ KB\n",
      "None\n",
      "\n",
      "Первые 5 строк costs\n",
      "   Unnamed: 0  source_id          dt  costs\n",
      "0           0          1  2017-06-01  75.20\n",
      "1           1          1  2017-06-02  62.25\n",
      "2           2          1  2017-06-03  36.53\n",
      "3           3          1  2017-06-04  55.00\n",
      "4           4          1  2017-06-05  57.08\n",
      "\n",
      "Число пропущенных значений в столбце  Unnamed: 0  =  0\n",
      "Число пропущенных значений в столбце  source_id  =  0\n",
      "Число пропущенных значений в столбце  dt  =  0\n",
      "Число пропущенных значений в столбце  costs  =  0\n",
      "Число дубликатов в датафрейме costs 0\n",
      "--------------------------------------------\n"
     ]
    }
   ],
   "source": [
    "# описание таблиц\n",
    "all_df = [visits, orders, costs]  \n",
    "\n",
    "for df in all_df:\n",
    "    # вытаскиваем наименование датафрейма\n",
    "    name = [x for x in globals() if globals()[x] is df][0]\n",
    "    print('Информация о датафрейме {}\\n'.format(name))\n",
    "    print(df.info())\n",
    "    print()\n",
    "    print('Первые 5 строк {}'.format(name))\n",
    "    print(df.head(5))\n",
    "    print()\n",
    "    for i in df.columns:\n",
    "        print('Число пропущенных значений в столбце ',\n",
    "              i, ' = ', df[i].isnull().sum())\n",
    "    print('Число дубликатов в датафрейме {}'.format(name), df.duplicated().sum())\n",
    "    print('--------------------------------------------')"
   ]
  },
  {
   "cell_type": "code",
   "execution_count": 4,
   "metadata": {},
   "outputs": [],
   "source": [
    "# все данные 'даты' записанны в формате 'str'. Мы изменили на формат 'datetime64[ns]', для удобства работы.\n",
    "visits['End Ts'] = pd.to_datetime(visits['End Ts'])\n",
    "visits['Start Ts'] = pd.to_datetime(visits['Start Ts'])\n",
    "orders['Buy Ts'] = pd.to_datetime(orders['Buy Ts'])\n",
    "costs['dt'] = pd.to_datetime(costs['dt'])"
   ]
  },
  {
   "cell_type": "markdown",
   "metadata": {},
   "source": [
    "<a name=\"2.\"><a/><br/>\n",
    "    <font size =\"5\"><b>2.Анализ продукта</b></font><br/>\n",
    "[<font size=\"2\">(к содержанию)</font>](#1common.)\n",
    "    <a name=\"2.1.\"><a/><br/>\n",
    "    <font size =\"4\"><b>2.1.DAU, WAU, MAU</b></font><br/>\n",
    "[<font size=\"2\">(к содержанию)</font>](#1common.)"
   ]
  },
  {
   "cell_type": "code",
   "execution_count": 5,
   "metadata": {},
   "outputs": [
    {
     "data": {
      "text/html": [
       "<div>\n",
       "<style scoped>\n",
       "    .dataframe tbody tr th:only-of-type {\n",
       "        vertical-align: middle;\n",
       "    }\n",
       "\n",
       "    .dataframe tbody tr th {\n",
       "        vertical-align: top;\n",
       "    }\n",
       "\n",
       "    .dataframe thead th {\n",
       "        text-align: right;\n",
       "    }\n",
       "</style>\n",
       "<table border=\"1\" class=\"dataframe\">\n",
       "  <thead>\n",
       "    <tr style=\"text-align: right;\">\n",
       "      <th></th>\n",
       "      <th>Unnamed: 0</th>\n",
       "      <th>Device</th>\n",
       "      <th>End Ts</th>\n",
       "      <th>Source Id</th>\n",
       "      <th>Start Ts</th>\n",
       "      <th>Uid</th>\n",
       "      <th>date</th>\n",
       "      <th>week</th>\n",
       "      <th>month</th>\n",
       "    </tr>\n",
       "  </thead>\n",
       "  <tbody>\n",
       "    <tr>\n",
       "      <th>0</th>\n",
       "      <td>0</td>\n",
       "      <td>touch</td>\n",
       "      <td>2017-12-20 17:38:00</td>\n",
       "      <td>4</td>\n",
       "      <td>2017-12-20 17:20:00</td>\n",
       "      <td>16879256277535980062</td>\n",
       "      <td>2017-12-20</td>\n",
       "      <td>51</td>\n",
       "      <td>12</td>\n",
       "    </tr>\n",
       "    <tr>\n",
       "      <th>1</th>\n",
       "      <td>1</td>\n",
       "      <td>desktop</td>\n",
       "      <td>2018-02-19 17:21:00</td>\n",
       "      <td>2</td>\n",
       "      <td>2018-02-19 16:53:00</td>\n",
       "      <td>104060357244891740</td>\n",
       "      <td>2018-02-19</td>\n",
       "      <td>8</td>\n",
       "      <td>2</td>\n",
       "    </tr>\n",
       "    <tr>\n",
       "      <th>2</th>\n",
       "      <td>2</td>\n",
       "      <td>touch</td>\n",
       "      <td>2017-07-01 01:54:00</td>\n",
       "      <td>5</td>\n",
       "      <td>2017-07-01 01:54:00</td>\n",
       "      <td>7459035603376831527</td>\n",
       "      <td>2017-07-01</td>\n",
       "      <td>26</td>\n",
       "      <td>7</td>\n",
       "    </tr>\n",
       "    <tr>\n",
       "      <th>3</th>\n",
       "      <td>3</td>\n",
       "      <td>desktop</td>\n",
       "      <td>2018-05-20 11:23:00</td>\n",
       "      <td>9</td>\n",
       "      <td>2018-05-20 10:59:00</td>\n",
       "      <td>16174680259334210214</td>\n",
       "      <td>2018-05-20</td>\n",
       "      <td>20</td>\n",
       "      <td>5</td>\n",
       "    </tr>\n",
       "    <tr>\n",
       "      <th>4</th>\n",
       "      <td>4</td>\n",
       "      <td>desktop</td>\n",
       "      <td>2017-12-27 14:06:00</td>\n",
       "      <td>3</td>\n",
       "      <td>2017-12-27 14:06:00</td>\n",
       "      <td>9969694820036681168</td>\n",
       "      <td>2017-12-27</td>\n",
       "      <td>52</td>\n",
       "      <td>12</td>\n",
       "    </tr>\n",
       "  </tbody>\n",
       "</table>\n",
       "</div>"
      ],
      "text/plain": [
       "   Unnamed: 0   Device              End Ts  Source Id            Start Ts  \\\n",
       "0           0    touch 2017-12-20 17:38:00          4 2017-12-20 17:20:00   \n",
       "1           1  desktop 2018-02-19 17:21:00          2 2018-02-19 16:53:00   \n",
       "2           2    touch 2017-07-01 01:54:00          5 2017-07-01 01:54:00   \n",
       "3           3  desktop 2018-05-20 11:23:00          9 2018-05-20 10:59:00   \n",
       "4           4  desktop 2017-12-27 14:06:00          3 2017-12-27 14:06:00   \n",
       "\n",
       "                    Uid        date  week  month  \n",
       "0  16879256277535980062  2017-12-20    51     12  \n",
       "1    104060357244891740  2018-02-19     8      2  \n",
       "2   7459035603376831527  2017-07-01    26      7  \n",
       "3  16174680259334210214  2018-05-20    20      5  \n",
       "4   9969694820036681168  2017-12-27    52     12  "
      ]
     },
     "execution_count": 5,
     "metadata": {},
     "output_type": "execute_result"
    }
   ],
   "source": [
    "# вычленим в отдельные столбцы из даты дни, недели и месяца\n",
    "visits['date'] = visits['Start Ts'].dt.date\n",
    "visits['week'] = visits['Start Ts'].dt.week\n",
    "visits['month'] = visits['Start Ts'].dt.month\n",
    "visits.head()"
   ]
  },
  {
   "cell_type": "code",
   "execution_count": 6,
   "metadata": {},
   "outputs": [
    {
     "name": "stdout",
     "output_type": "stream",
     "text": [
      "Среднее число уникальных пользователей в день(DAU): 907\n",
      "Среднее число уникальных пользователей в неделю(WAU): 5825\n",
      "Среднее число уникальных пользователей в месяц(MAU): 23228\n"
     ]
    }
   ],
   "source": [
    "day = visits.groupby('date').agg({'Uid': 'nunique'})\n",
    "print('Среднее число уникальных пользователей в день(DAU):',\n",
    "      int(day['Uid'].mean()))\n",
    "week = visits.groupby('week').agg({'Uid': 'nunique'})\n",
    "print('Среднее число уникальных пользователей в неделю(WAU):',\n",
    "      int(week['Uid'].mean()))\n",
    "month = visits.groupby('month').agg({'Uid': 'nunique'})\n",
    "print('Среднее число уникальных пользователей в месяц(MAU):',\n",
    "      int(month['Uid'].mean()))"
   ]
  },
  {
   "cell_type": "markdown",
   "metadata": {},
   "source": [
    "<a name=\"2.2.\"><a/><br/>\n",
    "    <font size =\"4\"><b>2.2.Анализ сессий</b></font><br/>\n",
    "[<font size=\"2\">(к содержанию)</font>](#1common.)"
   ]
  },
  {
   "cell_type": "code",
   "execution_count": 7,
   "metadata": {},
   "outputs": [
    {
     "name": "stdout",
     "output_type": "stream",
     "text": [
      "Всего число сессий: 359400\n",
      "Среднее число сессий в день: 987\n"
     ]
    }
   ],
   "source": [
    "print('Всего число сессий:', visits['Start Ts'].count())\n",
    "ses_day = visits.groupby('date').agg({'Start Ts': 'count'})\n",
    "print('Среднее число сессий в день:', int(ses_day['Start Ts'].mean()))"
   ]
  },
  {
   "cell_type": "markdown",
   "metadata": {},
   "source": [
    "Для нахождения длительности одной сессии было принято решение взять медиану, так как мода не отразит среднее значение."
   ]
  },
  {
   "cell_type": "code",
   "execution_count": 8,
   "metadata": {},
   "outputs": [
    {
     "data": {
      "text/plain": [
       "<matplotlib.axes._subplots.AxesSubplot at 0x270c010e278>"
      ]
     },
     "execution_count": 8,
     "metadata": {},
     "output_type": "execute_result"
    },
    {
     "data": {
      "image/png": "[encoded data removed]",
      "text/plain": [
       "<Figure size 432x288 with 1 Axes>"
      ]
     },
     "metadata": {
      "needs_background": "light"
     },
     "output_type": "display_data"
    }
   ],
   "source": [
    "# найдем длительность сессии в секундах\n",
    "visits['session_duration_sec'] = (\n",
    "    visits['End Ts'] - visits['Start Ts']).dt.seconds\n",
    "\n",
    "# отобразим распределение\n",
    "visits['session_duration_sec'].hist(bins=100, range=(0, 4000))"
   ]
  },
  {
   "cell_type": "code",
   "execution_count": 9,
   "metadata": {},
   "outputs": [
    {
     "data": {
      "text/plain": [
       "(0, 3000)"
      ]
     },
     "execution_count": 9,
     "metadata": {},
     "output_type": "execute_result"
    },
    {
     "data": {
      "image/png": "[encoded data removed]",
      "text/plain": [
       "<Figure size 432x288 with 1 Axes>"
      ]
     },
     "metadata": {
      "needs_background": "light"
     },
     "output_type": "display_data"
    }
   ],
   "source": [
    "# посмотрим на выбросы\n",
    "visits.boxplot('session_duration_sec')\n",
    "plt.ylim(0, 3000)"
   ]
  },
  {
   "cell_type": "code",
   "execution_count": 10,
   "metadata": {},
   "outputs": [
    {
     "name": "stdout",
     "output_type": "stream",
     "text": [
      "Одна сессия в среднем длится: 4 минут\n"
     ]
    }
   ],
   "source": [
    "# избавимся от выбросов\n",
    "ff = visits[visits['session_duration_sec'] < 1800]\n",
    "\n",
    "# переведем в минуты, для удобства восприятия\n",
    "print('Одна сессия в среднем длится:', int(\n",
    "    ff['session_duration_sec'].median() / 60), 'минут')"
   ]
  },
  {
   "cell_type": "markdown",
   "metadata": {},
   "source": [
    "<a name=\"2.3.\"><a/><br/>\n",
    "    <font size =\"4\"><b>2.3.User Retention</b></font><br/>\n",
    "[<font size=\"2\">(к содержанию)</font>](#1common.)"
   ]
  },
  {
   "cell_type": "code",
   "execution_count": 11,
   "metadata": {},
   "outputs": [],
   "source": [
    "# добавим в таблицу столбцы первого месяца захода на сайт, и месяц, где была активность\n",
    "first_dates = visits.groupby('Uid')['Start Ts'].min()\n",
    "first_dates.name = 'first_dates'\n",
    "visits = visits.merge(\n",
    "    first_dates, on='Uid')"
   ]
  },
  {
   "cell_type": "code",
   "execution_count": 13,
   "metadata": {},
   "outputs": [
    {
     "data": {
      "text/html": [
       "<div>\n",
       "<style scoped>\n",
       "    .dataframe tbody tr th:only-of-type {\n",
       "        vertical-align: middle;\n",
       "    }\n",
       "\n",
       "    .dataframe tbody tr th {\n",
       "        vertical-align: top;\n",
       "    }\n",
       "\n",
       "    .dataframe thead th {\n",
       "        text-align: right;\n",
       "    }\n",
       "</style>\n",
       "<table border=\"1\" class=\"dataframe\">\n",
       "  <thead>\n",
       "    <tr style=\"text-align: right;\">\n",
       "      <th></th>\n",
       "      <th>Unnamed: 0</th>\n",
       "      <th>Device</th>\n",
       "      <th>End Ts</th>\n",
       "      <th>Source Id</th>\n",
       "      <th>Start Ts</th>\n",
       "      <th>Uid</th>\n",
       "      <th>date</th>\n",
       "      <th>week</th>\n",
       "      <th>month</th>\n",
       "      <th>session_duration_sec</th>\n",
       "      <th>first_dates</th>\n",
       "      <th>first_ses_month</th>\n",
       "      <th>ses_month</th>\n",
       "    </tr>\n",
       "  </thead>\n",
       "  <tbody>\n",
       "    <tr>\n",
       "      <th>0</th>\n",
       "      <td>0</td>\n",
       "      <td>touch</td>\n",
       "      <td>2017-12-20 17:38:00</td>\n",
       "      <td>4</td>\n",
       "      <td>2017-12-20 17:20:00</td>\n",
       "      <td>16879256277535980062</td>\n",
       "      <td>2017-12-20</td>\n",
       "      <td>51</td>\n",
       "      <td>12</td>\n",
       "      <td>1080</td>\n",
       "      <td>2017-12-20 17:20:00</td>\n",
       "      <td>2017-12-01</td>\n",
       "      <td>2017-12-01</td>\n",
       "    </tr>\n",
       "    <tr>\n",
       "      <th>1</th>\n",
       "      <td>1</td>\n",
       "      <td>desktop</td>\n",
       "      <td>2018-02-19 17:21:00</td>\n",
       "      <td>2</td>\n",
       "      <td>2018-02-19 16:53:00</td>\n",
       "      <td>104060357244891740</td>\n",
       "      <td>2018-02-19</td>\n",
       "      <td>8</td>\n",
       "      <td>2</td>\n",
       "      <td>1680</td>\n",
       "      <td>2018-02-19 16:53:00</td>\n",
       "      <td>2018-02-01</td>\n",
       "      <td>2018-02-01</td>\n",
       "    </tr>\n",
       "    <tr>\n",
       "      <th>2</th>\n",
       "      <td>2</td>\n",
       "      <td>touch</td>\n",
       "      <td>2017-07-01 01:54:00</td>\n",
       "      <td>5</td>\n",
       "      <td>2017-07-01 01:54:00</td>\n",
       "      <td>7459035603376831527</td>\n",
       "      <td>2017-07-01</td>\n",
       "      <td>26</td>\n",
       "      <td>7</td>\n",
       "      <td>0</td>\n",
       "      <td>2017-07-01 01:54:00</td>\n",
       "      <td>2017-07-01</td>\n",
       "      <td>2017-07-01</td>\n",
       "    </tr>\n",
       "    <tr>\n",
       "      <th>3</th>\n",
       "      <td>3</td>\n",
       "      <td>desktop</td>\n",
       "      <td>2018-05-20 11:23:00</td>\n",
       "      <td>9</td>\n",
       "      <td>2018-05-20 10:59:00</td>\n",
       "      <td>16174680259334210214</td>\n",
       "      <td>2018-05-20</td>\n",
       "      <td>20</td>\n",
       "      <td>5</td>\n",
       "      <td>1440</td>\n",
       "      <td>2018-03-09 20:05:00</td>\n",
       "      <td>2018-03-01</td>\n",
       "      <td>2018-05-01</td>\n",
       "    </tr>\n",
       "    <tr>\n",
       "      <th>4</th>\n",
       "      <td>114820</td>\n",
       "      <td>desktop</td>\n",
       "      <td>2018-03-09 20:33:00</td>\n",
       "      <td>4</td>\n",
       "      <td>2018-03-09 20:05:00</td>\n",
       "      <td>16174680259334210214</td>\n",
       "      <td>2018-03-09</td>\n",
       "      <td>10</td>\n",
       "      <td>3</td>\n",
       "      <td>1680</td>\n",
       "      <td>2018-03-09 20:05:00</td>\n",
       "      <td>2018-03-01</td>\n",
       "      <td>2018-03-01</td>\n",
       "    </tr>\n",
       "  </tbody>\n",
       "</table>\n",
       "</div>"
      ],
      "text/plain": [
       "   Unnamed: 0   Device              End Ts  Source Id            Start Ts  \\\n",
       "0           0    touch 2017-12-20 17:38:00          4 2017-12-20 17:20:00   \n",
       "1           1  desktop 2018-02-19 17:21:00          2 2018-02-19 16:53:00   \n",
       "2           2    touch 2017-07-01 01:54:00          5 2017-07-01 01:54:00   \n",
       "3           3  desktop 2018-05-20 11:23:00          9 2018-05-20 10:59:00   \n",
       "4      114820  desktop 2018-03-09 20:33:00          4 2018-03-09 20:05:00   \n",
       "\n",
       "                    Uid        date  week  month  session_duration_sec  \\\n",
       "0  16879256277535980062  2017-12-20    51     12                  1080   \n",
       "1    104060357244891740  2018-02-19     8      2                  1680   \n",
       "2   7459035603376831527  2017-07-01    26      7                     0   \n",
       "3  16174680259334210214  2018-05-20    20      5                  1440   \n",
       "4  16174680259334210214  2018-03-09    10      3                  1680   \n",
       "\n",
       "          first_dates first_ses_month   ses_month  \n",
       "0 2017-12-20 17:20:00      2017-12-01  2017-12-01  \n",
       "1 2018-02-19 16:53:00      2018-02-01  2018-02-01  \n",
       "2 2017-07-01 01:54:00      2017-07-01  2017-07-01  \n",
       "3 2018-03-09 20:05:00      2018-03-01  2018-05-01  \n",
       "4 2018-03-09 20:05:00      2018-03-01  2018-03-01  "
      ]
     },
     "execution_count": 13,
     "metadata": {},
     "output_type": "execute_result"
    }
   ],
   "source": [
    "# сменим типы на удобные нам\n",
    "visits['first_ses_month'] = visits['first_dates'].astype('datetime64[M]')\n",
    "visits['ses_month'] = visits['Start Ts'].astype('datetime64[M]')\n",
    "visits['ses_month'] = pd.to_datetime(visits['ses_month'])\n",
    "visits['ses_month'] = visits['ses_month'].dt.date\n",
    "visits['first_ses_month'] = pd.to_datetime(visits['first_ses_month'])\n",
    "visits['first_ses_month'] = visits['first_ses_month'].dt.date\n",
    "visits.head()"
   ]
  },
  {
   "cell_type": "markdown",
   "metadata": {},
   "source": [
    "Теперь посмотрим, как часто люди возвращаются к нам. Когорта - месяц, действие - заход на сайт. Построим heatmap и взглянем на возвраты в абсолютном выражении"
   ]
  },
  {
   "cell_type": "code",
   "execution_count": 14,
   "metadata": {},
   "outputs": [
    {
     "data": {
      "text/plain": [
       "<matplotlib.axes._subplots.AxesSubplot at 0x270bf266240>"
      ]
     },
     "execution_count": 14,
     "metadata": {},
     "output_type": "execute_result"
    },
    {
     "data": {
      "image/png": "[encoded data removed]",
      "text/plain": [
       "<Figure size 936x648 with 2 Axes>"
      ]
     },
     "metadata": {
      "needs_background": "light"
     },
     "output_type": "display_data"
    }
   ],
   "source": [
    "life = visits.pivot_table(index='first_ses_month',\n",
    "                          columns='ses_month',\n",
    "                          values='Uid',\n",
    "                          aggfunc='nunique')\n",
    "plt.figure(figsize=(13, 9))\n",
    "plt.title('Возврат людей, кол-во uid')\n",
    "sns.heatmap(life, annot=True, fmt='.1f',\n",
    "            linewidths=1, linecolor='gray', vmax=2500)"
   ]
  },
  {
   "cell_type": "markdown",
   "metadata": {},
   "source": [
    "Не очень пользователи любят возвращаются к нам, взглянем на эту картину в относительном выражении, добавив срок жизни одной когорты шагом в месяц."
   ]
  },
  {
   "cell_type": "code",
   "execution_count": 15,
   "metadata": {},
   "outputs": [
    {
     "data": {
      "text/html": [
       "<div>\n",
       "<style scoped>\n",
       "    .dataframe tbody tr th:only-of-type {\n",
       "        vertical-align: middle;\n",
       "    }\n",
       "\n",
       "    .dataframe tbody tr th {\n",
       "        vertical-align: top;\n",
       "    }\n",
       "\n",
       "    .dataframe thead th {\n",
       "        text-align: right;\n",
       "    }\n",
       "</style>\n",
       "<table border=\"1\" class=\"dataframe\">\n",
       "  <thead>\n",
       "    <tr style=\"text-align: right;\">\n",
       "      <th></th>\n",
       "      <th>first_ses_month</th>\n",
       "      <th>cohort_lifetime</th>\n",
       "      <th>Uid</th>\n",
       "    </tr>\n",
       "  </thead>\n",
       "  <tbody>\n",
       "    <tr>\n",
       "      <th>0</th>\n",
       "      <td>2017-06-01</td>\n",
       "      <td>0</td>\n",
       "      <td>13259</td>\n",
       "    </tr>\n",
       "    <tr>\n",
       "      <th>1</th>\n",
       "      <td>2017-06-01</td>\n",
       "      <td>1</td>\n",
       "      <td>1043</td>\n",
       "    </tr>\n",
       "    <tr>\n",
       "      <th>2</th>\n",
       "      <td>2017-06-01</td>\n",
       "      <td>2</td>\n",
       "      <td>713</td>\n",
       "    </tr>\n",
       "    <tr>\n",
       "      <th>3</th>\n",
       "      <td>2017-06-01</td>\n",
       "      <td>3</td>\n",
       "      <td>814</td>\n",
       "    </tr>\n",
       "    <tr>\n",
       "      <th>4</th>\n",
       "      <td>2017-06-01</td>\n",
       "      <td>4</td>\n",
       "      <td>909</td>\n",
       "    </tr>\n",
       "  </tbody>\n",
       "</table>\n",
       "</div>"
      ],
      "text/plain": [
       "  first_ses_month  cohort_lifetime    Uid\n",
       "0      2017-06-01                0  13259\n",
       "1      2017-06-01                1   1043\n",
       "2      2017-06-01                2    713\n",
       "3      2017-06-01                3    814\n",
       "4      2017-06-01                4    909"
      ]
     },
     "execution_count": 15,
     "metadata": {},
     "output_type": "execute_result"
    }
   ],
   "source": [
    "# найдем месяц жизни и его порядковый номер\n",
    "visits['cohort_lifetime'] = visits['ses_month'] - visits['first_ses_month']\n",
    "visits['cohort_lifetime'] = visits['cohort_lifetime'] / np.timedelta64(1, 'M')\n",
    "visits['cohort_lifetime'] = visits['cohort_lifetime'].round().astype(int)\n",
    "cohorts = visits.groupby(['first_ses_month', 'cohort_lifetime']).agg(\n",
    "    {'Uid': 'nunique'}).reset_index()\n",
    "cohorts.head()"
   ]
  },
  {
   "cell_type": "markdown",
   "metadata": {},
   "source": [
    "Для подсчета относительного коэффициента возврата нам подойдет Retention Rate, который покажет какой процент людей остается с нами в течении времени."
   ]
  },
  {
   "cell_type": "code",
   "execution_count": 16,
   "metadata": {},
   "outputs": [
    {
     "data": {
      "text/html": [
       "<div>\n",
       "<style scoped>\n",
       "    .dataframe tbody tr th:only-of-type {\n",
       "        vertical-align: middle;\n",
       "    }\n",
       "\n",
       "    .dataframe tbody tr th {\n",
       "        vertical-align: top;\n",
       "    }\n",
       "\n",
       "    .dataframe thead th {\n",
       "        text-align: right;\n",
       "    }\n",
       "</style>\n",
       "<table border=\"1\" class=\"dataframe\">\n",
       "  <thead>\n",
       "    <tr style=\"text-align: right;\">\n",
       "      <th></th>\n",
       "      <th>first_ses_month</th>\n",
       "      <th>cohort_lifetime</th>\n",
       "      <th>Uid</th>\n",
       "      <th>cohort_users</th>\n",
       "      <th>retention</th>\n",
       "    </tr>\n",
       "  </thead>\n",
       "  <tbody>\n",
       "    <tr>\n",
       "      <th>0</th>\n",
       "      <td>2017-06-01</td>\n",
       "      <td>0</td>\n",
       "      <td>13259</td>\n",
       "      <td>13259</td>\n",
       "      <td>1.000000</td>\n",
       "    </tr>\n",
       "    <tr>\n",
       "      <th>1</th>\n",
       "      <td>2017-06-01</td>\n",
       "      <td>1</td>\n",
       "      <td>1043</td>\n",
       "      <td>13259</td>\n",
       "      <td>0.078664</td>\n",
       "    </tr>\n",
       "    <tr>\n",
       "      <th>2</th>\n",
       "      <td>2017-06-01</td>\n",
       "      <td>2</td>\n",
       "      <td>713</td>\n",
       "      <td>13259</td>\n",
       "      <td>0.053775</td>\n",
       "    </tr>\n",
       "    <tr>\n",
       "      <th>3</th>\n",
       "      <td>2017-06-01</td>\n",
       "      <td>3</td>\n",
       "      <td>814</td>\n",
       "      <td>13259</td>\n",
       "      <td>0.061392</td>\n",
       "    </tr>\n",
       "    <tr>\n",
       "      <th>4</th>\n",
       "      <td>2017-06-01</td>\n",
       "      <td>4</td>\n",
       "      <td>909</td>\n",
       "      <td>13259</td>\n",
       "      <td>0.068557</td>\n",
       "    </tr>\n",
       "  </tbody>\n",
       "</table>\n",
       "</div>"
      ],
      "text/plain": [
       "  first_ses_month  cohort_lifetime    Uid  cohort_users  retention\n",
       "0      2017-06-01                0  13259         13259   1.000000\n",
       "1      2017-06-01                1   1043         13259   0.078664\n",
       "2      2017-06-01                2    713         13259   0.053775\n",
       "3      2017-06-01                3    814         13259   0.061392\n",
       "4      2017-06-01                4    909         13259   0.068557"
      ]
     },
     "execution_count": 16,
     "metadata": {},
     "output_type": "execute_result"
    }
   ],
   "source": [
    "# найдем все пользователей которые зашли вперые\n",
    "inital_users_count = cohorts[cohorts['cohort_lifetime'] == 0][[\n",
    "    'first_ses_month', 'Uid']]\n",
    "\n",
    "# отсортируем по убыванию даты захода\n",
    "inital_users_count = inital_users_count.sort_values(by='first_ses_month')\n",
    "inital_users_count = inital_users_count.rename(columns={'Uid': 'cohort_users'})\n",
    "\n",
    "# объединим с информацией о времени жизни когорты\n",
    "cohorts = cohorts.merge(inital_users_count, on='first_ses_month')\n",
    "\n",
    "# добавим Retention\n",
    "cohorts['retention'] = cohorts['Uid']/cohorts['cohort_users']\n",
    "cohorts.head()"
   ]
  },
  {
   "cell_type": "markdown",
   "metadata": {},
   "source": [
    "Построим heatmap для наглядного отображение retantion rate."
   ]
  },
  {
   "cell_type": "code",
   "execution_count": 19,
   "metadata": {},
   "outputs": [
    {
     "data": {
      "text/plain": [
       "<matplotlib.axes._subplots.AxesSubplot at 0x270c36f35c0>"
      ]
     },
     "execution_count": 19,
     "metadata": {},
     "output_type": "execute_result"
    },
    {
     "data": {
      "image/png": "[encoded data removed]",
      "text/plain": [
       "<Figure size 936x648 with 2 Axes>"
      ]
     },
     "metadata": {},
     "output_type": "display_data"
    }
   ],
   "source": [
    "cohorts['first_ses_month'] = pd.to_datetime(cohorts['first_ses_month'])\n",
    "cohorts['first_ses_month'] = cohorts['first_ses_month'].dt.date\n",
    "retention_pivot = cohorts.pivot_table(\n",
    "    index='first_ses_month', columns='cohort_lifetime', values='retention', aggfunc='sum')\n",
    "sns.set(style='white')\n",
    "plt.figure(figsize=(13, 9))\n",
    "plt.title('Cohorts: User Retention(Процент возврата людей)')\n",
    "sns.heatmap(retention_pivot, annot=True, fmt='.1%',\n",
    "            linewidths=1, linecolor='gray', vmax=0.15)"
   ]
  },
  {
   "cell_type": "code",
   "execution_count": 20,
   "metadata": {},
   "outputs": [
    {
     "name": "stdout",
     "output_type": "stream",
     "text": [
      "Средний Retention Rate за 1 месяц: nan%\n"
     ]
    }
   ],
   "source": [
    "rr = cohorts[(cohorts['first_ses_month'] == '2017-06')\n",
    "             & (cohorts['cohort_lifetime'] > 0)]\n",
    "print('Средний Retention Rate за 1 месяц: {:.1%}'.format(\n",
    "    rr['retention'].mean()))"
   ]
  },
  {
   "cell_type": "markdown",
   "metadata": {},
   "source": [
    "### Вывод\n",
    "\n",
    "У нас очень низкий коэффициент удержания. Возможно, проблема в сервисе или в привлечении нами нецелевой аудитории. Будем разбираться."
   ]
  },
  {
   "cell_type": "markdown",
   "metadata": {},
   "source": [
    "<a name=\"3.\"><a/><br/>\n",
    "    <font size =\"5\"><b>3.Анализ продаж</b></font><br/>\n",
    "[<font size=\"2\">(к содержанию)</font>](#1common.)\n",
    "    <a name=\"3.1.\"><a/><br/>\n",
    "    <font size =\"4\"><b>3.1.Когда начинают покупать?</b></font><br/>\n",
    "[<font size=\"2\">(к содержанию)</font>](#1common.)"
   ]
  },
  {
   "cell_type": "code",
   "execution_count": 21,
   "metadata": {},
   "outputs": [
    {
     "data": {
      "text/html": [
       "<div>\n",
       "<style scoped>\n",
       "    .dataframe tbody tr th:only-of-type {\n",
       "        vertical-align: middle;\n",
       "    }\n",
       "\n",
       "    .dataframe tbody tr th {\n",
       "        vertical-align: top;\n",
       "    }\n",
       "\n",
       "    .dataframe thead th {\n",
       "        text-align: right;\n",
       "    }\n",
       "</style>\n",
       "<table border=\"1\" class=\"dataframe\">\n",
       "  <thead>\n",
       "    <tr style=\"text-align: right;\">\n",
       "      <th></th>\n",
       "      <th>Unnamed: 0</th>\n",
       "      <th>Buy Ts</th>\n",
       "      <th>Revenue</th>\n",
       "      <th>Uid</th>\n",
       "      <th>first_buy</th>\n",
       "    </tr>\n",
       "  </thead>\n",
       "  <tbody>\n",
       "    <tr>\n",
       "      <th>0</th>\n",
       "      <td>0</td>\n",
       "      <td>2017-06-01 00:10:00</td>\n",
       "      <td>17.00</td>\n",
       "      <td>10329302124590727494</td>\n",
       "      <td>2017-06-01 00:10:00</td>\n",
       "    </tr>\n",
       "    <tr>\n",
       "      <th>1</th>\n",
       "      <td>1</td>\n",
       "      <td>2017-06-01 00:25:00</td>\n",
       "      <td>0.55</td>\n",
       "      <td>11627257723692907447</td>\n",
       "      <td>2017-06-01 00:25:00</td>\n",
       "    </tr>\n",
       "    <tr>\n",
       "      <th>2</th>\n",
       "      <td>2</td>\n",
       "      <td>2017-06-01 00:27:00</td>\n",
       "      <td>0.37</td>\n",
       "      <td>17903680561304213844</td>\n",
       "      <td>2017-06-01 00:27:00</td>\n",
       "    </tr>\n",
       "    <tr>\n",
       "      <th>3</th>\n",
       "      <td>3</td>\n",
       "      <td>2017-06-01 00:29:00</td>\n",
       "      <td>0.55</td>\n",
       "      <td>16109239769442553005</td>\n",
       "      <td>2017-06-01 00:29:00</td>\n",
       "    </tr>\n",
       "    <tr>\n",
       "      <th>4</th>\n",
       "      <td>4</td>\n",
       "      <td>2017-06-01 07:58:00</td>\n",
       "      <td>0.37</td>\n",
       "      <td>14200605875248379450</td>\n",
       "      <td>2017-06-01 07:58:00</td>\n",
       "    </tr>\n",
       "  </tbody>\n",
       "</table>\n",
       "</div>"
      ],
      "text/plain": [
       "   Unnamed: 0              Buy Ts  Revenue                   Uid  \\\n",
       "0           0 2017-06-01 00:10:00    17.00  10329302124590727494   \n",
       "1           1 2017-06-01 00:25:00     0.55  11627257723692907447   \n",
       "2           2 2017-06-01 00:27:00     0.37  17903680561304213844   \n",
       "3           3 2017-06-01 00:29:00     0.55  16109239769442553005   \n",
       "4           4 2017-06-01 07:58:00     0.37  14200605875248379450   \n",
       "\n",
       "            first_buy  \n",
       "0 2017-06-01 00:10:00  \n",
       "1 2017-06-01 00:25:00  \n",
       "2 2017-06-01 00:27:00  \n",
       "3 2017-06-01 00:29:00  \n",
       "4 2017-06-01 07:58:00  "
      ]
     },
     "execution_count": 21,
     "metadata": {},
     "output_type": "execute_result"
    }
   ],
   "source": [
    "# найдем первый месяц покупки\n",
    "first_buy = orders.groupby('Uid')['Buy Ts'].min()\n",
    "first_buy.name = 'first_buy'\n",
    "\n",
    "# добавим в нашу таблицу\n",
    "orders = orders.merge(first_buy, on='Uid')\n",
    "orders.head()"
   ]
  },
  {
   "cell_type": "code",
   "execution_count": 22,
   "metadata": {},
   "outputs": [
    {
     "data": {
      "text/html": [
       "<div>\n",
       "<style scoped>\n",
       "    .dataframe tbody tr th:only-of-type {\n",
       "        vertical-align: middle;\n",
       "    }\n",
       "\n",
       "    .dataframe tbody tr th {\n",
       "        vertical-align: top;\n",
       "    }\n",
       "\n",
       "    .dataframe thead th {\n",
       "        text-align: right;\n",
       "    }\n",
       "</style>\n",
       "<table border=\"1\" class=\"dataframe\">\n",
       "  <thead>\n",
       "    <tr style=\"text-align: right;\">\n",
       "      <th></th>\n",
       "      <th>Unnamed: 0</th>\n",
       "      <th>Buy Ts</th>\n",
       "      <th>Revenue</th>\n",
       "      <th>Uid</th>\n",
       "      <th>first_buy</th>\n",
       "      <th>first_order_month</th>\n",
       "      <th>order_month</th>\n",
       "    </tr>\n",
       "  </thead>\n",
       "  <tbody>\n",
       "    <tr>\n",
       "      <th>0</th>\n",
       "      <td>0</td>\n",
       "      <td>2017-06-01 00:10:00</td>\n",
       "      <td>17.00</td>\n",
       "      <td>10329302124590727494</td>\n",
       "      <td>2017-06-01 00:10:00</td>\n",
       "      <td>2017-06-01</td>\n",
       "      <td>2017-06-01</td>\n",
       "    </tr>\n",
       "    <tr>\n",
       "      <th>1</th>\n",
       "      <td>1</td>\n",
       "      <td>2017-06-01 00:25:00</td>\n",
       "      <td>0.55</td>\n",
       "      <td>11627257723692907447</td>\n",
       "      <td>2017-06-01 00:25:00</td>\n",
       "      <td>2017-06-01</td>\n",
       "      <td>2017-06-01</td>\n",
       "    </tr>\n",
       "    <tr>\n",
       "      <th>2</th>\n",
       "      <td>2</td>\n",
       "      <td>2017-06-01 00:27:00</td>\n",
       "      <td>0.37</td>\n",
       "      <td>17903680561304213844</td>\n",
       "      <td>2017-06-01 00:27:00</td>\n",
       "      <td>2017-06-01</td>\n",
       "      <td>2017-06-01</td>\n",
       "    </tr>\n",
       "    <tr>\n",
       "      <th>3</th>\n",
       "      <td>3</td>\n",
       "      <td>2017-06-01 00:29:00</td>\n",
       "      <td>0.55</td>\n",
       "      <td>16109239769442553005</td>\n",
       "      <td>2017-06-01 00:29:00</td>\n",
       "      <td>2017-06-01</td>\n",
       "      <td>2017-06-01</td>\n",
       "    </tr>\n",
       "    <tr>\n",
       "      <th>4</th>\n",
       "      <td>4</td>\n",
       "      <td>2017-06-01 07:58:00</td>\n",
       "      <td>0.37</td>\n",
       "      <td>14200605875248379450</td>\n",
       "      <td>2017-06-01 07:58:00</td>\n",
       "      <td>2017-06-01</td>\n",
       "      <td>2017-06-01</td>\n",
       "    </tr>\n",
       "  </tbody>\n",
       "</table>\n",
       "</div>"
      ],
      "text/plain": [
       "   Unnamed: 0              Buy Ts  Revenue                   Uid  \\\n",
       "0           0 2017-06-01 00:10:00    17.00  10329302124590727494   \n",
       "1           1 2017-06-01 00:25:00     0.55  11627257723692907447   \n",
       "2           2 2017-06-01 00:27:00     0.37  17903680561304213844   \n",
       "3           3 2017-06-01 00:29:00     0.55  16109239769442553005   \n",
       "4           4 2017-06-01 07:58:00     0.37  14200605875248379450   \n",
       "\n",
       "            first_buy first_order_month order_month  \n",
       "0 2017-06-01 00:10:00        2017-06-01  2017-06-01  \n",
       "1 2017-06-01 00:25:00        2017-06-01  2017-06-01  \n",
       "2 2017-06-01 00:27:00        2017-06-01  2017-06-01  \n",
       "3 2017-06-01 00:29:00        2017-06-01  2017-06-01  \n",
       "4 2017-06-01 07:58:00        2017-06-01  2017-06-01  "
      ]
     },
     "execution_count": 22,
     "metadata": {},
     "output_type": "execute_result"
    }
   ],
   "source": [
    "# переведем все в нужные нам форматы\n",
    "orders['first_order_month'] = orders['first_buy'].astype('datetime64[M]')\n",
    "orders['order_month'] = orders['Buy Ts'].astype(\n",
    "    'datetime64[M]')  # переведем все в нужные нам форматы\n",
    "orders.head()"
   ]
  },
  {
   "cell_type": "code",
   "execution_count": 23,
   "metadata": {},
   "outputs": [],
   "source": [
    "# добавим время певого входа на сайт\n",
    "orders = orders.merge(first_dates, on='Uid')"
   ]
  },
  {
   "cell_type": "markdown",
   "metadata": {},
   "source": [
    "Рассчитаем среднее время, которое проходит с момента входа, до момента покупки. Для удобства переведем в минуты."
   ]
  },
  {
   "cell_type": "code",
   "execution_count": 24,
   "metadata": {},
   "outputs": [
    {
     "data": {
      "text/plain": [
       "<matplotlib.axes._subplots.AxesSubplot at 0x270c3972400>"
      ]
     },
     "execution_count": 24,
     "metadata": {},
     "output_type": "execute_result"
    },
    {
     "data": {
      "image/png": "[encoded data removed]",
      "text/plain": [
       "<Figure size 432x288 with 1 Axes>"
      ]
     },
     "metadata": {},
     "output_type": "display_data"
    }
   ],
   "source": [
    "# нужный тип\n",
    "orders['first_buy'] = pd.to_datetime(orders['first_buy'])\n",
    "\n",
    "# посчитам время в секундах между входом и покупкой\n",
    "orders['time_to_buy'] = (\n",
    "    orders['first_buy'] - orders['first_dates']).dt.seconds\n",
    "\n",
    "# взглянем на распределение\n",
    "orders['time_to_buy'].hist(bins=100)"
   ]
  },
  {
   "cell_type": "code",
   "execution_count": 25,
   "metadata": {},
   "outputs": [
    {
     "data": {
      "text/plain": [
       "<matplotlib.axes._subplots.AxesSubplot at 0x270c1906f60>"
      ]
     },
     "execution_count": 25,
     "metadata": {},
     "output_type": "execute_result"
    },
    {
     "data": {
      "image/png": "[encoded data removed]",
      "text/plain": [
       "<Figure size 432x288 with 1 Axes>"
      ]
     },
     "metadata": {},
     "output_type": "display_data"
    }
   ],
   "source": [
    "# посмотрим выбросы\n",
    "orders.boxplot('time_to_buy')"
   ]
  },
  {
   "cell_type": "code",
   "execution_count": 26,
   "metadata": {},
   "outputs": [
    {
     "name": "stdout",
     "output_type": "stream",
     "text": [
      "Среднее время до покупки: 11 минут\n"
     ]
    }
   ],
   "source": [
    "# избавимся от выбросов\n",
    "gg = orders[orders['time_to_buy'] < 50000]\n",
    "print('Среднее время до покупки:', int(\n",
    "    gg['time_to_buy'].median() / 60), 'минут')\n",
    "gg = gg.merge(visits[['Start Ts', 'End Ts', 'Uid']], on='Uid')"
   ]
  },
  {
   "cell_type": "code",
   "execution_count": 27,
   "metadata": {},
   "outputs": [
    {
     "name": "stdout",
     "output_type": "stream",
     "text": [
      "В среднем пользователю нужно 2.3 заходов, чтобы совершить 1.3 покупок\n"
     ]
    }
   ],
   "source": [
    "# посчитаем сколько нужно сессий, чтобы совершить покупку\n",
    "gg1 = gg[['Buy Ts', 'Uid', 'Start Ts', 'End Ts']]\n",
    "gg1 = gg1.groupby('Uid').agg(\n",
    "    {'Start Ts': 'nunique', 'Buy Ts': 'nunique'}).reset_index()\n",
    "print('В среднем пользователю нужно {:.1f} заходов, чтобы совершить {:.1f} покупок'.format(\n",
    "    gg1['Start Ts'].mean(), gg1['Buy Ts'].mean()))"
   ]
  },
  {
   "cell_type": "markdown",
   "metadata": {},
   "source": [
    "Создадим метрику, назовем ее SAB (session and buy), которая покажет нам отношение количество покупок к количеству заказов. Если SAB <1, то заходов больше, чем покупок. Если SAB = 1, то эти показатели равны."
   ]
  },
  {
   "cell_type": "code",
   "execution_count": 28,
   "metadata": {},
   "outputs": [
    {
     "name": "stdout",
     "output_type": "stream",
     "text": [
      "SAB = 0.81\n"
     ]
    }
   ],
   "source": [
    "gg1['metrica'] = gg1['Buy Ts'] / gg1['Start Ts']\n",
    "print('SAB = {:.2f}'.format(gg1['metrica'].mean()))"
   ]
  },
  {
   "cell_type": "markdown",
   "metadata": {},
   "source": [
    "### Вывод\n",
    "\n",
    "Люди довольно долго изучают наш продукт, прежде чем купить. Возможно, связанно с широким ассортиментов 'афиш'\n",
    "\n",
    "Но в среднем мы движемся к тому, чтобы каждая сессия завершалась продажей, люди заходят к нам с определенной целью, совершить покупку"
   ]
  },
  {
   "cell_type": "markdown",
   "metadata": {},
   "source": [
    "**Сколько раз покупают за период?**"
   ]
  },
  {
   "cell_type": "code",
   "execution_count": 29,
   "metadata": {},
   "outputs": [
    {
     "name": "stdout",
     "output_type": "stream",
     "text": [
      "Среднее количеcтво покупок за месяц: 3878\n"
     ]
    }
   ],
   "source": [
    "# периодом возьмем месяц\n",
    "count_purchase = orders.groupby(['order_month']).agg({'Revenue': 'count'})\n",
    "print('Среднее количеcтво покупок за месяц:',\n",
    "      int(count_purchase['Revenue'].mean()))"
   ]
  },
  {
   "cell_type": "code",
   "execution_count": 30,
   "metadata": {},
   "outputs": [
    {
     "name": "stdout",
     "output_type": "stream",
     "text": [
      "Среднее количество покупок на 1 покупателя:1.0\n"
     ]
    }
   ],
   "source": [
    "gg_mean = gg.groupby('Uid').agg({'Buy Ts': 'nunique'})\n",
    "print('Среднее количество покупок на 1 покупателя:{:.1f}'.format(\n",
    "    gg_mean['Buy Ts'].median()))"
   ]
  },
  {
   "cell_type": "markdown",
   "metadata": {},
   "source": [
    "### Вывод\n",
    "\n",
    "Покупок в месяц много, но это все новые клиенты. Клиенты в среднем совершают только 1 покупку. Это логично, Retention то низкий. Отдел маркетинга хорошо привлекает клиентов, но плохо удерживает."
   ]
  },
  {
   "cell_type": "markdown",
   "metadata": {},
   "source": [
    "<a name=\"3.2.\"><a/><br/>\n",
    "    <font size =\"4\"><b>3.2.Cредний чек</b></font><br/>\n",
    "[<font size=\"2\">(к содержанию)</font>](#1common.)"
   ]
  },
  {
   "cell_type": "markdown",
   "metadata": {},
   "source": [
    "Проведем когортный анализ изменения среднего чека за период в 12 месяцев. Когорта - месяц, действия - средняя покупка одного клиента"
   ]
  },
  {
   "cell_type": "code",
   "execution_count": 31,
   "metadata": {},
   "outputs": [
    {
     "data": {
      "text/html": [
       "<div>\n",
       "<style scoped>\n",
       "    .dataframe tbody tr th:only-of-type {\n",
       "        vertical-align: middle;\n",
       "    }\n",
       "\n",
       "    .dataframe tbody tr th {\n",
       "        vertical-align: top;\n",
       "    }\n",
       "\n",
       "    .dataframe thead th {\n",
       "        text-align: right;\n",
       "    }\n",
       "</style>\n",
       "<table border=\"1\" class=\"dataframe\">\n",
       "  <thead>\n",
       "    <tr style=\"text-align: right;\">\n",
       "      <th></th>\n",
       "      <th></th>\n",
       "      <th>Revenue</th>\n",
       "      <th>Uid</th>\n",
       "      <th>revenue_per_user</th>\n",
       "    </tr>\n",
       "    <tr>\n",
       "      <th>first_order_month</th>\n",
       "      <th>order_month</th>\n",
       "      <th></th>\n",
       "      <th></th>\n",
       "      <th></th>\n",
       "    </tr>\n",
       "  </thead>\n",
       "  <tbody>\n",
       "    <tr>\n",
       "      <th rowspan=\"5\" valign=\"top\">2017-06-01</th>\n",
       "      <th>2017-06-01</th>\n",
       "      <td>9557.49</td>\n",
       "      <td>2023</td>\n",
       "      <td>4.724414</td>\n",
       "    </tr>\n",
       "    <tr>\n",
       "      <th>2017-07-01</th>\n",
       "      <td>981.82</td>\n",
       "      <td>61</td>\n",
       "      <td>16.095410</td>\n",
       "    </tr>\n",
       "    <tr>\n",
       "      <th>2017-08-01</th>\n",
       "      <td>885.34</td>\n",
       "      <td>50</td>\n",
       "      <td>17.706800</td>\n",
       "    </tr>\n",
       "    <tr>\n",
       "      <th>2017-09-01</th>\n",
       "      <td>1931.30</td>\n",
       "      <td>54</td>\n",
       "      <td>35.764815</td>\n",
       "    </tr>\n",
       "    <tr>\n",
       "      <th>2017-10-01</th>\n",
       "      <td>2068.58</td>\n",
       "      <td>88</td>\n",
       "      <td>23.506591</td>\n",
       "    </tr>\n",
       "  </tbody>\n",
       "</table>\n",
       "</div>"
      ],
      "text/plain": [
       "                               Revenue   Uid  revenue_per_user\n",
       "first_order_month order_month                                 \n",
       "2017-06-01        2017-06-01   9557.49  2023          4.724414\n",
       "                  2017-07-01    981.82    61         16.095410\n",
       "                  2017-08-01    885.34    50         17.706800\n",
       "                  2017-09-01   1931.30    54         35.764815\n",
       "                  2017-10-01   2068.58    88         23.506591"
      ]
     },
     "execution_count": 31,
     "metadata": {},
     "output_type": "execute_result"
    }
   ],
   "source": [
    "# сгруппироуем по месяцам\n",
    "orders_cohorts = orders.groupby(\n",
    "    ['first_order_month', 'order_month']).agg({'Revenue': 'sum', 'Uid': 'nunique'})\n",
    "\n",
    "# найдем выручку с одного клиента\n",
    "orders_cohorts['revenue_per_user'] = orders_cohorts['Revenue'] / \\\n",
    "    orders_cohorts['Uid']\n",
    "orders_cohorts.head()"
   ]
  },
  {
   "cell_type": "code",
   "execution_count": 32,
   "metadata": {},
   "outputs": [],
   "source": [
    "# добавим срок жизни когорты\n",
    "orders_cohorts = orders_cohorts.reset_index()\n",
    "orders_cohorts['cohort_lifetime'] = orders_cohorts['order_month'] - \\\n",
    "    orders_cohorts['first_order_month']\n",
    "orders_cohorts['cohort_lifetime'] = orders_cohorts['cohort_lifetime'] / \\\n",
    "    np.timedelta64(1, 'M')\n",
    "\n",
    "# приведем к нужным типам\n",
    "orders_cohorts['cohort_lifetime'] = orders_cohorts['cohort_lifetime'].round(\n",
    ").astype('int')\n",
    "orders_cohorts['first_order_month'] = orders_cohorts['first_order_month'].dt.strftime(\n",
    "    '%Y-%m')"
   ]
  },
  {
   "cell_type": "markdown",
   "metadata": {},
   "source": [
    "Взглянем на изменение среднего чека с помощью heatmap в абсолютных показателях."
   ]
  },
  {
   "cell_type": "code",
   "execution_count": 33,
   "metadata": {},
   "outputs": [
    {
     "data": {
      "text/plain": [
       "<matplotlib.axes._subplots.AxesSubplot at 0x270c398e4e0>"
      ]
     },
     "execution_count": 33,
     "metadata": {},
     "output_type": "execute_result"
    },
    {
     "data": {
      "image/png": "[encoded data removed]",
      "text/plain": [
       "<Figure size 936x648 with 2 Axes>"
      ]
     },
     "metadata": {},
     "output_type": "display_data"
    }
   ],
   "source": [
    "orders_cohorts['revenue_per_user'] = orders_cohorts['revenue_per_user'].round(\n",
    "    2)\n",
    "revenue_per_user_pivot = orders_cohorts.pivot_table(\n",
    "    index='first_order_month',\n",
    "    columns='cohort_lifetime',\n",
    "    values='revenue_per_user',\n",
    "    aggfunc='sum')\n",
    "plt.figure(figsize=(13, 9))\n",
    "plt.title('Средний чек покупателей')\n",
    "sns.heatmap(revenue_per_user_pivot, annot=True, fmt='.1f',\n",
    "            linewidths=1, linecolor='white', cmap='YlGnBu', vmax=50)"
   ]
  },
  {
   "cell_type": "code",
   "execution_count": 41,
   "metadata": {},
   "outputs": [
    {
     "data": {
      "text/plain": [
       "Text(0.5, 1.0, 'Средний чек в месяц')"
      ]
     },
     "execution_count": 41,
     "metadata": {},
     "output_type": "execute_result"
    },
    {
     "data": {
      "image/png": "[encoded data removed]",
      "text/plain": [
       "<Figure size 864x360 with 1 Axes>"
      ]
     },
     "metadata": {},
     "output_type": "display_data"
    }
   ],
   "source": [
    "orders['order_month'] = pd.to_datetime(orders['order_month'])\n",
    "orders['order_month'] = orders['order_month'].dt.date\n",
    "\n",
    "# найдем выручку за каждый месяц и количество покупок nunique\n",
    "mean_revenue = orders.groupby(\n",
    "    'order_month').agg({'Revenue': 'sum', 'Buy Ts': 'count'})\n",
    "\n",
    "# посчитаем средний чек в когорт, выручку за все время существования клиентов поделим на количество клиентов\n",
    "mean_revenue['one_purchase'] = mean_revenue['Revenue'] / mean_revenue['Buy Ts']\n",
    "\n",
    "# количество выручки в месяц я делю на количество чеков\n",
    "mean_revenue['one_purchase'].plot.bar(grid=True, figsize=(12, 5))\n",
    "plt.xlabel('Месяц', fontsize=15, color='blue')\n",
    "plt.ylabel('Средний чек', fontsize=15, color='blue')\n",
    "plt.title('Средний чек в месяц', fontsize=17)"
   ]
  },
  {
   "cell_type": "code",
   "execution_count": 36,
   "metadata": {},
   "outputs": [
    {
     "name": "stdout",
     "output_type": "stream",
     "text": [
      "Средний чек:4.84\n"
     ]
    }
   ],
   "source": [
    "print('Средний чек:{:.2f}'.format(mean_revenue['one_purchase'].mean()))"
   ]
  },
  {
   "cell_type": "markdown",
   "metadata": {},
   "source": [
    "### Вывод\n",
    "\n",
    "Наблюдается тенденция роста среднего чека с увеличением срока жизни когорты. Люди, которые остаются с нами начинают нам доверять и платить больше. Нужно подумать о увеличении Retention Rate\n",
    "\n",
    "Средний чек больше все у 1 и 4 когорты, нужно проверить как мы привлекали клиентов в этот месяц"
   ]
  },
  {
   "cell_type": "markdown",
   "metadata": {},
   "source": [
    "<a name=\"3.3.\"><a/><br/>\n",
    "    <font size =\"4\"><b>3.3.LTV</b></font><br/>\n",
    "[<font size=\"2\">(к содержанию)</font>](#1common.)"
   ]
  },
  {
   "cell_type": "markdown",
   "metadata": {},
   "source": [
    "Проведем кагорный анализ показателя средней валовой прибыли на одного клиента за весь его срок пользования нашим сервисом"
   ]
  },
  {
   "cell_type": "code",
   "execution_count": 37,
   "metadata": {},
   "outputs": [],
   "source": [
    "# сгруппируем по пользователям, найем первый месяц заказа и сумму выручки\n",
    "first_orders = orders.groupby('Uid').agg(\n",
    "    {'order_month': 'min', 'Revenue': 'sum'}).reset_index()\n",
    "first_orders.columns = ['uid', 'first_order_month', 'revenue']\n",
    "\n",
    "# найдем количество новых покупателей каждый месяц\n",
    "cohort_sizes = first_orders.groupby('first_order_month').agg(\n",
    "    {'uid': 'nunique'}).reset_index()\n",
    "cohort_sizes.columns = ['first_order_month', 'n_buyers']"
   ]
  },
  {
   "cell_type": "code",
   "execution_count": 44,
   "metadata": {},
   "outputs": [
    {
     "data": {
      "text/html": [
       "<div>\n",
       "<style scoped>\n",
       "    .dataframe tbody tr th:only-of-type {\n",
       "        vertical-align: middle;\n",
       "    }\n",
       "\n",
       "    .dataframe tbody tr th {\n",
       "        vertical-align: top;\n",
       "    }\n",
       "\n",
       "    .dataframe thead th {\n",
       "        text-align: right;\n",
       "    }\n",
       "</style>\n",
       "<table border=\"1\" class=\"dataframe\">\n",
       "  <thead>\n",
       "    <tr style=\"text-align: right;\">\n",
       "      <th></th>\n",
       "      <th>first_order_month</th>\n",
       "      <th>n_buyers</th>\n",
       "      <th>order_month</th>\n",
       "      <th>Revenue</th>\n",
       "    </tr>\n",
       "  </thead>\n",
       "  <tbody>\n",
       "    <tr>\n",
       "      <th>0</th>\n",
       "      <td>2017-06-01</td>\n",
       "      <td>2023</td>\n",
       "      <td>2017-06-01</td>\n",
       "      <td>9557.49</td>\n",
       "    </tr>\n",
       "    <tr>\n",
       "      <th>1</th>\n",
       "      <td>2017-06-01</td>\n",
       "      <td>2023</td>\n",
       "      <td>2017-07-01</td>\n",
       "      <td>981.82</td>\n",
       "    </tr>\n",
       "    <tr>\n",
       "      <th>2</th>\n",
       "      <td>2017-06-01</td>\n",
       "      <td>2023</td>\n",
       "      <td>2017-08-01</td>\n",
       "      <td>885.34</td>\n",
       "    </tr>\n",
       "    <tr>\n",
       "      <th>3</th>\n",
       "      <td>2017-06-01</td>\n",
       "      <td>2023</td>\n",
       "      <td>2017-09-01</td>\n",
       "      <td>1931.30</td>\n",
       "    </tr>\n",
       "    <tr>\n",
       "      <th>4</th>\n",
       "      <td>2017-06-01</td>\n",
       "      <td>2023</td>\n",
       "      <td>2017-10-01</td>\n",
       "      <td>2068.58</td>\n",
       "    </tr>\n",
       "  </tbody>\n",
       "</table>\n",
       "</div>"
      ],
      "text/plain": [
       "  first_order_month  n_buyers order_month  Revenue\n",
       "0        2017-06-01      2023  2017-06-01  9557.49\n",
       "1        2017-06-01      2023  2017-07-01   981.82\n",
       "2        2017-06-01      2023  2017-08-01   885.34\n",
       "3        2017-06-01      2023  2017-09-01  1931.30\n",
       "4        2017-06-01      2023  2017-10-01  2068.58"
      ]
     },
     "execution_count": 44,
     "metadata": {},
     "output_type": "execute_result"
    }
   ],
   "source": [
    "# найдем сумму по выручке за каждый месяц\n",
    "cohorts_for_ltv = orders.groupby(['first_order_month', 'order_month']).agg({\n",
    "    'Revenue': 'sum'}).reset_index()\n",
    "\n",
    "cohort_sizes['first_order_month'] = pd.to_datetime(\n",
    "    cohort_sizes['first_order_month'])\n",
    "cohorts_for_ltv['first_order_month'] = pd.to_datetime(\n",
    "    cohorts_for_ltv['first_order_month'])\n",
    "\n",
    "# объединим все таблциы в одну\n",
    "report = pd.merge(cohort_sizes, cohorts_for_ltv, on='first_order_month')\n",
    "report['order_month'] = pd.to_datetime(report['order_month'])\n",
    "report.head()"
   ]
  },
  {
   "cell_type": "code",
   "execution_count": 45,
   "metadata": {},
   "outputs": [
    {
     "data": {
      "text/html": [
       "<div>\n",
       "<style scoped>\n",
       "    .dataframe tbody tr th:only-of-type {\n",
       "        vertical-align: middle;\n",
       "    }\n",
       "\n",
       "    .dataframe tbody tr th {\n",
       "        vertical-align: top;\n",
       "    }\n",
       "\n",
       "    .dataframe thead th {\n",
       "        text-align: right;\n",
       "    }\n",
       "</style>\n",
       "<table border=\"1\" class=\"dataframe\">\n",
       "  <thead>\n",
       "    <tr style=\"text-align: right;\">\n",
       "      <th></th>\n",
       "      <th>first_order_month</th>\n",
       "      <th>n_buyers</th>\n",
       "      <th>order_month</th>\n",
       "      <th>Revenue</th>\n",
       "      <th>val_prof</th>\n",
       "      <th>age</th>\n",
       "      <th>ltv</th>\n",
       "    </tr>\n",
       "  </thead>\n",
       "  <tbody>\n",
       "    <tr>\n",
       "      <th>0</th>\n",
       "      <td>2017-06-01</td>\n",
       "      <td>2023</td>\n",
       "      <td>2017-06-01</td>\n",
       "      <td>9557.49</td>\n",
       "      <td>2867.247</td>\n",
       "      <td>0</td>\n",
       "      <td>1.417324</td>\n",
       "    </tr>\n",
       "    <tr>\n",
       "      <th>1</th>\n",
       "      <td>2017-06-01</td>\n",
       "      <td>2023</td>\n",
       "      <td>2017-07-01</td>\n",
       "      <td>981.82</td>\n",
       "      <td>294.546</td>\n",
       "      <td>1</td>\n",
       "      <td>0.145599</td>\n",
       "    </tr>\n",
       "    <tr>\n",
       "      <th>2</th>\n",
       "      <td>2017-06-01</td>\n",
       "      <td>2023</td>\n",
       "      <td>2017-08-01</td>\n",
       "      <td>885.34</td>\n",
       "      <td>265.602</td>\n",
       "      <td>2</td>\n",
       "      <td>0.131291</td>\n",
       "    </tr>\n",
       "    <tr>\n",
       "      <th>3</th>\n",
       "      <td>2017-06-01</td>\n",
       "      <td>2023</td>\n",
       "      <td>2017-09-01</td>\n",
       "      <td>1931.30</td>\n",
       "      <td>579.390</td>\n",
       "      <td>3</td>\n",
       "      <td>0.286401</td>\n",
       "    </tr>\n",
       "    <tr>\n",
       "      <th>4</th>\n",
       "      <td>2017-06-01</td>\n",
       "      <td>2023</td>\n",
       "      <td>2017-10-01</td>\n",
       "      <td>2068.58</td>\n",
       "      <td>620.574</td>\n",
       "      <td>4</td>\n",
       "      <td>0.306759</td>\n",
       "    </tr>\n",
       "  </tbody>\n",
       "</table>\n",
       "</div>"
      ],
      "text/plain": [
       "  first_order_month  n_buyers order_month  Revenue  val_prof  age       ltv\n",
       "0        2017-06-01      2023  2017-06-01  9557.49  2867.247    0  1.417324\n",
       "1        2017-06-01      2023  2017-07-01   981.82   294.546    1  0.145599\n",
       "2        2017-06-01      2023  2017-08-01   885.34   265.602    2  0.131291\n",
       "3        2017-06-01      2023  2017-09-01  1931.30   579.390    3  0.286401\n",
       "4        2017-06-01      2023  2017-10-01  2068.58   620.574    4  0.306759"
      ]
     },
     "execution_count": 45,
     "metadata": {},
     "output_type": "execute_result"
    }
   ],
   "source": [
    "# маржинальность возьмем на уровне 30%\n",
    "margin_rate = 0.3\n",
    "\n",
    "# Посчитаем валовую прибыль и возраст наших когорт\n",
    "report['val_prof'] = report['Revenue'] * margin_rate\n",
    "report['age'] = (report['order_month'] -\n",
    "                 report['first_order_month']) / np.timedelta64(1, 'M')\n",
    "report['age'] = report['age'].round().astype('int')\n",
    "\n",
    "# найдем ltv на каждого клиента\n",
    "report['ltv'] = report['val_prof'] / \\\n",
    "    report['n_buyers']  # найдем ltv на каждого клиента\n",
    "report.head()"
   ]
  },
  {
   "cell_type": "code",
   "execution_count": 46,
   "metadata": {},
   "outputs": [
    {
     "data": {
      "text/html": [
       "<div>\n",
       "<style scoped>\n",
       "    .dataframe tbody tr th:only-of-type {\n",
       "        vertical-align: middle;\n",
       "    }\n",
       "\n",
       "    .dataframe tbody tr th {\n",
       "        vertical-align: top;\n",
       "    }\n",
       "\n",
       "    .dataframe thead th {\n",
       "        text-align: right;\n",
       "    }\n",
       "</style>\n",
       "<table border=\"1\" class=\"dataframe\">\n",
       "  <thead>\n",
       "    <tr style=\"text-align: right;\">\n",
       "      <th>age</th>\n",
       "      <th>0</th>\n",
       "      <th>1</th>\n",
       "      <th>2</th>\n",
       "      <th>3</th>\n",
       "      <th>4</th>\n",
       "      <th>5</th>\n",
       "      <th>6</th>\n",
       "      <th>7</th>\n",
       "      <th>8</th>\n",
       "      <th>9</th>\n",
       "      <th>10</th>\n",
       "      <th>11</th>\n",
       "    </tr>\n",
       "    <tr>\n",
       "      <th>first_order_month</th>\n",
       "      <th></th>\n",
       "      <th></th>\n",
       "      <th></th>\n",
       "      <th></th>\n",
       "      <th></th>\n",
       "      <th></th>\n",
       "      <th></th>\n",
       "      <th></th>\n",
       "      <th></th>\n",
       "      <th></th>\n",
       "      <th></th>\n",
       "      <th></th>\n",
       "    </tr>\n",
       "  </thead>\n",
       "  <tbody>\n",
       "    <tr>\n",
       "      <th>2017-06-01</th>\n",
       "      <td>1.417</td>\n",
       "      <td>0.146</td>\n",
       "      <td>0.131</td>\n",
       "      <td>0.286</td>\n",
       "      <td>0.307</td>\n",
       "      <td>0.221</td>\n",
       "      <td>0.285</td>\n",
       "      <td>0.174</td>\n",
       "      <td>0.166</td>\n",
       "      <td>0.182</td>\n",
       "      <td>0.171</td>\n",
       "      <td>0.077</td>\n",
       "    </tr>\n",
       "    <tr>\n",
       "      <th>2017-07-01</th>\n",
       "      <td>1.803</td>\n",
       "      <td>0.101</td>\n",
       "      <td>0.187</td>\n",
       "      <td>0.108</td>\n",
       "      <td>0.053</td>\n",
       "      <td>0.047</td>\n",
       "      <td>0.036</td>\n",
       "      <td>0.043</td>\n",
       "      <td>0.048</td>\n",
       "      <td>0.044</td>\n",
       "      <td>0.047</td>\n",
       "      <td></td>\n",
       "    </tr>\n",
       "    <tr>\n",
       "      <th>2017-08-01</th>\n",
       "      <td>1.583</td>\n",
       "      <td>0.142</td>\n",
       "      <td>0.138</td>\n",
       "      <td>0.117</td>\n",
       "      <td>0.148</td>\n",
       "      <td>0.085</td>\n",
       "      <td>0.063</td>\n",
       "      <td>0.122</td>\n",
       "      <td>0.088</td>\n",
       "      <td>0.056</td>\n",
       "      <td></td>\n",
       "      <td></td>\n",
       "    </tr>\n",
       "    <tr>\n",
       "      <th>2017-09-01</th>\n",
       "      <td>1.693</td>\n",
       "      <td>0.335</td>\n",
       "      <td>0.156</td>\n",
       "      <td>1.193</td>\n",
       "      <td>0.12</td>\n",
       "      <td>0.194</td>\n",
       "      <td>0.21</td>\n",
       "      <td>0.073</td>\n",
       "      <td>0.055</td>\n",
       "      <td></td>\n",
       "      <td></td>\n",
       "      <td></td>\n",
       "    </tr>\n",
       "    <tr>\n",
       "      <th>2017-10-01</th>\n",
       "      <td>1.501</td>\n",
       "      <td>0.161</td>\n",
       "      <td>0.057</td>\n",
       "      <td>0.047</td>\n",
       "      <td>0.045</td>\n",
       "      <td>0.036</td>\n",
       "      <td>0.025</td>\n",
       "      <td>0.035</td>\n",
       "      <td></td>\n",
       "      <td></td>\n",
       "      <td></td>\n",
       "      <td></td>\n",
       "    </tr>\n",
       "    <tr>\n",
       "      <th>2017-11-01</th>\n",
       "      <td>1.546</td>\n",
       "      <td>0.12</td>\n",
       "      <td>0.06</td>\n",
       "      <td>0.097</td>\n",
       "      <td>0.044</td>\n",
       "      <td>0.016</td>\n",
       "      <td>0.034</td>\n",
       "      <td></td>\n",
       "      <td></td>\n",
       "      <td></td>\n",
       "      <td></td>\n",
       "      <td></td>\n",
       "    </tr>\n",
       "    <tr>\n",
       "      <th>2017-12-01</th>\n",
       "      <td>1.421</td>\n",
       "      <td>0.078</td>\n",
       "      <td>0.278</td>\n",
       "      <td>0.32</td>\n",
       "      <td>0.094</td>\n",
       "      <td>0.101</td>\n",
       "      <td></td>\n",
       "      <td></td>\n",
       "      <td></td>\n",
       "      <td></td>\n",
       "      <td></td>\n",
       "      <td></td>\n",
       "    </tr>\n",
       "    <tr>\n",
       "      <th>2018-01-01</th>\n",
       "      <td>1.241</td>\n",
       "      <td>0.088</td>\n",
       "      <td>0.091</td>\n",
       "      <td>0.043</td>\n",
       "      <td>0.019</td>\n",
       "      <td></td>\n",
       "      <td></td>\n",
       "      <td></td>\n",
       "      <td></td>\n",
       "      <td></td>\n",
       "      <td></td>\n",
       "      <td></td>\n",
       "    </tr>\n",
       "    <tr>\n",
       "      <th>2018-02-01</th>\n",
       "      <td>1.247</td>\n",
       "      <td>0.083</td>\n",
       "      <td>0.024</td>\n",
       "      <td>0.022</td>\n",
       "      <td></td>\n",
       "      <td></td>\n",
       "      <td></td>\n",
       "      <td></td>\n",
       "      <td></td>\n",
       "      <td></td>\n",
       "      <td></td>\n",
       "      <td></td>\n",
       "    </tr>\n",
       "    <tr>\n",
       "      <th>2018-03-01</th>\n",
       "      <td>1.452</td>\n",
       "      <td>0.09</td>\n",
       "      <td>0.095</td>\n",
       "      <td></td>\n",
       "      <td></td>\n",
       "      <td></td>\n",
       "      <td></td>\n",
       "      <td></td>\n",
       "      <td></td>\n",
       "      <td></td>\n",
       "      <td></td>\n",
       "      <td></td>\n",
       "    </tr>\n",
       "    <tr>\n",
       "      <th>2018-04-01</th>\n",
       "      <td>1.397</td>\n",
       "      <td>0.159</td>\n",
       "      <td></td>\n",
       "      <td></td>\n",
       "      <td></td>\n",
       "      <td></td>\n",
       "      <td></td>\n",
       "      <td></td>\n",
       "      <td></td>\n",
       "      <td></td>\n",
       "      <td></td>\n",
       "      <td></td>\n",
       "    </tr>\n",
       "    <tr>\n",
       "      <th>2018-05-01</th>\n",
       "      <td>1.398</td>\n",
       "      <td></td>\n",
       "      <td></td>\n",
       "      <td></td>\n",
       "      <td></td>\n",
       "      <td></td>\n",
       "      <td></td>\n",
       "      <td></td>\n",
       "      <td></td>\n",
       "      <td></td>\n",
       "      <td></td>\n",
       "      <td></td>\n",
       "    </tr>\n",
       "    <tr>\n",
       "      <th>2018-06-01</th>\n",
       "      <td>1.026</td>\n",
       "      <td></td>\n",
       "      <td></td>\n",
       "      <td></td>\n",
       "      <td></td>\n",
       "      <td></td>\n",
       "      <td></td>\n",
       "      <td></td>\n",
       "      <td></td>\n",
       "      <td></td>\n",
       "      <td></td>\n",
       "      <td></td>\n",
       "    </tr>\n",
       "  </tbody>\n",
       "</table>\n",
       "</div>"
      ],
      "text/plain": [
       "age                   0      1      2      3      4      5      6      7   \\\n",
       "first_order_month                                                           \n",
       "2017-06-01         1.417  0.146  0.131  0.286  0.307  0.221  0.285  0.174   \n",
       "2017-07-01         1.803  0.101  0.187  0.108  0.053  0.047  0.036  0.043   \n",
       "2017-08-01         1.583  0.142  0.138  0.117  0.148  0.085  0.063  0.122   \n",
       "2017-09-01         1.693  0.335  0.156  1.193   0.12  0.194   0.21  0.073   \n",
       "2017-10-01         1.501  0.161  0.057  0.047  0.045  0.036  0.025  0.035   \n",
       "2017-11-01         1.546   0.12   0.06  0.097  0.044  0.016  0.034          \n",
       "2017-12-01         1.421  0.078  0.278   0.32  0.094  0.101                 \n",
       "2018-01-01         1.241  0.088  0.091  0.043  0.019                        \n",
       "2018-02-01         1.247  0.083  0.024  0.022                               \n",
       "2018-03-01         1.452   0.09  0.095                                      \n",
       "2018-04-01         1.397  0.159                                             \n",
       "2018-05-01         1.398                                                    \n",
       "2018-06-01         1.026                                                    \n",
       "\n",
       "age                   8      9      10     11  \n",
       "first_order_month                              \n",
       "2017-06-01         0.166  0.182  0.171  0.077  \n",
       "2017-07-01         0.048  0.044  0.047         \n",
       "2017-08-01         0.088  0.056                \n",
       "2017-09-01         0.055                       \n",
       "2017-10-01                                     \n",
       "2017-11-01                                     \n",
       "2017-12-01                                     \n",
       "2018-01-01                                     \n",
       "2018-02-01                                     \n",
       "2018-03-01                                     \n",
       "2018-04-01                                     \n",
       "2018-05-01                                     \n",
       "2018-06-01                                     "
      ]
     },
     "execution_count": 46,
     "metadata": {},
     "output_type": "execute_result"
    }
   ],
   "source": [
    "# выведем таблицей, как изменяется ltv с течением времени\n",
    "output = report.pivot_table(\n",
    "    index='first_order_month',\n",
    "    columns='age',\n",
    "    values='ltv',\n",
    "    aggfunc='mean').round(3)\n",
    "\n",
    "output.fillna('')"
   ]
  },
  {
   "cell_type": "code",
   "execution_count": 54,
   "metadata": {},
   "outputs": [],
   "source": [
    "# найдем выручку за все время существования клиента\n",
    "ltv_per_user = orders.groupby(\n",
    "    'first_order_month').agg({'Revenue': 'sum', 'Uid': 'nunique'}).reset_index()"
   ]
  },
  {
   "cell_type": "code",
   "execution_count": 55,
   "metadata": {},
   "outputs": [
    {
     "data": {
      "text/plain": [
       "Text(0.5, 1.0, 'LTV одного клиента в зависимости от периода пользования')"
      ]
     },
     "execution_count": 55,
     "metadata": {},
     "output_type": "execute_result"
    },
    {
     "data": {
      "image/png": "[encoded data removed]",
      "text/plain": [
       "<Figure size 864x360 with 1 Axes>"
      ]
     },
     "metadata": {},
     "output_type": "display_data"
    }
   ],
   "source": [
    "# найдем общий ltv на пользователя в зависимости от когорты\n",
    "ltv_per_user['per_user'] = (ltv_per_user['Revenue']\n",
    "                            * margin_rate) / ltv_per_user['Uid']\n",
    "ltv_per_user['per_user'].plot.bar(grid=True, figsize=(12, 5))\n",
    "plt.xlabel('Месяц', fontsize=15, color='blue')\n",
    "plt.ylabel('LTV', fontsize=15, color='blue')\n",
    "plt.title('LTV одного клиента в зависимости от периода пользования', fontsize=17)"
   ]
  },
  {
   "cell_type": "code",
   "execution_count": 56,
   "metadata": {},
   "outputs": [
    {
     "name": "stdout",
     "output_type": "stream",
     "text": [
      "CAC первой кагорты = 8.91\n",
      "LTV первой кагорты (за 12 месяцев) = 3.56\n"
     ]
    }
   ],
   "source": [
    "# Приведем к нужному типу\n",
    "report['first_order_month'] = pd.to_datetime(report['first_order_month'])\n",
    "\n",
    "costs['dt'] = pd.to_datetime(costs['dt'])\n",
    "costs['dt'] = costs['dt'].dt.strftime('%Y-%m')\n",
    "\n",
    "# Сделаем срез по первой кагорте и найдем сумму расходов по привлечению\n",
    "revenue_20170601 = report[report['first_order_month'] == '2017-06-01']\n",
    "costs_20170601 = costs[costs['dt'] == '2017-06']['costs'].sum()\n",
    "\n",
    "# Найдем новых пользователей и расчитаем нужныем нам показатели. Выведем на экран показатели первой кагорты\n",
    "n_buyers_20170601 = revenue_20170601['n_buyers'][0]\n",
    "cac_20170601 = costs_20170601 / n_buyers_20170601\n",
    "ltv_20170601 = output.loc['2017-06-01'].sum()\n",
    "print('CAC первой кагорты =', cac_20170601.round(2))\n",
    "print('LTV первой кагорты (за 12 месяцев) =', ltv_20170601.round(2))"
   ]
  },
  {
   "cell_type": "markdown",
   "metadata": {},
   "source": [
    "### Вывод\n",
    "\n",
    "LTV падаем с каждым месяцем. Это связано с низким коэффициентом удержания наших клиентов"
   ]
  },
  {
   "cell_type": "markdown",
   "metadata": {},
   "source": [
    "<a name=\"4.\"><a/><br/>\n",
    "    <font size =\"5\"><b>4.Анализ затрат на маркетинг</b></font><br/>\n",
    "[<font size=\"2\">(к содержанию)</font>](#1common.)\n",
    "    <a name=\"4.1.\"><a/><br/>\n",
    "    <font size =\"4\"><b>4.1.Расходы, CAC</b></font><br/>\n",
    "[<font size=\"2\">(к содержанию)</font>](#1common.)"
   ]
  },
  {
   "cell_type": "markdown",
   "metadata": {},
   "source": [
    "**Посчитаем CAC - расходы маркетинга на одного клиента. Данный показатель поможет дальше рассчитать нам ROMI - коэффициент возврата инвестиций в маркетинг**"
   ]
  },
  {
   "cell_type": "code",
   "execution_count": 40,
   "metadata": {},
   "outputs": [
    {
     "data": {
      "text/plain": [
       "dt\n",
       "2017-06    18015.00\n",
       "2017-07    18240.59\n",
       "2017-08    14790.54\n",
       "2017-09    24368.91\n",
       "2017-10    36322.88\n",
       "2017-11    37907.88\n",
       "2017-12    38315.35\n",
       "2018-01    33518.52\n",
       "2018-02    32723.03\n",
       "2018-03    30415.27\n",
       "2018-04    22289.38\n",
       "2018-05    22224.27\n",
       "Name: costs, dtype: float64"
      ]
     },
     "execution_count": 40,
     "metadata": {},
     "output_type": "execute_result"
    }
   ],
   "source": [
    "# найдем расходы на каждый месяц\n",
    "monthly_costs = costs.groupby('dt')['costs'].sum()\n",
    "monthly_costs"
   ]
  },
  {
   "cell_type": "code",
   "execution_count": 41,
   "metadata": {},
   "outputs": [
    {
     "data": {
      "text/html": [
       "<div>\n",
       "<style scoped>\n",
       "    .dataframe tbody tr th:only-of-type {\n",
       "        vertical-align: middle;\n",
       "    }\n",
       "\n",
       "    .dataframe tbody tr th {\n",
       "        vertical-align: top;\n",
       "    }\n",
       "\n",
       "    .dataframe thead th {\n",
       "        text-align: right;\n",
       "    }\n",
       "</style>\n",
       "<table border=\"1\" class=\"dataframe\">\n",
       "  <thead>\n",
       "    <tr style=\"text-align: right;\">\n",
       "      <th></th>\n",
       "      <th>first_order_month</th>\n",
       "      <th>n_buyers</th>\n",
       "      <th>order_month</th>\n",
       "      <th>Revenue</th>\n",
       "      <th>val_prof</th>\n",
       "      <th>age</th>\n",
       "      <th>ltv</th>\n",
       "      <th>costs</th>\n",
       "      <th>cac</th>\n",
       "    </tr>\n",
       "  </thead>\n",
       "  <tbody>\n",
       "    <tr>\n",
       "      <th>0</th>\n",
       "      <td>2017-06</td>\n",
       "      <td>2023</td>\n",
       "      <td>2017-06-01</td>\n",
       "      <td>9557.49</td>\n",
       "      <td>2867.247</td>\n",
       "      <td>0</td>\n",
       "      <td>1.417324</td>\n",
       "      <td>18015.0</td>\n",
       "      <td>8.905091</td>\n",
       "    </tr>\n",
       "    <tr>\n",
       "      <th>1</th>\n",
       "      <td>2017-06</td>\n",
       "      <td>2023</td>\n",
       "      <td>2017-07-01</td>\n",
       "      <td>981.82</td>\n",
       "      <td>294.546</td>\n",
       "      <td>1</td>\n",
       "      <td>0.145599</td>\n",
       "      <td>18015.0</td>\n",
       "      <td>8.905091</td>\n",
       "    </tr>\n",
       "    <tr>\n",
       "      <th>2</th>\n",
       "      <td>2017-06</td>\n",
       "      <td>2023</td>\n",
       "      <td>2017-08-01</td>\n",
       "      <td>885.34</td>\n",
       "      <td>265.602</td>\n",
       "      <td>2</td>\n",
       "      <td>0.131291</td>\n",
       "      <td>18015.0</td>\n",
       "      <td>8.905091</td>\n",
       "    </tr>\n",
       "    <tr>\n",
       "      <th>3</th>\n",
       "      <td>2017-06</td>\n",
       "      <td>2023</td>\n",
       "      <td>2017-09-01</td>\n",
       "      <td>1931.30</td>\n",
       "      <td>579.390</td>\n",
       "      <td>3</td>\n",
       "      <td>0.286401</td>\n",
       "      <td>18015.0</td>\n",
       "      <td>8.905091</td>\n",
       "    </tr>\n",
       "    <tr>\n",
       "      <th>4</th>\n",
       "      <td>2017-06</td>\n",
       "      <td>2023</td>\n",
       "      <td>2017-10-01</td>\n",
       "      <td>2068.58</td>\n",
       "      <td>620.574</td>\n",
       "      <td>4</td>\n",
       "      <td>0.306759</td>\n",
       "      <td>18015.0</td>\n",
       "      <td>8.905091</td>\n",
       "    </tr>\n",
       "  </tbody>\n",
       "</table>\n",
       "</div>"
      ],
      "text/plain": [
       "  first_order_month  n_buyers order_month  Revenue  val_prof  age       ltv  \\\n",
       "0           2017-06      2023  2017-06-01  9557.49  2867.247    0  1.417324   \n",
       "1           2017-06      2023  2017-07-01   981.82   294.546    1  0.145599   \n",
       "2           2017-06      2023  2017-08-01   885.34   265.602    2  0.131291   \n",
       "3           2017-06      2023  2017-09-01  1931.30   579.390    3  0.286401   \n",
       "4           2017-06      2023  2017-10-01  2068.58   620.574    4  0.306759   \n",
       "\n",
       "     costs       cac  \n",
       "0  18015.0  8.905091  \n",
       "1  18015.0  8.905091  \n",
       "2  18015.0  8.905091  \n",
       "3  18015.0  8.905091  \n",
       "4  18015.0  8.905091  "
      ]
     },
     "execution_count": 41,
     "metadata": {},
     "output_type": "execute_result"
    }
   ],
   "source": [
    "report['first_order_month'] = report['first_order_month'].dt.strftime('%Y-%m')\n",
    "\n",
    "# объединим с таблицей прибыли\n",
    "report_new = pd.merge(report, monthly_costs,\n",
    "                      left_on='first_order_month', right_on='dt')\n",
    "report_new['cac'] = report_new['costs'] / report_new['n_buyers']\n",
    "report_new.head()"
   ]
  },
  {
   "cell_type": "code",
   "execution_count": 42,
   "metadata": {},
   "outputs": [
    {
     "name": "stdout",
     "output_type": "stream",
     "text": [
      "Средний расход на привлечение 1 клиента:9.15\n"
     ]
    }
   ],
   "source": [
    "cac_mean = report_new.groupby('first_order_month')['cac'].mean().mean()\n",
    "print('Средний расход на привлечение 1 клиента:{:.2f}'.format(cac_mean))"
   ]
  },
  {
   "cell_type": "code",
   "execution_count": 43,
   "metadata": {},
   "outputs": [
    {
     "name": "stdout",
     "output_type": "stream",
     "text": [
      "Всего сумма расходов на маркетинг за год: 329131\n"
     ]
    }
   ],
   "source": [
    "print('Всего сумма расходов на маркетинг за год:', int(costs['costs'].sum()))"
   ]
  },
  {
   "cell_type": "code",
   "execution_count": 44,
   "metadata": {},
   "outputs": [
    {
     "data": {
      "text/html": [
       "<div>\n",
       "<style scoped>\n",
       "    .dataframe tbody tr th:only-of-type {\n",
       "        vertical-align: middle;\n",
       "    }\n",
       "\n",
       "    .dataframe tbody tr th {\n",
       "        vertical-align: top;\n",
       "    }\n",
       "\n",
       "    .dataframe thead th {\n",
       "        text-align: right;\n",
       "    }\n",
       "</style>\n",
       "<table border=\"1\" class=\"dataframe\">\n",
       "  <thead>\n",
       "    <tr style=\"text-align: right;\">\n",
       "      <th></th>\n",
       "      <th>costs</th>\n",
       "    </tr>\n",
       "    <tr>\n",
       "      <th>source_id</th>\n",
       "      <th></th>\n",
       "    </tr>\n",
       "  </thead>\n",
       "  <tbody>\n",
       "    <tr>\n",
       "      <th>9</th>\n",
       "      <td>5517.49</td>\n",
       "    </tr>\n",
       "    <tr>\n",
       "      <th>10</th>\n",
       "      <td>5822.49</td>\n",
       "    </tr>\n",
       "    <tr>\n",
       "      <th>1</th>\n",
       "      <td>20833.27</td>\n",
       "    </tr>\n",
       "    <tr>\n",
       "      <th>2</th>\n",
       "      <td>42806.04</td>\n",
       "    </tr>\n",
       "    <tr>\n",
       "      <th>5</th>\n",
       "      <td>51757.10</td>\n",
       "    </tr>\n",
       "    <tr>\n",
       "      <th>4</th>\n",
       "      <td>61073.60</td>\n",
       "    </tr>\n",
       "    <tr>\n",
       "      <th>3</th>\n",
       "      <td>141321.63</td>\n",
       "    </tr>\n",
       "  </tbody>\n",
       "</table>\n",
       "</div>"
      ],
      "text/plain": [
       "               costs\n",
       "source_id           \n",
       "9            5517.49\n",
       "10           5822.49\n",
       "1           20833.27\n",
       "2           42806.04\n",
       "5           51757.10\n",
       "4           61073.60\n",
       "3          141321.63"
      ]
     },
     "execution_count": 44,
     "metadata": {},
     "output_type": "execute_result"
    }
   ],
   "source": [
    "# затраты на каждый источник\n",
    "costs.groupby('source_id').agg({'costs': 'sum'}).sort_values(by='costs')"
   ]
  },
  {
   "cell_type": "code",
   "execution_count": 45,
   "metadata": {},
   "outputs": [
    {
     "name": "stdout",
     "output_type": "stream",
     "text": [
      "Средние расходы на маркетинг в месяц: 27427\n"
     ]
    },
    {
     "data": {
      "text/plain": [
       "Text(0.5, 1.0, 'Расходы на маркетинг')"
      ]
     },
     "execution_count": 45,
     "metadata": {},
     "output_type": "execute_result"
    },
    {
     "data": {
      "image/png": "[encoded data removed]",
      "text/plain": [
       "<Figure size 864x360 with 1 Axes>"
      ]
     },
     "metadata": {},
     "output_type": "display_data"
    }
   ],
   "source": [
    "# вернем в нужным нам вид и вычленим месяц\n",
    "costs['dt'] = pd.to_datetime(costs['dt'])\n",
    "costs['month'] = costs['dt'].dt.month\n",
    "\n",
    "# найдем средние расходы в месяц\n",
    "month_costs = costs.groupby('month').agg({'costs': 'sum'})\n",
    "print('Средние расходы на маркетинг в месяц:',\n",
    "      int(month_costs['costs'].mean()))\n",
    "\n",
    "# посмотрим на расходы каждый месяц\n",
    "month_costs.plot(grid=True, figsize=(12, 5))\n",
    "plt.xlabel('Месяц', fontsize=15, color='blue')\n",
    "plt.ylabel('Тыс. руб.', fontsize=15, color='blue')\n",
    "plt.title('Расходы на маркетинг', fontsize=17)"
   ]
  },
  {
   "cell_type": "markdown",
   "metadata": {},
   "source": [
    "### Вывод\n",
    "\n",
    "Больше всего расходы на 3,4,5 источник. Самые маленькие 9,10. Наблюдаем снижение расходов на маркетинг к новому году и потом снова резкое увеличение (январские заморозки?)"
   ]
  },
  {
   "cell_type": "markdown",
   "metadata": {},
   "source": [
    "<a name=\"4.2.\"><a/><br/>\n",
    "    <font size =\"4\"><b>4.2.ROMI</b></font><br/>\n",
    "[<font size=\"2\">(к содержанию)</font>](#1common.)"
   ]
  },
  {
   "cell_type": "code",
   "execution_count": 46,
   "metadata": {},
   "outputs": [
    {
     "data": {
      "text/html": [
       "<div>\n",
       "<style scoped>\n",
       "    .dataframe tbody tr th:only-of-type {\n",
       "        vertical-align: middle;\n",
       "    }\n",
       "\n",
       "    .dataframe tbody tr th {\n",
       "        vertical-align: top;\n",
       "    }\n",
       "\n",
       "    .dataframe thead th {\n",
       "        text-align: right;\n",
       "    }\n",
       "</style>\n",
       "<table border=\"1\" class=\"dataframe\">\n",
       "  <thead>\n",
       "    <tr style=\"text-align: right;\">\n",
       "      <th>age</th>\n",
       "      <th>0</th>\n",
       "      <th>1</th>\n",
       "      <th>2</th>\n",
       "      <th>3</th>\n",
       "      <th>4</th>\n",
       "      <th>5</th>\n",
       "      <th>6</th>\n",
       "      <th>7</th>\n",
       "      <th>8</th>\n",
       "      <th>9</th>\n",
       "      <th>10</th>\n",
       "      <th>11</th>\n",
       "    </tr>\n",
       "    <tr>\n",
       "      <th>first_order_month</th>\n",
       "      <th></th>\n",
       "      <th></th>\n",
       "      <th></th>\n",
       "      <th></th>\n",
       "      <th></th>\n",
       "      <th></th>\n",
       "      <th></th>\n",
       "      <th></th>\n",
       "      <th></th>\n",
       "      <th></th>\n",
       "      <th></th>\n",
       "      <th></th>\n",
       "    </tr>\n",
       "  </thead>\n",
       "  <tbody>\n",
       "    <tr>\n",
       "      <th>2017-06</th>\n",
       "      <td>0.16</td>\n",
       "      <td>0.18</td>\n",
       "      <td>0.19</td>\n",
       "      <td>0.22</td>\n",
       "      <td>0.26</td>\n",
       "      <td>0.28</td>\n",
       "      <td>0.31</td>\n",
       "      <td>0.33</td>\n",
       "      <td>0.35</td>\n",
       "      <td>0.37</td>\n",
       "      <td>0.39</td>\n",
       "      <td>0.4</td>\n",
       "    </tr>\n",
       "    <tr>\n",
       "      <th>2017-07</th>\n",
       "      <td>0.19</td>\n",
       "      <td>0.2</td>\n",
       "      <td>0.22</td>\n",
       "      <td>0.23</td>\n",
       "      <td>0.24</td>\n",
       "      <td>0.24</td>\n",
       "      <td>0.25</td>\n",
       "      <td>0.25</td>\n",
       "      <td>0.26</td>\n",
       "      <td>0.26</td>\n",
       "      <td>0.27</td>\n",
       "      <td></td>\n",
       "    </tr>\n",
       "    <tr>\n",
       "      <th>2017-08</th>\n",
       "      <td>0.15</td>\n",
       "      <td>0.16</td>\n",
       "      <td>0.17</td>\n",
       "      <td>0.18</td>\n",
       "      <td>0.2</td>\n",
       "      <td>0.2</td>\n",
       "      <td>0.21</td>\n",
       "      <td>0.22</td>\n",
       "      <td>0.23</td>\n",
       "      <td>0.24</td>\n",
       "      <td></td>\n",
       "      <td></td>\n",
       "    </tr>\n",
       "    <tr>\n",
       "      <th>2017-09</th>\n",
       "      <td>0.18</td>\n",
       "      <td>0.21</td>\n",
       "      <td>0.23</td>\n",
       "      <td>0.36</td>\n",
       "      <td>0.37</td>\n",
       "      <td>0.39</td>\n",
       "      <td>0.41</td>\n",
       "      <td>0.42</td>\n",
       "      <td>0.43</td>\n",
       "      <td></td>\n",
       "      <td></td>\n",
       "      <td></td>\n",
       "    </tr>\n",
       "    <tr>\n",
       "      <th>2017-10</th>\n",
       "      <td>0.18</td>\n",
       "      <td>0.2</td>\n",
       "      <td>0.21</td>\n",
       "      <td>0.21</td>\n",
       "      <td>0.22</td>\n",
       "      <td>0.22</td>\n",
       "      <td>0.22</td>\n",
       "      <td>0.23</td>\n",
       "      <td></td>\n",
       "      <td></td>\n",
       "      <td></td>\n",
       "      <td></td>\n",
       "    </tr>\n",
       "    <tr>\n",
       "      <th>2017-11</th>\n",
       "      <td>0.17</td>\n",
       "      <td>0.18</td>\n",
       "      <td>0.19</td>\n",
       "      <td>0.2</td>\n",
       "      <td>0.2</td>\n",
       "      <td>0.2</td>\n",
       "      <td>0.21</td>\n",
       "      <td></td>\n",
       "      <td></td>\n",
       "      <td></td>\n",
       "      <td></td>\n",
       "      <td></td>\n",
       "    </tr>\n",
       "    <tr>\n",
       "      <th>2017-12</th>\n",
       "      <td>0.16</td>\n",
       "      <td>0.17</td>\n",
       "      <td>0.2</td>\n",
       "      <td>0.24</td>\n",
       "      <td>0.25</td>\n",
       "      <td>0.26</td>\n",
       "      <td></td>\n",
       "      <td></td>\n",
       "      <td></td>\n",
       "      <td></td>\n",
       "      <td></td>\n",
       "      <td></td>\n",
       "    </tr>\n",
       "    <tr>\n",
       "      <th>2018-01</th>\n",
       "      <td>0.12</td>\n",
       "      <td>0.13</td>\n",
       "      <td>0.14</td>\n",
       "      <td>0.15</td>\n",
       "      <td>0.15</td>\n",
       "      <td></td>\n",
       "      <td></td>\n",
       "      <td></td>\n",
       "      <td></td>\n",
       "      <td></td>\n",
       "      <td></td>\n",
       "      <td></td>\n",
       "    </tr>\n",
       "    <tr>\n",
       "      <th>2018-02</th>\n",
       "      <td>0.14</td>\n",
       "      <td>0.15</td>\n",
       "      <td>0.15</td>\n",
       "      <td>0.15</td>\n",
       "      <td></td>\n",
       "      <td></td>\n",
       "      <td></td>\n",
       "      <td></td>\n",
       "      <td></td>\n",
       "      <td></td>\n",
       "      <td></td>\n",
       "      <td></td>\n",
       "    </tr>\n",
       "    <tr>\n",
       "      <th>2018-03</th>\n",
       "      <td>0.17</td>\n",
       "      <td>0.18</td>\n",
       "      <td>0.19</td>\n",
       "      <td></td>\n",
       "      <td></td>\n",
       "      <td></td>\n",
       "      <td></td>\n",
       "      <td></td>\n",
       "      <td></td>\n",
       "      <td></td>\n",
       "      <td></td>\n",
       "      <td></td>\n",
       "    </tr>\n",
       "    <tr>\n",
       "      <th>2018-04</th>\n",
       "      <td>0.14</td>\n",
       "      <td>0.16</td>\n",
       "      <td></td>\n",
       "      <td></td>\n",
       "      <td></td>\n",
       "      <td></td>\n",
       "      <td></td>\n",
       "      <td></td>\n",
       "      <td></td>\n",
       "      <td></td>\n",
       "      <td></td>\n",
       "      <td></td>\n",
       "    </tr>\n",
       "    <tr>\n",
       "      <th>2018-05</th>\n",
       "      <td>0.19</td>\n",
       "      <td></td>\n",
       "      <td></td>\n",
       "      <td></td>\n",
       "      <td></td>\n",
       "      <td></td>\n",
       "      <td></td>\n",
       "      <td></td>\n",
       "      <td></td>\n",
       "      <td></td>\n",
       "      <td></td>\n",
       "      <td></td>\n",
       "    </tr>\n",
       "  </tbody>\n",
       "</table>\n",
       "</div>"
      ],
      "text/plain": [
       "age                  0     1     2     3     4     5     6     7     8     9   \\\n",
       "first_order_month                                                               \n",
       "2017-06            0.16  0.18  0.19  0.22  0.26  0.28  0.31  0.33  0.35  0.37   \n",
       "2017-07            0.19   0.2  0.22  0.23  0.24  0.24  0.25  0.25  0.26  0.26   \n",
       "2017-08            0.15  0.16  0.17  0.18   0.2   0.2  0.21  0.22  0.23  0.24   \n",
       "2017-09            0.18  0.21  0.23  0.36  0.37  0.39  0.41  0.42  0.43         \n",
       "2017-10            0.18   0.2  0.21  0.21  0.22  0.22  0.22  0.23               \n",
       "2017-11            0.17  0.18  0.19   0.2   0.2   0.2  0.21                     \n",
       "2017-12            0.16  0.17   0.2  0.24  0.25  0.26                           \n",
       "2018-01            0.12  0.13  0.14  0.15  0.15                                 \n",
       "2018-02            0.14  0.15  0.15  0.15                                       \n",
       "2018-03            0.17  0.18  0.19                                             \n",
       "2018-04            0.14  0.16                                                   \n",
       "2018-05            0.19                                                         \n",
       "\n",
       "age                  10   11  \n",
       "first_order_month             \n",
       "2017-06            0.39  0.4  \n",
       "2017-07            0.27       \n",
       "2017-08                       \n",
       "2017-09                       \n",
       "2017-10                       \n",
       "2017-11                       \n",
       "2017-12                       \n",
       "2018-01                       \n",
       "2018-02                       \n",
       "2018-03                       \n",
       "2018-04                       \n",
       "2018-05                       "
      ]
     },
     "execution_count": 46,
     "metadata": {},
     "output_type": "execute_result"
    }
   ],
   "source": [
    "# найдем коэффициент окупаемости наших расходов в меркетинг\n",
    "report_new['romi'] = report_new['ltv'] / report_new['cac']\n",
    "\n",
    "# посмотрим на него в разрезе когорт\n",
    "output_romi = report_new.pivot_table(\n",
    "    index='first_order_month',\n",
    "    columns='age',\n",
    "    values='romi',\n",
    "    aggfunc='mean')\n",
    "\n",
    "output_romi.cumsum(axis=1).round(2).fillna('')"
   ]
  },
  {
   "cell_type": "code",
   "execution_count": 47,
   "metadata": {},
   "outputs": [
    {
     "name": "stdout",
     "output_type": "stream",
     "text": [
      "ROMI первой когорты (1 год) = 0.4\n"
     ]
    }
   ],
   "source": [
    "print('ROMI первой когорты (1 год) =', (ltv_20170601 / cac_20170601).round(2))"
   ]
  },
  {
   "cell_type": "code",
   "execution_count": 48,
   "metadata": {},
   "outputs": [
    {
     "data": {
      "text/plain": [
       "Text(0.5, 1.0, 'Коэффициент окупаемости')"
      ]
     },
     "execution_count": 48,
     "metadata": {},
     "output_type": "execute_result"
    },
    {
     "data": {
      "image/png": "[encoded data removed]",
      "text/plain": [
       "<Figure size 864x360 with 1 Axes>"
      ]
     },
     "metadata": {},
     "output_type": "display_data"
    }
   ],
   "source": [
    "output_romi.cumsum(axis=1).mean(axis=0).plot(grid=True, figsize=(12, 5))\n",
    "plt.xlabel('Месяц по порядку', fontsize=15, color='blue')\n",
    "plt.ylabel('ROMI', fontsize=15, color='blue')\n",
    "plt.title('Коэффициент окупаемости', fontsize=17)"
   ]
  },
  {
   "cell_type": "markdown",
   "metadata": {},
   "source": [
    "### Вывод\n",
    "\n",
    "Наши инвестиции не окупаются. Даже за год получается вернуть только 40% от них"
   ]
  },
  {
   "cell_type": "markdown",
   "metadata": {},
   "source": [
    "<a name=\"5.\"><a/><br/>\n",
    "    <font size =\"5\"><b>5.Метрики по рекламным источникам</b></font><br/>\n",
    "[<font size=\"2\">(к содержанию)</font>](#1common.)"
   ]
  },
  {
   "cell_type": "markdown",
   "metadata": {},
   "source": [
    "**Отследить метрики по устройствам не получается, потому что нет информации о расходах на каждое устройство. По рекламным источникам у нас информация, что у одного клиента может быть 5 источников. Для более реальных результатов и правильной выручки, выберем первый источник привлечения, как основной**\n",
    "\n",
    "Для этого мы сгруппируем и объединим в одну все таблицу по интересующим нас показателям"
   ]
  },
  {
   "cell_type": "code",
   "execution_count": 49,
   "metadata": {},
   "outputs": [
    {
     "data": {
      "text/html": [
       "<div>\n",
       "<style scoped>\n",
       "    .dataframe tbody tr th:only-of-type {\n",
       "        vertical-align: middle;\n",
       "    }\n",
       "\n",
       "    .dataframe tbody tr th {\n",
       "        vertical-align: top;\n",
       "    }\n",
       "\n",
       "    .dataframe thead th {\n",
       "        text-align: right;\n",
       "    }\n",
       "</style>\n",
       "<table border=\"1\" class=\"dataframe\">\n",
       "  <thead>\n",
       "    <tr style=\"text-align: right;\">\n",
       "      <th></th>\n",
       "      <th>Unnamed: 0</th>\n",
       "      <th>Buy Ts</th>\n",
       "      <th>Revenue</th>\n",
       "      <th>Uid</th>\n",
       "      <th>first_buy</th>\n",
       "      <th>first_order_month</th>\n",
       "      <th>order_month</th>\n",
       "      <th>first_dates</th>\n",
       "      <th>time_to_buy</th>\n",
       "      <th>Source Id</th>\n",
       "    </tr>\n",
       "  </thead>\n",
       "  <tbody>\n",
       "    <tr>\n",
       "      <th>0</th>\n",
       "      <td>0</td>\n",
       "      <td>2017-06-01 00:10:00</td>\n",
       "      <td>17.00</td>\n",
       "      <td>10329302124590727494</td>\n",
       "      <td>2017-06-01 00:10:00</td>\n",
       "      <td>2017-06-01</td>\n",
       "      <td>2017-06-01</td>\n",
       "      <td>2017-06-01 00:09:00</td>\n",
       "      <td>60</td>\n",
       "      <td>1</td>\n",
       "    </tr>\n",
       "    <tr>\n",
       "      <th>1</th>\n",
       "      <td>1</td>\n",
       "      <td>2017-06-01 00:25:00</td>\n",
       "      <td>0.55</td>\n",
       "      <td>11627257723692907447</td>\n",
       "      <td>2017-06-01 00:25:00</td>\n",
       "      <td>2017-06-01</td>\n",
       "      <td>2017-06-01</td>\n",
       "      <td>2017-06-01 00:14:00</td>\n",
       "      <td>660</td>\n",
       "      <td>2</td>\n",
       "    </tr>\n",
       "    <tr>\n",
       "      <th>2</th>\n",
       "      <td>2</td>\n",
       "      <td>2017-06-01 00:27:00</td>\n",
       "      <td>0.37</td>\n",
       "      <td>17903680561304213844</td>\n",
       "      <td>2017-06-01 00:27:00</td>\n",
       "      <td>2017-06-01</td>\n",
       "      <td>2017-06-01</td>\n",
       "      <td>2017-06-01 00:25:00</td>\n",
       "      <td>120</td>\n",
       "      <td>2</td>\n",
       "    </tr>\n",
       "    <tr>\n",
       "      <th>3</th>\n",
       "      <td>3</td>\n",
       "      <td>2017-06-01 00:29:00</td>\n",
       "      <td>0.55</td>\n",
       "      <td>16109239769442553005</td>\n",
       "      <td>2017-06-01 00:29:00</td>\n",
       "      <td>2017-06-01</td>\n",
       "      <td>2017-06-01</td>\n",
       "      <td>2017-06-01 00:14:00</td>\n",
       "      <td>900</td>\n",
       "      <td>2</td>\n",
       "    </tr>\n",
       "    <tr>\n",
       "      <th>4</th>\n",
       "      <td>4</td>\n",
       "      <td>2017-06-01 07:58:00</td>\n",
       "      <td>0.37</td>\n",
       "      <td>14200605875248379450</td>\n",
       "      <td>2017-06-01 07:58:00</td>\n",
       "      <td>2017-06-01</td>\n",
       "      <td>2017-06-01</td>\n",
       "      <td>2017-06-01 07:31:00</td>\n",
       "      <td>1620</td>\n",
       "      <td>3</td>\n",
       "    </tr>\n",
       "  </tbody>\n",
       "</table>\n",
       "</div>"
      ],
      "text/plain": [
       "   Unnamed: 0              Buy Ts  Revenue                   Uid  \\\n",
       "0           0 2017-06-01 00:10:00    17.00  10329302124590727494   \n",
       "1           1 2017-06-01 00:25:00     0.55  11627257723692907447   \n",
       "2           2 2017-06-01 00:27:00     0.37  17903680561304213844   \n",
       "3           3 2017-06-01 00:29:00     0.55  16109239769442553005   \n",
       "4           4 2017-06-01 07:58:00     0.37  14200605875248379450   \n",
       "\n",
       "            first_buy first_order_month order_month         first_dates  \\\n",
       "0 2017-06-01 00:10:00        2017-06-01  2017-06-01 2017-06-01 00:09:00   \n",
       "1 2017-06-01 00:25:00        2017-06-01  2017-06-01 2017-06-01 00:14:00   \n",
       "2 2017-06-01 00:27:00        2017-06-01  2017-06-01 2017-06-01 00:25:00   \n",
       "3 2017-06-01 00:29:00        2017-06-01  2017-06-01 2017-06-01 00:14:00   \n",
       "4 2017-06-01 07:58:00        2017-06-01  2017-06-01 2017-06-01 07:31:00   \n",
       "\n",
       "   time_to_buy  Source Id  \n",
       "0           60          1  \n",
       "1          660          2  \n",
       "2          120          2  \n",
       "3          900          2  \n",
       "4         1620          3  "
      ]
     },
     "execution_count": 49,
     "metadata": {},
     "output_type": "execute_result"
    }
   ],
   "source": [
    "# соберем визиты и заказы по Uid\n",
    "visits['date'] = pd.to_datetime(visits['date'])\n",
    "orders = orders.merge(visits[['Uid', 'Source Id']], on='Uid')\n",
    "orders.head()"
   ]
  },
  {
   "cell_type": "code",
   "execution_count": 50,
   "metadata": {},
   "outputs": [],
   "source": [
    "# уберем повторяющиеся источники, для получения реального revenue\n",
    "orders = orders.drop_duplicates()\n",
    "orders['Buy Ts'] = orders['Buy Ts'].drop_duplicates()\n",
    "orders = orders.fillna(0)\n",
    "orders_new = orders[orders['Buy Ts'] != 0]"
   ]
  },
  {
   "cell_type": "code",
   "execution_count": 51,
   "metadata": {},
   "outputs": [
    {
     "data": {
      "text/html": [
       "<div>\n",
       "<style scoped>\n",
       "    .dataframe tbody tr th:only-of-type {\n",
       "        vertical-align: middle;\n",
       "    }\n",
       "\n",
       "    .dataframe tbody tr th {\n",
       "        vertical-align: top;\n",
       "    }\n",
       "\n",
       "    .dataframe thead th {\n",
       "        text-align: right;\n",
       "    }\n",
       "</style>\n",
       "<table border=\"1\" class=\"dataframe\">\n",
       "  <thead>\n",
       "    <tr style=\"text-align: right;\">\n",
       "      <th></th>\n",
       "      <th>dt</th>\n",
       "      <th>source_id</th>\n",
       "      <th>n_buyers</th>\n",
       "      <th>revenue</th>\n",
       "      <th>costs</th>\n",
       "      <th>ltv</th>\n",
       "      <th>cac</th>\n",
       "      <th>romi</th>\n",
       "    </tr>\n",
       "  </thead>\n",
       "  <tbody>\n",
       "    <tr>\n",
       "      <th>0</th>\n",
       "      <td>2017-06-01</td>\n",
       "      <td>1</td>\n",
       "      <td>192</td>\n",
       "      <td>6937.92</td>\n",
       "      <td>1125.61</td>\n",
       "      <td>10.840500</td>\n",
       "      <td>5.862552</td>\n",
       "      <td>1.849109</td>\n",
       "    </tr>\n",
       "    <tr>\n",
       "      <th>1</th>\n",
       "      <td>2017-06-01</td>\n",
       "      <td>2</td>\n",
       "      <td>258</td>\n",
       "      <td>6233.69</td>\n",
       "      <td>2427.38</td>\n",
       "      <td>7.248477</td>\n",
       "      <td>9.408450</td>\n",
       "      <td>0.770422</td>\n",
       "    </tr>\n",
       "    <tr>\n",
       "      <th>2</th>\n",
       "      <td>2017-06-01</td>\n",
       "      <td>3</td>\n",
       "      <td>543</td>\n",
       "      <td>2936.22</td>\n",
       "      <td>7731.65</td>\n",
       "      <td>1.622221</td>\n",
       "      <td>14.238766</td>\n",
       "      <td>0.113930</td>\n",
       "    </tr>\n",
       "    <tr>\n",
       "      <th>3</th>\n",
       "      <td>2017-06-01</td>\n",
       "      <td>4</td>\n",
       "      <td>404</td>\n",
       "      <td>2833.09</td>\n",
       "      <td>3514.80</td>\n",
       "      <td>2.103780</td>\n",
       "      <td>8.700000</td>\n",
       "      <td>0.241814</td>\n",
       "    </tr>\n",
       "    <tr>\n",
       "      <th>4</th>\n",
       "      <td>2017-06-01</td>\n",
       "      <td>5</td>\n",
       "      <td>355</td>\n",
       "      <td>3974.84</td>\n",
       "      <td>2616.12</td>\n",
       "      <td>3.359020</td>\n",
       "      <td>7.369352</td>\n",
       "      <td>0.455809</td>\n",
       "    </tr>\n",
       "  </tbody>\n",
       "</table>\n",
       "</div>"
      ],
      "text/plain": [
       "          dt  source_id  n_buyers  revenue    costs        ltv        cac  \\\n",
       "0 2017-06-01          1       192  6937.92  1125.61  10.840500   5.862552   \n",
       "1 2017-06-01          2       258  6233.69  2427.38   7.248477   9.408450   \n",
       "2 2017-06-01          3       543  2936.22  7731.65   1.622221  14.238766   \n",
       "3 2017-06-01          4       404  2833.09  3514.80   2.103780   8.700000   \n",
       "4 2017-06-01          5       355  3974.84  2616.12   3.359020   7.369352   \n",
       "\n",
       "       romi  \n",
       "0  1.849109  \n",
       "1  0.770422  \n",
       "2  0.113930  \n",
       "3  0.241814  \n",
       "4  0.455809  "
      ]
     },
     "execution_count": 51,
     "metadata": {},
     "output_type": "execute_result"
    }
   ],
   "source": [
    "# сгруппируем по пользователям, найем первый месяц заказа и сумму выручки\n",
    "first_orders3 = orders_new.groupby(['Uid', 'Source Id']).agg(\n",
    "    {'order_month': 'min', 'Revenue': 'sum'}).reset_index()\n",
    "first_orders3.columns = ['uid', 'source_id', 'first_order_month', 'revenue']\n",
    "cohort_sizes3 = first_orders3.groupby(['first_order_month', 'source_id']).agg(\n",
    "    {'uid': 'nunique', 'revenue': 'sum'}).reset_index()\n",
    "cohort_sizes3.columns = ['dt', 'source_id', 'n_buyers', 'revenue']\n",
    "\n",
    "# вернем в нужный нам вид даты\n",
    "costs['dt'] = pd.to_datetime(costs['dt'])\n",
    "\n",
    "# сгруппируем по расходам\n",
    "cs = costs.groupby(['dt', 'source_id']).agg({'costs': 'sum'})\n",
    "cs = cohort_sizes3.merge(cs, on=['dt', 'source_id'])\n",
    "\n",
    "# найдем нужные нам метрики\n",
    "cs['ltv'] = cs['revenue']*margin_rate / cs['n_buyers']\n",
    "cs['cac'] = cs['costs'] / cs['n_buyers']\n",
    "cs['romi'] = cs['ltv'] / cs['cac']\n",
    "cs.head()"
   ]
  },
  {
   "cell_type": "code",
   "execution_count": 52,
   "metadata": {},
   "outputs": [
    {
     "data": {
      "text/plain": [
       "Text(0.5, 1.0, 'ROMI на одного покупателя')"
      ]
     },
     "execution_count": 52,
     "metadata": {},
     "output_type": "execute_result"
    },
    {
     "data": {
      "image/png": "[encoded data removed]",
      "text/plain": [
       "<Figure size 1440x360 with 1 Axes>"
      ]
     },
     "metadata": {},
     "output_type": "display_data"
    },
    {
     "data": {
      "image/png": "[encoded data removed]",
      "text/plain": [
       "<Figure size 1440x360 with 1 Axes>"
      ]
     },
     "metadata": {},
     "output_type": "display_data"
    },
    {
     "data": {
      "image/png": "[encoded data removed]",
      "text/plain": [
       "<Figure size 1440x360 with 1 Axes>"
      ]
     },
     "metadata": {},
     "output_type": "display_data"
    }
   ],
   "source": [
    "cs.pivot_table(\n",
    "    index='dt',\n",
    "    columns='source_id',\n",
    "    values='cac',\n",
    "    aggfunc='mean').plot.bar(grid=True, figsize=(20, 5))\n",
    "plt.xlabel('Месяц', fontsize=15, color='blue')\n",
    "plt.ylabel('CAC', fontsize=15, color='blue')\n",
    "plt.title('Затраты на каждый источник в месяц, на одного покупателя', fontsize=17)\n",
    "\n",
    "cs.pivot_table(\n",
    "    index='dt',\n",
    "    columns='source_id',\n",
    "    values='ltv',\n",
    "    aggfunc='mean').plot.bar(grid=True, figsize=(20, 5))\n",
    "plt.xlabel('Месяц', fontsize=15, color='blue')\n",
    "plt.ylabel('LTV', fontsize=15, color='blue')\n",
    "plt.title('LTV на одного покупателя', fontsize=17)\n",
    "\n",
    "cs.pivot_table(\n",
    "    index='dt',\n",
    "    columns='source_id',\n",
    "    values='romi',\n",
    "    aggfunc='mean').plot.bar(grid=True, figsize=(20, 5))\n",
    "plt.xlabel('Месяц', fontsize=15, color='blue')\n",
    "plt.ylabel('ROMI', fontsize=15, color='blue')\n",
    "plt.title('ROMI на одного покупателя', fontsize=17)"
   ]
  },
  {
   "cell_type": "markdown",
   "metadata": {},
   "source": [
    "### Вывод\n",
    "\n",
    "Самые дорогие клиенты приходят с 3,2,4 источника, тогда как эти источники имеют очень низкий LTV и ROMI. Все наши клиенты в 1 и 2 источнике. Они относительно дешевы, приносят хорошую прибыль и окупаются быстрее всех. \n",
    "\n",
    "**По времени самый прибыльные клиенты (низкий CAC, высокие LTV и ROMI) **\n",
    "1. 1 и 2 источники Июнь 2017\n",
    "2. 2 и 9 источник Сентябрь 2017\n",
    "3. 2 источник Декабрь 2017\n",
    "\n",
    "Все остальные месяца, показали себя плохо. Рекламный бюджет не оправдан"
   ]
  },
  {
   "cell_type": "markdown",
   "metadata": {},
   "source": [
    "<a name=\"6.\"><a/><br/>\n",
    "    <font size =\"5\"><b>6.Общий вывод и рекомендации</b></font><br/>\n",
    "[<font size=\"2\">(к содержанию)</font>](#1common.)"
   ]
  },
  {
   "cell_type": "markdown",
   "metadata": {},
   "source": [
    "# Общий вывод\n",
    "\n",
    "Показатель | Значение \n",
    "---------------------------------- | -------------\n",
    "Средний чек в месяц, в течении года                        | 5.59 \n",
    "Retention Rate                     | 5.8%\n",
    "            LTV, за год    | 3.56\n",
    "          CAC, на одного покупателя| 9.15\n",
    "            ROMI, за год   | 0.4\n",
    "\n",
    "            \n",
    "Проведя анализ и рассчитав юнит экономику, мы можем сделать выводы:\n",
    "1. Средний чек растет с лояльностью клиента, чем дольше он с нами, тем больше доверия и выше средний чек\n",
    "2. Retention Rate падает с каждым месяцем и в среднем находится на очень низком уровне\n",
    "3. LTV показывает хорошие показатели в первый месяц, но неуклонно падает в связи с низким коэффициентом удержания. LTV низкий, нужно думать над увеличением валовой прибыли\n",
    "4. CAC на одного клиента находится на высоком по отношению к LTV. Превышает в несколько раз.\n",
    "5. ROMI показывает неэффективность нашей маркетинговой стратегии в области привлечения новых клиентов и сохранения старых.\n",
    "\n",
    "Рекомендации: **Мы привлекаем клиентов за очень дорого, зарабатываем с них мало. Нужны новые рекламные источники или способы привлечения клиентов.**\n",
    "\n",
    "Рекомендации: **Нужны более эффективные методы удержания клиета, пересмотреть маркетинговую политику в области удержания клиента. Внедрить систему лояльности или улучшить информирование об акциях и скидках.**\n",
    "\n",
    "Самые дорогие клиенты приходят с 3,4,5 источника, тогда как эти источники имеют очень низкий LTV и ROMI. Все наши клиенты в 1, 2  и 9 источнике. Они относительно дешевы, приносят хорошую прибыль и окупаются быстрее всех. **Перераспределить рекламный бюджет в 1, 2  и 9 источники**"
   ]
  },
  {
   "cell_type": "code",
   "execution_count": null,
   "metadata": {},
   "outputs": [],
   "source": []
  }
 ],
 "metadata": {
  "kernelspec": {
   "display_name": "Python 3",
   "language": "python",
   "name": "python3"
  },
  "language_info": {
   "codemirror_mode": {
    "name": "ipython",
    "version": 3
   },
   "file_extension": ".py",
   "mimetype": "text/x-python",
   "name": "python",
   "nbconvert_exporter": "python",
   "pygments_lexer": "ipython3",
   "version": "3.7.3"
  }
 },
 "nbformat": 4,
 "nbformat_minor": 2
}
