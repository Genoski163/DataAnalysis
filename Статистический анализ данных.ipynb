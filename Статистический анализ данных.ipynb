{
 "cells": [
  {
   "cell_type": "markdown",
   "metadata": {},
   "source": [
    "<a name=\"1common.\"></a>\n",
    "## Содержание:\n",
    "* [1. Описание проекта, описание данных, загрузка и импорт библиотек](#1.)\n",
    "* [2. Предобработка данных](#2.)\n",
    "    - [2.1. Обработка пропущенных значений](#2.1.)\n",
    "    - [2.2. Доход с каждого клиента](#2.2.)\n",
    "* [3. Анализ данных](#3.)\n",
    "    - [3.2. Вероятность увеличения среднего чека](#3.2.)\n",
    "* [4. Проверка гипотез](#4.)\n",
    "* [5. Вывод](#5.)"
   ]
  },
  {
   "cell_type": "markdown",
   "metadata": {},
   "source": [
    "<a name=\"1.\"><a/><br/>\n",
    "    <font size =\"5\"><b>1. Описание проекта, описание данных, загрузка и импорт библиотек</b></font><br/>\n",
    "[<font size=\"2\">(к содержанию)</font>](#1common.)"
   ]
  },
  {
   "cell_type": "markdown",
   "metadata": {},
   "source": [
    "Вы аналитик компании «Мегалайн» — федерального оператора сотовой связи. Клиентам предлагают два тарифных плана: «Смарт» и «Ультра». Чтобы скорректировать рекламный бюджет, коммерческий департамент хочет понять, какой тариф приносит больше денег.\n",
    "Вам предстоит сделать предварительный анализ тарифов на небольшой выборке клиентов. В вашем распоряжении данные 500 пользователей «Мегалайна»: кто они, откуда, каким тарифом пользуются, сколько звонков и сообщений каждый отправил за 2018 год. Нужно проанализировать поведение клиентов и сделать вывод — какой тариф лучше.\n",
    "\n",
    "Описание тарифов\n",
    "\n",
    "**Тариф «Смарт»**\n",
    "* Ежемесячная плата: 550 рублей\n",
    "* Включено 500 минут разговора, 50 сообщений и 15 Гб интернет-трафика\n",
    "* Стоимость услуг сверх тарифного пакета:\n",
    "* минута разговора: 3 рубля\n",
    "* сообщение: 3 рубля\n",
    "* 1 Гб интернет-трафика: 200 рублей\n",
    "\n",
    "**Тариф «Ультра»**\n",
    "* Ежемесячная плата: 1950 рублей\n",
    "* Включено 3000 минут разговора, 1000 сообщений и 30 Гб интернет-трафика\n",
    "* Стоимость услуг сверх тарифного пакета:\n",
    "* минута разговора: 1 рубль\n",
    "* сообщение: 1 рубль\n",
    "*  Гб интернет-трафика: 150 рублей\n",
    "\n",
    "Обратите внимание: «Мегалайн» всегда округляет вверх значения минут и мегабайтов. Если пользователь проговорил всего 1 секунду, в тарифе засчитывается целая минута."
   ]
  },
  {
   "cell_type": "code",
   "execution_count": 1,
   "metadata": {},
   "outputs": [],
   "source": [
    "import pandas as pd#для работы с таблицами\n",
    "import matplotlib.pyplot as plt #для работы с графиками\n",
    "import numpy as np#для математики\n",
    "from scipy import stats as st#для проверки гипотез\n",
    "import math"
   ]
  },
  {
   "cell_type": "code",
   "execution_count": 2,
   "metadata": {},
   "outputs": [],
   "source": [
    "calls = pd.read_csv('/datasets/calls.csv')\n",
    "inter = pd.read_csv('/datasets/internet.csv')\n",
    "mess = pd.read_csv('/datasets/messages.csv')\n",
    "tar = pd.read_csv('/datasets/tariffs.csv')\n",
    "us = pd.read_csv('/datasets/users.csv')"
   ]
  },
  {
   "cell_type": "code",
   "execution_count": 3,
   "metadata": {},
   "outputs": [
    {
     "name": "stdout",
     "output_type": "stream",
     "text": [
      "Информация о датафрейме calls\n",
      "\n",
      "<class 'pandas.core.frame.DataFrame'>\n",
      "RangeIndex: 202607 entries, 0 to 202606\n",
      "Data columns (total 4 columns):\n",
      "id           202607 non-null object\n",
      "call_date    202607 non-null object\n",
      "duration     202607 non-null float64\n",
      "user_id      202607 non-null int64\n",
      "dtypes: float64(1), int64(1), object(2)\n",
      "memory usage: 6.2+ MB\n",
      "None\n",
      "\n",
      "Первые 5 строк calls\n",
      "       id   call_date  duration  user_id\n",
      "0  1000_0  2018-07-25      0.00     1000\n",
      "1  1000_1  2018-08-17      0.00     1000\n",
      "2  1000_2  2018-06-11      2.85     1000\n",
      "3  1000_3  2018-09-21     13.80     1000\n",
      "4  1000_4  2018-12-15      5.18     1000\n",
      "\n",
      "Число пропущенных значений в столбце  id  =  0\n",
      "Число пропущенных значений в столбце  call_date  =  0\n",
      "Число пропущенных значений в столбце  duration  =  0\n",
      "Число пропущенных значений в столбце  user_id  =  0\n",
      "Число дубликатов в датафрейме calls 0\n",
      "--------------------------------------------\n",
      "Информация о датафрейме inter\n",
      "\n",
      "<class 'pandas.core.frame.DataFrame'>\n",
      "RangeIndex: 149396 entries, 0 to 149395\n",
      "Data columns (total 4 columns):\n",
      "id              149396 non-null object\n",
      "mb_used         149396 non-null float64\n",
      "session_date    149396 non-null object\n",
      "user_id         149396 non-null int64\n",
      "dtypes: float64(1), int64(1), object(2)\n",
      "memory usage: 4.6+ MB\n",
      "None\n",
      "\n",
      "Первые 5 строк inter\n",
      "       id  mb_used session_date  user_id\n",
      "0  1000_0   112.95   2018-11-25     1000\n",
      "1  1000_1  1052.81   2018-09-07     1000\n",
      "2  1000_2  1197.26   2018-06-25     1000\n",
      "3  1000_3   550.27   2018-08-22     1000\n",
      "4  1000_4   302.56   2018-09-24     1000\n",
      "\n",
      "Число пропущенных значений в столбце  id  =  0\n",
      "Число пропущенных значений в столбце  mb_used  =  0\n",
      "Число пропущенных значений в столбце  session_date  =  0\n",
      "Число пропущенных значений в столбце  user_id  =  0\n",
      "Число дубликатов в датафрейме inter 0\n",
      "--------------------------------------------\n",
      "Информация о датафрейме mess\n",
      "\n",
      "<class 'pandas.core.frame.DataFrame'>\n",
      "RangeIndex: 123036 entries, 0 to 123035\n",
      "Data columns (total 3 columns):\n",
      "id              123036 non-null object\n",
      "message_date    123036 non-null object\n",
      "user_id         123036 non-null int64\n",
      "dtypes: int64(1), object(2)\n",
      "memory usage: 2.8+ MB\n",
      "None\n",
      "\n",
      "Первые 5 строк mess\n",
      "       id message_date  user_id\n",
      "0  1000_0   2018-06-27     1000\n",
      "1  1000_1   2018-10-08     1000\n",
      "2  1000_2   2018-08-04     1000\n",
      "3  1000_3   2018-06-16     1000\n",
      "4  1000_4   2018-12-05     1000\n",
      "\n",
      "Число пропущенных значений в столбце  id  =  0\n",
      "Число пропущенных значений в столбце  message_date  =  0\n",
      "Число пропущенных значений в столбце  user_id  =  0\n",
      "Число дубликатов в датафрейме mess 0\n",
      "--------------------------------------------\n",
      "Информация о датафрейме tar\n",
      "\n",
      "<class 'pandas.core.frame.DataFrame'>\n",
      "RangeIndex: 2 entries, 0 to 1\n",
      "Data columns (total 8 columns):\n",
      "messages_included        2 non-null int64\n",
      "mg_per_month_included    2 non-null int64\n",
      "minutes_included         2 non-null int64\n",
      "rub_monthly_fee          2 non-null int64\n",
      "rub_per_gb               2 non-null int64\n",
      "rub_per_message          2 non-null int64\n",
      "rub_per_minute           2 non-null int64\n",
      "tariff_name              2 non-null object\n",
      "dtypes: int64(7), object(1)\n",
      "memory usage: 256.0+ bytes\n",
      "None\n",
      "\n",
      "Первые 5 строк tar\n",
      "   messages_included  mg_per_month_included  minutes_included  \\\n",
      "0                 50                  15360               500   \n",
      "1               1000                  30720              3000   \n",
      "\n",
      "   rub_monthly_fee  rub_per_gb  rub_per_message  rub_per_minute tariff_name  \n",
      "0              550         200                3               3       smart  \n",
      "1             1950         150                1               1       ultra  \n",
      "\n",
      "Число пропущенных значений в столбце  messages_included  =  0\n",
      "Число пропущенных значений в столбце  mg_per_month_included  =  0\n",
      "Число пропущенных значений в столбце  minutes_included  =  0\n",
      "Число пропущенных значений в столбце  rub_monthly_fee  =  0\n",
      "Число пропущенных значений в столбце  rub_per_gb  =  0\n",
      "Число пропущенных значений в столбце  rub_per_message  =  0\n",
      "Число пропущенных значений в столбце  rub_per_minute  =  0\n",
      "Число пропущенных значений в столбце  tariff_name  =  0\n",
      "Число дубликатов в датафрейме tar 0\n",
      "--------------------------------------------\n",
      "Информация о датафрейме us\n",
      "\n",
      "<class 'pandas.core.frame.DataFrame'>\n",
      "RangeIndex: 500 entries, 0 to 499\n",
      "Data columns (total 8 columns):\n",
      "user_id       500 non-null int64\n",
      "age           500 non-null int64\n",
      "churn_date    38 non-null object\n",
      "city          500 non-null object\n",
      "first_name    500 non-null object\n",
      "last_name     500 non-null object\n",
      "reg_date      500 non-null object\n",
      "tariff        500 non-null object\n",
      "dtypes: int64(2), object(6)\n",
      "memory usage: 31.4+ KB\n",
      "None\n",
      "\n",
      "Первые 5 строк us\n",
      "   user_id  age churn_date         city first_name  last_name    reg_date  \\\n",
      "0     1000   52        NaN    Краснодар     Рафаил  Верещагин  2018-05-25   \n",
      "1     1001   41        NaN       Москва       Иван       Ежов  2018-11-01   \n",
      "2     1002   59        NaN  Стерлитамак    Евгений  Абрамович  2018-06-17   \n",
      "3     1003   23        NaN       Москва      Белла   Белякова  2018-08-17   \n",
      "4     1004   68        NaN  Новокузнецк    Татьяна   Авдеенко  2018-05-14   \n",
      "\n",
      "  tariff  \n",
      "0  ultra  \n",
      "1  smart  \n",
      "2  smart  \n",
      "3  ultra  \n",
      "4  ultra  \n",
      "\n",
      "Число пропущенных значений в столбце  user_id  =  0\n",
      "Число пропущенных значений в столбце  age  =  0\n",
      "Число пропущенных значений в столбце  churn_date  =  462\n",
      "Число пропущенных значений в столбце  city  =  0\n",
      "Число пропущенных значений в столбце  first_name  =  0\n",
      "Число пропущенных значений в столбце  last_name  =  0\n",
      "Число пропущенных значений в столбце  reg_date  =  0\n",
      "Число пропущенных значений в столбце  tariff  =  0\n",
      "Число дубликатов в датафрейме us 0\n",
      "--------------------------------------------\n"
     ]
    }
   ],
   "source": [
    "all_df = [calls, inter, mess, tar, us]#описание таблиц\n",
    "\n",
    "for df in all_df:\n",
    "    name =[x for x in globals() if globals()[x] is df][0] # вытаскиваем наименование датафрейма\n",
    "    print('Информация о датафрейме {}\\n'.format(name))\n",
    "    print( df.info() )\n",
    "    print()\n",
    "    print('Первые 5 строк {}'.format(name))\n",
    "    print( df.head(5) )\n",
    "    print()\n",
    "    for i in df.columns:\n",
    "        print('Число пропущенных значений в столбце ', i, ' = ', df[i].isnull().sum())\n",
    "    print('Число дубликатов в датафрейме {}'.format(name), df.duplicated().sum())\n",
    "    print('--------------------------------------------')"
   ]
  },
  {
   "cell_type": "markdown",
   "metadata": {},
   "source": [
    "<a name=\"2.\"><a/><br/>\n",
    "    <font size =\"5\"><b>2. Предобработка данных</b></font><br/>\n",
    "[<font size=\"2\">(к содержанию)</font>](#1common.)"
   ]
  },
  {
   "cell_type": "markdown",
   "metadata": {},
   "source": [
    "Работать с 3 таблицами по звонкам смскам и интернету неудобно. Нужно соединить в одну, предварительно сгрупировав по user_id b месяцам. "
   ]
  },
  {
   "cell_type": "code",
   "execution_count": 4,
   "metadata": {},
   "outputs": [],
   "source": [
    "calls['month'] = pd.DatetimeIndex(calls['call_date']).month\n",
    "mess['month'] = pd.DatetimeIndex(mess['message_date']).month\n",
    "inter['month'] = pd.DatetimeIndex(inter['session_date']).month"
   ]
  },
  {
   "cell_type": "code",
   "execution_count": 5,
   "metadata": {},
   "outputs": [
    {
     "data": {
      "text/plain": [
       "array([[<matplotlib.axes._subplots.AxesSubplot object at 0x7f61fda88c88>]],\n",
       "      dtype=object)"
      ]
     },
     "execution_count": 5,
     "metadata": {},
     "output_type": "execute_result"
    },
    {
     "data": {
      "image/png": "[encoded data removed]",
      "text/plain": [
       "<Figure size 432x288 with 1 Axes>"
      ]
     },
     "metadata": {
      "needs_background": "light"
     },
     "output_type": "display_data"
    },
    {
     "data": {
      "image/png": "[encoded data removed]",
      "text/plain": [
       "<Figure size 432x288 with 1 Axes>"
      ]
     },
     "metadata": {
      "needs_background": "light"
     },
     "output_type": "display_data"
    }
   ],
   "source": [
    "calls.hist('duration', bins = 100)\n",
    "inter.hist('mb_used', bins = 100)"
   ]
  },
  {
   "cell_type": "code",
   "execution_count": 6,
   "metadata": {},
   "outputs": [
    {
     "data": {
      "image/png": "[encoded data removed]",
      "text/plain": [
       "<Figure size 432x288 with 1 Axes>"
      ]
     },
     "metadata": {
      "needs_background": "light"
     },
     "output_type": "display_data"
    },
    {
     "data": {
      "image/png": "[encoded data removed]",
      "text/plain": [
       "<Figure size 432x288 with 1 Axes>"
      ]
     },
     "metadata": {
      "needs_background": "light"
     },
     "output_type": "display_data"
    }
   ],
   "source": [
    "calls.boxplot('duration')\n",
    "plt.ylim(-10,40)\n",
    "plt.show()\n",
    "inter.boxplot('mb_used')\n",
    "plt.ylim(-100,1300)\n",
    "plt.show()"
   ]
  },
  {
   "cell_type": "markdown",
   "metadata": {},
   "source": [
    "**Вывод**\n",
    "\n",
    "Распределение тяготеет к нормальному, с видимыми выбросами. Нулевые значения занимают почти 25% от данных, заменим их на среднее"
   ]
  },
  {
   "cell_type": "markdown",
   "metadata": {},
   "source": [
    "<a name=\"2.1.\"><a/><br/>\n",
    "    <font size =\"4\"><b>2.1. Обработка пропущенных значений</b></font><br/>\n",
    "[<font size=\"2\">(к содержанию)</font>](#1common.)"
   ]
  },
  {
   "cell_type": "code",
   "execution_count": 7,
   "metadata": {},
   "outputs": [],
   "source": [
    "calls['duration'].value_counts()# проверяем значения по звонкам\n",
    "inter['mb_used'].value_counts()# проверям значения по мб\n",
    "calls['duration'].describe() #средняя и медиана почти одинаковы, заменим на средне = 6.70\n",
    "inter['mb_used'].describe()#средняя и медиана почти одинаковы, заменим на медиану = 415.00\n",
    "calls['duration'] = calls['duration'].replace(0.00, calls['duration'].median())\n",
    "inter['mb_used'] = inter['mb_used'].replace(0.00, inter['mb_used'].median())\n",
    "calls['duration'] = (calls['duration'] + 0.5).round(0)"
   ]
  },
  {
   "cell_type": "markdown",
   "metadata": {},
   "source": [
    "Заменили пропущенные значения на медиану, потому что если выход или звонок зафиксированны, значит они были, вот только время не записалось"
   ]
  },
  {
   "cell_type": "code",
   "execution_count": 8,
   "metadata": {},
   "outputs": [],
   "source": [
    "call = calls.pivot_table(index = ['user_id', 'month'], values = ['id', 'duration'], \n",
    "                             aggfunc = {'id': 'count','duration': 'sum'})#сгруппируем по количеству звонков и сумме минут\n",
    "call.columns = ['time_call', 'calls']\n",
    "mes = mess.pivot_table(index = ['user_id', 'month'], values = 'id', aggfunc = 'count')#сгруппируем по количеству смс\n",
    "mes.columns = ['sms']\n",
    "internet = inter.pivot_table(index = ['user_id', 'month'], values = ['id', 'mb_used'], \n",
    "                             aggfunc = {'id': 'count','mb_used': 'sum'})#сгруппируем по количеству заходов и сумме мб\n",
    "internet.columns = ['enters', 'mb']"
   ]
  },
  {
   "cell_type": "code",
   "execution_count": 9,
   "metadata": {},
   "outputs": [],
   "source": [
    "d = call.merge(mes, on = ['user_id', 'month'], how = 'left')\n",
    "df = d.merge(internet, on = ['user_id', 'month'], how = 'left')# собрали таблицу для более удобного анализа"
   ]
  },
  {
   "cell_type": "code",
   "execution_count": 10,
   "metadata": {},
   "outputs": [
    {
     "data": {
      "text/plain": [
       "time_call      0\n",
       "calls          0\n",
       "sms          496\n",
       "enters        11\n",
       "mb            11\n",
       "dtype: int64"
      ]
     },
     "execution_count": 10,
     "metadata": {},
     "output_type": "execute_result"
    }
   ],
   "source": [
    "df.duplicated().sum()#дубликатов нету\n",
    "df.isnull().sum()# пропущенные значения есть"
   ]
  },
  {
   "cell_type": "code",
   "execution_count": 11,
   "metadata": {},
   "outputs": [],
   "source": [
    "#заменим их на среднее\n",
    "df['sms'] = df['sms'].fillna(df['sms'].mean())\n",
    "df['enters'] = df['enters'].fillna(df['enters'].mean())\n",
    "df['mb'] = df['mb'].fillna(df['mb'].mean())"
   ]
  },
  {
   "cell_type": "code",
   "execution_count": 12,
   "metadata": {},
   "outputs": [
    {
     "name": "stdout",
     "output_type": "stream",
     "text": [
      "time_call    0\n",
      "calls        0\n",
      "sms          0\n",
      "enters       0\n",
      "mb           0\n",
      "dtype: int64\n",
      "<class 'pandas.core.frame.DataFrame'>\n",
      "MultiIndex: 3174 entries, (1000, 5) to (1499, 12)\n",
      "Data columns (total 5 columns):\n",
      "time_call    3174 non-null float64\n",
      "calls        3174 non-null int64\n",
      "sms          3174 non-null float64\n",
      "enters       3174 non-null float64\n",
      "mb           3174 non-null float64\n",
      "dtypes: float64(4), int64(1)\n",
      "memory usage: 137.4 KB\n"
     ]
    }
   ],
   "source": [
    "print(df.isnull().sum())#отлично\n",
    "df.info()#проверим типы данных. количестве смс и входах в интернет нам явно не нужент тип float"
   ]
  },
  {
   "cell_type": "code",
   "execution_count": 13,
   "metadata": {},
   "outputs": [
    {
     "name": "stdout",
     "output_type": "stream",
     "text": [
      "<class 'pandas.core.frame.DataFrame'>\n",
      "MultiIndex: 3174 entries, (1000, 5) to (1499, 12)\n",
      "Data columns (total 5 columns):\n",
      "time_call    3174 non-null float64\n",
      "calls        3174 non-null int64\n",
      "sms          3174 non-null int64\n",
      "enters       3174 non-null int64\n",
      "mb           3174 non-null float64\n",
      "dtypes: float64(2), int64(3)\n",
      "memory usage: 137.4 KB\n"
     ]
    }
   ],
   "source": [
    "df[['sms', 'enters']] = df[['sms', 'enters']].astype(int)\n",
    "df.info()#проверка, все хорошо"
   ]
  },
  {
   "cell_type": "code",
   "execution_count": 14,
   "metadata": {},
   "outputs": [],
   "source": [
    "new_df = df.merge(us, on = ['user_id'], how = 'left')#теперь добавим пользователей\n",
    "new_df1 = new_df.drop(['age', 'churn_date', 'first_name', 'last_name','reg_date'], axis=1)#удалим ненужные столбцы"
   ]
  },
  {
   "cell_type": "code",
   "execution_count": 15,
   "metadata": {},
   "outputs": [
    {
     "name": "stdout",
     "output_type": "stream",
     "text": [
      "<class 'pandas.core.frame.DataFrame'>\n",
      "Int64Index: 3174 entries, 0 to 3173\n",
      "Data columns (total 15 columns):\n",
      "user_id                  3174 non-null int64\n",
      "time_call                3174 non-null float64\n",
      "calls                    3174 non-null int64\n",
      "sms                      3174 non-null int64\n",
      "enters                   3174 non-null int64\n",
      "mb                       3174 non-null float64\n",
      "city                     3174 non-null object\n",
      "tariff                   3174 non-null object\n",
      "messages_included        3174 non-null int64\n",
      "mg_per_month_included    3174 non-null int64\n",
      "minutes_included         3174 non-null int64\n",
      "rub_monthly_fee          3174 non-null int64\n",
      "rub_per_gb               3174 non-null int64\n",
      "rub_per_message          3174 non-null int64\n",
      "rub_per_minute           3174 non-null int64\n",
      "dtypes: float64(2), int64(11), object(2)\n",
      "memory usage: 396.8+ KB\n"
     ]
    }
   ],
   "source": [
    "tar.rename(columns={'tariff_name': 'tariff'}, inplace=True)#переменуем столбец для обЪединения по тарифам\n",
    "new_df2 = new_df1.merge(tar, on = ['tariff'])\n",
    "new_df2.info()"
   ]
  },
  {
   "cell_type": "markdown",
   "metadata": {},
   "source": [
    "<a name=\"2.2.\"><a/><br/>\n",
    "    <font size =\"4\"><b>2.2. Доход с каждого клиента</b></font><br/>\n",
    "[<font size=\"2\">(к содержанию)</font>](#1common.)"
   ]
  },
  {
   "cell_type": "markdown",
   "metadata": {},
   "source": [
    "Посчитаем доход за каждый месяц с каждого клиента. Предварительно убрав отрицательные значения. "
   ]
  },
  {
   "cell_type": "code",
   "execution_count": 16,
   "metadata": {},
   "outputs": [],
   "source": [
    "new_df2['money_for_sms'] = (new_df2['sms'] - new_df2['messages_included']).apply(lambda x: 0 if x < 0 else x) * new_df2['rub_per_message']\n",
    "new_df2['money_for_int'] = ((new_df2['mb'] - new_df2['mg_per_month_included']).apply(lambda x: 0 if x < 0 else x)) / 1000 * new_df2['rub_per_gb']\n",
    "new_df2['money_for_call'] = ((new_df2['time_call'] - new_df2['minutes_included']).apply(lambda x: 0 if x < 0 else x)) * new_df2['rub_per_minute']"
   ]
  },
  {
   "cell_type": "code",
   "execution_count": 17,
   "metadata": {},
   "outputs": [
    {
     "data": {
      "text/html": [
       "<div>\n",
       "<style scoped>\n",
       "    .dataframe tbody tr th:only-of-type {\n",
       "        vertical-align: middle;\n",
       "    }\n",
       "\n",
       "    .dataframe tbody tr th {\n",
       "        vertical-align: top;\n",
       "    }\n",
       "\n",
       "    .dataframe thead th {\n",
       "        text-align: right;\n",
       "    }\n",
       "</style>\n",
       "<table border=\"1\" class=\"dataframe\">\n",
       "  <thead>\n",
       "    <tr style=\"text-align: right;\">\n",
       "      <th></th>\n",
       "      <th>user_id</th>\n",
       "      <th>time_call</th>\n",
       "      <th>calls</th>\n",
       "      <th>sms</th>\n",
       "      <th>enters</th>\n",
       "      <th>mb</th>\n",
       "      <th>city</th>\n",
       "      <th>tariff</th>\n",
       "      <th>messages_included</th>\n",
       "      <th>mg_per_month_included</th>\n",
       "      <th>minutes_included</th>\n",
       "      <th>rub_monthly_fee</th>\n",
       "      <th>rub_per_gb</th>\n",
       "      <th>rub_per_message</th>\n",
       "      <th>rub_per_minute</th>\n",
       "      <th>money_for_sms</th>\n",
       "      <th>money_for_int</th>\n",
       "      <th>money_for_call</th>\n",
       "    </tr>\n",
       "  </thead>\n",
       "  <tbody>\n",
       "    <tr>\n",
       "      <td>0</td>\n",
       "      <td>1000</td>\n",
       "      <td>189.0</td>\n",
       "      <td>22</td>\n",
       "      <td>22</td>\n",
       "      <td>5</td>\n",
       "      <td>2601.505</td>\n",
       "      <td>Краснодар</td>\n",
       "      <td>ultra</td>\n",
       "      <td>1000</td>\n",
       "      <td>30720</td>\n",
       "      <td>3000</td>\n",
       "      <td>1950</td>\n",
       "      <td>150</td>\n",
       "      <td>1</td>\n",
       "      <td>1</td>\n",
       "      <td>0</td>\n",
       "      <td>0.0</td>\n",
       "      <td>0.0</td>\n",
       "    </tr>\n",
       "    <tr>\n",
       "      <td>1</td>\n",
       "      <td>1000</td>\n",
       "      <td>262.0</td>\n",
       "      <td>43</td>\n",
       "      <td>60</td>\n",
       "      <td>49</td>\n",
       "      <td>24973.845</td>\n",
       "      <td>Краснодар</td>\n",
       "      <td>ultra</td>\n",
       "      <td>1000</td>\n",
       "      <td>30720</td>\n",
       "      <td>3000</td>\n",
       "      <td>1950</td>\n",
       "      <td>150</td>\n",
       "      <td>1</td>\n",
       "      <td>1</td>\n",
       "      <td>0</td>\n",
       "      <td>0.0</td>\n",
       "      <td>0.0</td>\n",
       "    </tr>\n",
       "    <tr>\n",
       "      <td>2</td>\n",
       "      <td>1000</td>\n",
       "      <td>376.0</td>\n",
       "      <td>47</td>\n",
       "      <td>75</td>\n",
       "      <td>29</td>\n",
       "      <td>14351.655</td>\n",
       "      <td>Краснодар</td>\n",
       "      <td>ultra</td>\n",
       "      <td>1000</td>\n",
       "      <td>30720</td>\n",
       "      <td>3000</td>\n",
       "      <td>1950</td>\n",
       "      <td>150</td>\n",
       "      <td>1</td>\n",
       "      <td>1</td>\n",
       "      <td>0</td>\n",
       "      <td>0.0</td>\n",
       "      <td>0.0</td>\n",
       "    </tr>\n",
       "    <tr>\n",
       "      <td>3</td>\n",
       "      <td>1000</td>\n",
       "      <td>469.0</td>\n",
       "      <td>52</td>\n",
       "      <td>81</td>\n",
       "      <td>29</td>\n",
       "      <td>14751.960</td>\n",
       "      <td>Краснодар</td>\n",
       "      <td>ultra</td>\n",
       "      <td>1000</td>\n",
       "      <td>30720</td>\n",
       "      <td>3000</td>\n",
       "      <td>1950</td>\n",
       "      <td>150</td>\n",
       "      <td>1</td>\n",
       "      <td>1</td>\n",
       "      <td>0</td>\n",
       "      <td>0.0</td>\n",
       "      <td>0.0</td>\n",
       "    </tr>\n",
       "    <tr>\n",
       "      <td>4</td>\n",
       "      <td>1000</td>\n",
       "      <td>539.0</td>\n",
       "      <td>58</td>\n",
       "      <td>57</td>\n",
       "      <td>27</td>\n",
       "      <td>15264.940</td>\n",
       "      <td>Краснодар</td>\n",
       "      <td>ultra</td>\n",
       "      <td>1000</td>\n",
       "      <td>30720</td>\n",
       "      <td>3000</td>\n",
       "      <td>1950</td>\n",
       "      <td>150</td>\n",
       "      <td>1</td>\n",
       "      <td>1</td>\n",
       "      <td>0</td>\n",
       "      <td>0.0</td>\n",
       "      <td>0.0</td>\n",
       "    </tr>\n",
       "  </tbody>\n",
       "</table>\n",
       "</div>"
      ],
      "text/plain": [
       "   user_id  time_call  calls  sms  enters         mb       city tariff  \\\n",
       "0     1000      189.0     22   22       5   2601.505  Краснодар  ultra   \n",
       "1     1000      262.0     43   60      49  24973.845  Краснодар  ultra   \n",
       "2     1000      376.0     47   75      29  14351.655  Краснодар  ultra   \n",
       "3     1000      469.0     52   81      29  14751.960  Краснодар  ultra   \n",
       "4     1000      539.0     58   57      27  15264.940  Краснодар  ultra   \n",
       "\n",
       "   messages_included  mg_per_month_included  minutes_included  \\\n",
       "0               1000                  30720              3000   \n",
       "1               1000                  30720              3000   \n",
       "2               1000                  30720              3000   \n",
       "3               1000                  30720              3000   \n",
       "4               1000                  30720              3000   \n",
       "\n",
       "   rub_monthly_fee  rub_per_gb  rub_per_message  rub_per_minute  \\\n",
       "0             1950         150                1               1   \n",
       "1             1950         150                1               1   \n",
       "2             1950         150                1               1   \n",
       "3             1950         150                1               1   \n",
       "4             1950         150                1               1   \n",
       "\n",
       "   money_for_sms  money_for_int  money_for_call  \n",
       "0              0            0.0             0.0  \n",
       "1              0            0.0             0.0  \n",
       "2              0            0.0             0.0  \n",
       "3              0            0.0             0.0  \n",
       "4              0            0.0             0.0  "
      ]
     },
     "execution_count": 17,
     "metadata": {},
     "output_type": "execute_result"
    }
   ],
   "source": [
    "new_df2.head()#проверка"
   ]
  },
  {
   "cell_type": "markdown",
   "metadata": {},
   "source": [
    "<a name=\"3.\"><a/><br/>\n",
    "    <font size =\"5\"><b>3. Анализ данных</b></font><br/>\n",
    "[<font size=\"2\">(к содержанию)</font>](#1common.)"
   ]
  },
  {
   "cell_type": "markdown",
   "metadata": {},
   "source": [
    "Посчитаем общую прибыль с каждого пользователя по месяцам."
   ]
  },
  {
   "cell_type": "code",
   "execution_count": 18,
   "metadata": {},
   "outputs": [
    {
     "data": {
      "text/html": [
       "<div>\n",
       "<style scoped>\n",
       "    .dataframe tbody tr th:only-of-type {\n",
       "        vertical-align: middle;\n",
       "    }\n",
       "\n",
       "    .dataframe tbody tr th {\n",
       "        vertical-align: top;\n",
       "    }\n",
       "\n",
       "    .dataframe thead th {\n",
       "        text-align: right;\n",
       "    }\n",
       "</style>\n",
       "<table border=\"1\" class=\"dataframe\">\n",
       "  <thead>\n",
       "    <tr style=\"text-align: right;\">\n",
       "      <th></th>\n",
       "      <th>user_id</th>\n",
       "      <th>time_call</th>\n",
       "      <th>calls</th>\n",
       "      <th>sms</th>\n",
       "      <th>enters</th>\n",
       "      <th>mb</th>\n",
       "      <th>city</th>\n",
       "      <th>tariff</th>\n",
       "      <th>messages_included</th>\n",
       "      <th>mg_per_month_included</th>\n",
       "      <th>minutes_included</th>\n",
       "      <th>rub_monthly_fee</th>\n",
       "      <th>rub_per_gb</th>\n",
       "      <th>rub_per_message</th>\n",
       "      <th>rub_per_minute</th>\n",
       "      <th>money_for_sms</th>\n",
       "      <th>money_for_int</th>\n",
       "      <th>money_for_call</th>\n",
       "      <th>value</th>\n",
       "    </tr>\n",
       "  </thead>\n",
       "  <tbody>\n",
       "    <tr>\n",
       "      <td>0</td>\n",
       "      <td>1000</td>\n",
       "      <td>189</td>\n",
       "      <td>22</td>\n",
       "      <td>22</td>\n",
       "      <td>5</td>\n",
       "      <td>2601</td>\n",
       "      <td>Краснодар</td>\n",
       "      <td>ultra</td>\n",
       "      <td>1000</td>\n",
       "      <td>30720</td>\n",
       "      <td>3000</td>\n",
       "      <td>1950</td>\n",
       "      <td>150</td>\n",
       "      <td>1</td>\n",
       "      <td>1</td>\n",
       "      <td>0</td>\n",
       "      <td>0.0</td>\n",
       "      <td>0.0</td>\n",
       "      <td>1950</td>\n",
       "    </tr>\n",
       "    <tr>\n",
       "      <td>1</td>\n",
       "      <td>1000</td>\n",
       "      <td>262</td>\n",
       "      <td>43</td>\n",
       "      <td>60</td>\n",
       "      <td>49</td>\n",
       "      <td>24973</td>\n",
       "      <td>Краснодар</td>\n",
       "      <td>ultra</td>\n",
       "      <td>1000</td>\n",
       "      <td>30720</td>\n",
       "      <td>3000</td>\n",
       "      <td>1950</td>\n",
       "      <td>150</td>\n",
       "      <td>1</td>\n",
       "      <td>1</td>\n",
       "      <td>0</td>\n",
       "      <td>0.0</td>\n",
       "      <td>0.0</td>\n",
       "      <td>1950</td>\n",
       "    </tr>\n",
       "    <tr>\n",
       "      <td>2</td>\n",
       "      <td>1000</td>\n",
       "      <td>376</td>\n",
       "      <td>47</td>\n",
       "      <td>75</td>\n",
       "      <td>29</td>\n",
       "      <td>14351</td>\n",
       "      <td>Краснодар</td>\n",
       "      <td>ultra</td>\n",
       "      <td>1000</td>\n",
       "      <td>30720</td>\n",
       "      <td>3000</td>\n",
       "      <td>1950</td>\n",
       "      <td>150</td>\n",
       "      <td>1</td>\n",
       "      <td>1</td>\n",
       "      <td>0</td>\n",
       "      <td>0.0</td>\n",
       "      <td>0.0</td>\n",
       "      <td>1950</td>\n",
       "    </tr>\n",
       "    <tr>\n",
       "      <td>3</td>\n",
       "      <td>1000</td>\n",
       "      <td>469</td>\n",
       "      <td>52</td>\n",
       "      <td>81</td>\n",
       "      <td>29</td>\n",
       "      <td>14751</td>\n",
       "      <td>Краснодар</td>\n",
       "      <td>ultra</td>\n",
       "      <td>1000</td>\n",
       "      <td>30720</td>\n",
       "      <td>3000</td>\n",
       "      <td>1950</td>\n",
       "      <td>150</td>\n",
       "      <td>1</td>\n",
       "      <td>1</td>\n",
       "      <td>0</td>\n",
       "      <td>0.0</td>\n",
       "      <td>0.0</td>\n",
       "      <td>1950</td>\n",
       "    </tr>\n",
       "    <tr>\n",
       "      <td>4</td>\n",
       "      <td>1000</td>\n",
       "      <td>539</td>\n",
       "      <td>58</td>\n",
       "      <td>57</td>\n",
       "      <td>27</td>\n",
       "      <td>15264</td>\n",
       "      <td>Краснодар</td>\n",
       "      <td>ultra</td>\n",
       "      <td>1000</td>\n",
       "      <td>30720</td>\n",
       "      <td>3000</td>\n",
       "      <td>1950</td>\n",
       "      <td>150</td>\n",
       "      <td>1</td>\n",
       "      <td>1</td>\n",
       "      <td>0</td>\n",
       "      <td>0.0</td>\n",
       "      <td>0.0</td>\n",
       "      <td>1950</td>\n",
       "    </tr>\n",
       "  </tbody>\n",
       "</table>\n",
       "</div>"
      ],
      "text/plain": [
       "   user_id  time_call  calls  sms  enters     mb       city tariff  \\\n",
       "0     1000        189     22   22       5   2601  Краснодар  ultra   \n",
       "1     1000        262     43   60      49  24973  Краснодар  ultra   \n",
       "2     1000        376     47   75      29  14351  Краснодар  ultra   \n",
       "3     1000        469     52   81      29  14751  Краснодар  ultra   \n",
       "4     1000        539     58   57      27  15264  Краснодар  ultra   \n",
       "\n",
       "   messages_included  mg_per_month_included  minutes_included  \\\n",
       "0               1000                  30720              3000   \n",
       "1               1000                  30720              3000   \n",
       "2               1000                  30720              3000   \n",
       "3               1000                  30720              3000   \n",
       "4               1000                  30720              3000   \n",
       "\n",
       "   rub_monthly_fee  rub_per_gb  rub_per_message  rub_per_minute  \\\n",
       "0             1950         150                1               1   \n",
       "1             1950         150                1               1   \n",
       "2             1950         150                1               1   \n",
       "3             1950         150                1               1   \n",
       "4             1950         150                1               1   \n",
       "\n",
       "   money_for_sms  money_for_int  money_for_call  value  \n",
       "0              0            0.0             0.0   1950  \n",
       "1              0            0.0             0.0   1950  \n",
       "2              0            0.0             0.0   1950  \n",
       "3              0            0.0             0.0   1950  \n",
       "4              0            0.0             0.0   1950  "
      ]
     },
     "execution_count": 18,
     "metadata": {},
     "output_type": "execute_result"
    }
   ],
   "source": [
    "new_df2['value'] = new_df2['rub_monthly_fee'] + new_df2['money_for_sms'] + new_df2['money_for_int'] + new_df2['money_for_call']\n",
    "new_df2[['value','time_call','mb']] = new_df2[['value','time_call','mb']].astype(int)\n",
    "new_df2.head()"
   ]
  },
  {
   "cell_type": "markdown",
   "metadata": {},
   "source": [
    "Построим гистограммы по интересующим нас значениям"
   ]
  },
  {
   "cell_type": "code",
   "execution_count": 19,
   "metadata": {},
   "outputs": [
    {
     "data": {
      "image/png": "[encoded data removed]",
      "text/plain": [
       "<Figure size 864x360 with 1 Axes>"
      ]
     },
     "metadata": {
      "needs_background": "light"
     },
     "output_type": "display_data"
    },
    {
     "data": {
      "image/png": "[encoded data removed]",
      "text/plain": [
       "<Figure size 864x360 with 1 Axes>"
      ]
     },
     "metadata": {
      "needs_background": "light"
     },
     "output_type": "display_data"
    },
    {
     "data": {
      "image/png": "[encoded data removed]",
      "text/plain": [
       "<Figure size 864x360 with 1 Axes>"
      ]
     },
     "metadata": {
      "needs_background": "light"
     },
     "output_type": "display_data"
    },
    {
     "data": {
      "image/png": "[encoded data removed]",
      "text/plain": [
       "<Figure size 864x360 with 1 Axes>"
      ]
     },
     "metadata": {
      "needs_background": "light"
     },
     "output_type": "display_data"
    }
   ],
   "source": [
    "ultra = new_df2[new_df2['tariff'] == 'ultra']\n",
    "smart = new_df2[new_df2['tariff'] == 'smart']#отфильтруем по нужным нам тарифам\n",
    "\n",
    "ax = ultra['time_call'].plot(kind = 'hist', bins = 100, grid=True, figsize=(12, 5), color = 'b')\n",
    "smart['time_call'].plot(kind = 'hist', bins = 100, grid=True, figsize=(12, 5), ax = ax, color = 'y', alpha = 0.5)\n",
    "plt.legend(['Ultra', 'Smart'])\n",
    "plt.title(\"Разговоры, в мин.\")\n",
    "plt.show()\n",
    "ax = ultra['sms'].plot(kind = 'hist', bins = 30, grid=True, figsize=(12, 5), color = 'b')\n",
    "smart['sms'].plot(kind = 'hist', bins = 30, grid=True, figsize=(12, 5), ax = ax, color = 'y', alpha = 0.5)\n",
    "plt.legend(['Ultra', 'Smart'])\n",
    "plt.title(\"Смс, в шт.\")\n",
    "plt.show()\n",
    "ax = ultra['mb'].plot(kind = 'hist', bins = 100, grid=True, figsize=(12, 5), color = 'b')\n",
    "smart['mb'].plot(kind = 'hist', bins = 100, grid=True, figsize=(12, 5), ax = ax, color = 'y', alpha = 0.5)\n",
    "plt.legend(['Ultra', 'Smart'])\n",
    "plt.title(\"Интернет, в мб.\")\n",
    "plt.show()\n",
    "ax = ultra['value'].plot(kind = 'hist', bins = 100, grid=True, figsize=(12, 5), color = 'b')\n",
    "smart['value'].plot(kind = 'hist', bins = 100, grid=True, figsize=(12, 5), ax = ax, color = 'y', alpha = 0.5)\n",
    "plt.legend(['Ultra', 'Smart'])\n",
    "plt.title(\"Выручка с одного пользователя, в руб.\")\n",
    "plt.show()"
   ]
  },
  {
   "cell_type": "markdown",
   "metadata": {},
   "source": [
    "**Вывод:**\n",
    "\n",
    "Запросы на интернет и смс у всех одинаковые. А вот минуты все тратят по разному. \n",
    "\n",
    "Распределения звонков и интернета очень похожи на нормальные.\n",
    "Распределение смс - нет. "
   ]
  },
  {
   "cell_type": "code",
   "execution_count": 20,
   "metadata": {},
   "outputs": [],
   "source": [
    "#найдем среднее, стандартное отклонение и дисперсию \n",
    "a = new_df2.pivot_table(index = 'tariff', values = 'time_call', aggfunc = ['count', 'mean', 'std', 'var']).round(1)\n",
    "b = new_df2.pivot_table(index = 'tariff', values = 'sms', aggfunc = ['count', 'mean', 'std', 'var']).round(1)\n",
    "c = new_df2.pivot_table(index = 'tariff', values = 'mb', aggfunc = ['count', 'mean', 'std', 'var']).round(1)\n",
    "d = new_df2.pivot_table(index = 'tariff', values = 'value', aggfunc = ['count', 'mean', 'std', 'var']).round(1)"
   ]
  },
  {
   "cell_type": "code",
   "execution_count": 21,
   "metadata": {},
   "outputs": [
    {
     "data": {
      "text/plain": [
       "(           count      mean       std       var\n",
       "        time_call time_call time_call time_call\n",
       " tariff                                        \n",
       " smart       2223     488.6     217.6   47346.8\n",
       " ultra        951     633.7     354.8  125852.8,\n",
       "        count  mean   std     var\n",
       "          sms   sms   sms     sms\n",
       " tariff                          \n",
       " smart   2223  39.6  25.0   624.5\n",
       " ultra    951  58.0  40.5  1643.6,\n",
       "        count     mean      std          var\n",
       "           mb       mb       mb           mb\n",
       " tariff                                     \n",
       " smart   2223  18999.4   6724.5   45219285.6\n",
       " ultra    951  20293.1  10206.3  104168496.3,\n",
       "        count    mean     std        var\n",
       "        value   value   value      value\n",
       " tariff                                 \n",
       " smart   2223  1796.7  1108.1  1227974.3\n",
       " ultra    951  2087.7   412.6   170210.2)"
      ]
     },
     "execution_count": 21,
     "metadata": {},
     "output_type": "execute_result"
    }
   ],
   "source": [
    "a,b,c,d"
   ]
  },
  {
   "cell_type": "markdown",
   "metadata": {},
   "source": [
    "<a name=\"3.2.\"><a/><br/>\n",
    "    <font size =\"4\"><b>3.2. Вероятность увеличения среднего чека</b></font><br/>\n",
    "[<font size=\"2\">(к содержанию)</font>](#1common.)"
   ]
  },
  {
   "cell_type": "markdown",
   "metadata": {},
   "source": [
    "Распределение выручки очень не похоже на нормальное, из-за абонентской платы. Попробуем расчитать вероятность, увеличения среднего чека, используя нормальное распределение. \n",
    "\n",
    "Расчитаем вероятность увеличения среднего чека"
   ]
  },
  {
   "cell_type": "code",
   "execution_count": 22,
   "metadata": {},
   "outputs": [
    {
     "data": {
      "text/plain": [
       "(0.5, 0.6668674667642409)"
      ]
     },
     "execution_count": 22,
     "metadata": {},
     "output_type": "execute_result"
    }
   ],
   "source": [
    "distr_sm = st.norm(1911, 1166) \n",
    "x1 = 1911\n",
    "result_sm = 1 - distr_sm.cdf(x1)\n",
    "distr_ult = st.norm(2093, 422) \n",
    "x2 = 1911\n",
    "result_ult = 1 - distr_ult.cdf(x2)\n",
    "result_sm, result_ult"
   ]
  },
  {
   "cell_type": "markdown",
   "metadata": {},
   "source": [
    "На тарифе ultra, вероятность что клиент будет приносить больше, выше на 21%"
   ]
  },
  {
   "cell_type": "markdown",
   "metadata": {},
   "source": [
    "**Звонки:**\n",
    "\n",
    "**smart** - в среднем люди не вылезают за рамки тарифа, но большое стандартное отклонение говорит нам, что половина пользователей \n",
    "все такие покупаем доп минуты\n",
    "\n",
    "**ultra** - практически все укладываются в свои 3000 минут\n",
    "\n",
    "**CМС:**\n",
    "\n",
    "**smart** - похожая ситуация, как и с минутами\n",
    "\n",
    "**ultra** - там далеко до исчерпания тарифа\n",
    "\n",
    "**Интернет:**\n",
    "\n",
    "**smart** - очень много людей берет дополнительный трафик\n",
    "\n",
    "**ultra** - почти 80% укладывается в тариф"
   ]
  },
  {
   "cell_type": "markdown",
   "metadata": {},
   "source": [
    "<a name=\"4.\"><a/><br/>\n",
    "    <font size =\"5\"><b>4. Проверка гипотезы</b></font><br/>\n",
    "[<font size=\"2\">(к содержанию)</font>](#1common.)"
   ]
  },
  {
   "cell_type": "markdown",
   "metadata": {},
   "source": [
    "Сформулируем гипотезы\n",
    "\n",
    "Нулевая - средняя выручка двух тарифов не отличается\n",
    "\n",
    "Альтернативная - отличается\n"
   ]
  },
  {
   "cell_type": "code",
   "execution_count": 23,
   "metadata": {},
   "outputs": [
    {
     "name": "stdout",
     "output_type": "stream",
     "text": [
      "Отвергаем нулевую гипотезу\n"
     ]
    },
    {
     "data": {
      "text/plain": [
       "4.893821770949788e-15"
      ]
     },
     "execution_count": 23,
     "metadata": {},
     "output_type": "execute_result"
    }
   ],
   "source": [
    "alpha = 0.05\n",
    "\n",
    "results = st.ttest_ind(\n",
    "    ultra['value'], \n",
    "    smart['value'])#используем гипотезу о равенстве средних двух генеральных совокупностей\n",
    "\n",
    "if (results.pvalue < alpha):\n",
    "    print('Отвергаем нулевую гипотезу')\n",
    "else:\n",
    "    print('Не получилось отвергнуть нулевую гипотезу')\n",
    "results.pvalue"
   ]
  },
  {
   "cell_type": "markdown",
   "metadata": {},
   "source": [
    "Сформульруем гипотезы\n",
    "\n",
    "Нулевая - средняя выручка Москва и других городов не отличается\n",
    "\n",
    "Альтернативная - отличается"
   ]
  },
  {
   "cell_type": "code",
   "execution_count": 24,
   "metadata": {},
   "outputs": [],
   "source": [
    "Moscow = new_df2[new_df2['city'] == 'Москва']\n",
    "Other = new_df2[new_df2['city'] != 'Москва']"
   ]
  },
  {
   "cell_type": "code",
   "execution_count": 25,
   "metadata": {},
   "outputs": [
    {
     "name": "stdout",
     "output_type": "stream",
     "text": [
      "Не получилось отвергнуть нулевую гипотезу\n"
     ]
    },
    {
     "data": {
      "text/plain": [
       "0.6087149026081973"
      ]
     },
     "execution_count": 25,
     "metadata": {},
     "output_type": "execute_result"
    }
   ],
   "source": [
    "alpha = 0.05\n",
    "\n",
    "results = st.ttest_ind(\n",
    "    Moscow['value'], \n",
    "    Other['value'])#используем гипотезу о равенстве средних двух генеральных совокупностей\n",
    "\n",
    "if (results.pvalue < alpha):\n",
    "    print('Отвергаем нулевую гипотезу')\n",
    "else:\n",
    "    print('Не получилось отвергнуть нулевую гипотезу')\n",
    "results.pvalue"
   ]
  },
  {
   "cell_type": "markdown",
   "metadata": {},
   "source": [
    "<a name=\"5.\"><a/><br/>\n",
    "    <font size =\"5\"><b>5. Вывод</b></font><br/>\n",
    "[<font size=\"2\">(к содержанию)</font>](#1common.)"
   ]
  },
  {
   "cell_type": "markdown",
   "metadata": {},
   "source": [
    "Тариф smart более популярный\n",
    "\n",
    "**Среднее по выручке:**\n",
    "\n",
    "Smart = 1857 руб/мес\n",
    "\n",
    "Ultra = 2093 руб/мес\n",
    "\n",
    "**Среднее по смс:**\n",
    "\n",
    "Smart = 39 шт/мес\n",
    "\n",
    "Ultra = 58 шт/мес\n",
    "\n",
    "**Среднее по трафику:**\n",
    "\n",
    "Smart = 19535 мб/мес\n",
    "\n",
    "Ultra = 20418 мб/мес\n",
    "\n",
    "**Среднее по минутам разговора:**\n",
    "\n",
    "Smart = 472 мин/мес\n",
    "\n",
    "Ultra = 612 мин/мес\n",
    "\n",
    "Проведя анализ на статистическу значимость получили выводы:\n",
    "1. Отличия выручки у двух тарифов статистически значимы, то есть они отличаются\n",
    "2. Отличия выручки Москвы от регионов статистически не значимы, то есть мы не можем утверждать разные они иили нет."
   ]
  },
  {
   "cell_type": "markdown",
   "metadata": {},
   "source": [
    "**Какой тариф приносит больше выручки?**\n",
    "\n",
    "На тарифе ultra, вероятность, что клиент будет приносить больше денег, выше на 21%"
   ]
  }
 ],
 "metadata": {
  "kernelspec": {
   "display_name": "Python 3",
   "language": "python",
   "name": "python3"
  },
  "language_info": {
   "codemirror_mode": {
    "name": "ipython",
    "version": 3
   },
   "file_extension": ".py",
   "mimetype": "text/x-python",
   "name": "python",
   "nbconvert_exporter": "python",
   "pygments_lexer": "ipython3",
   "version": "3.7.3"
  }
 },
 "nbformat": 4,
 "nbformat_minor": 2
}
