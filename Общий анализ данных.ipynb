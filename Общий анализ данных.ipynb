{
 "cells": [
  {
   "cell_type": "markdown",
   "metadata": {},
   "source": [
    "<a name=\"1common.\"></a>\n",
    "## Содержание:\n",
    "* [1. Описание проекта, описание данных, загрузка и импорт библиотек](#1.)\n",
    "     - [1.1. Подготовка данных](#1.1.)\n",
    "* [2. Исследовательский анализ данных](#2.)\n",
    "     - [2.1. Период жизни](#2.1.)\n",
    "     - [2.2. Топ - 5 платформ](#2.2.)\n",
    "     - [2.3. Зависимость продаж от рейтинга](#2.3.)\n",
    "     - [2.4. Портрет пользователя в каждом регионе](#2.4.)\n",
    "* [3. Проверка гипотез](#3.)\n",
    "* [4. Общий вывод](#4.)"
   ]
  },
  {
   "cell_type": "markdown",
   "metadata": {},
   "source": [
    " <a name=\"1.\"><a/><br/>\n",
    "    <font size =\"5\"><b>1. Описание проекта, описание данных, загрузка и импорт библиотек</b></font><br/>\n",
    "[<font size=\"2\">(к содержанию)</font>](#1common.)"
   ]
  },
  {
   "cell_type": "markdown",
   "metadata": {},
   "source": [
    "Вы работаете в интернет-магазине «Стримчик», который продаёт по всему миру компьютерные игры. Из открытых источников доступны исторические данные о продажах игр, оценки пользователей и экспертов, жанры и платформы (например, Xbox или PlayStation). Вам нужно выявить определяющие успешность игры закономерности. Это позволит сделать ставку на потенциально популярный продукт и спланировать рекламные кампании.\n",
    "\n",
    "Перед вами данные до 2016 года. Представим, что сейчас декабрь 2016 г., и вы планируете кампанию на 2017-й. Нужно отработать принцип работы с данными. Не важно, прогнозируете ли вы продажи на 2017 год по данным 2016-го или же 2027-й — по данным 2026 года.\n",
    "\n",
    "В наборе данных попадается аббревиатура ESRB (Entertainment Software Rating Board) — это ассоциация, определяющая возрастной рейтинг компьютерных игр. ESRB оценивает игровой контент и присваивает ему подходящую возрастную категорию, например, «Для взрослых», «Для детей младшего возраста» или «Для подростков»."
   ]
  },
  {
   "cell_type": "markdown",
   "metadata": {},
   "source": [
    "Описание данных\n",
    "\n",
    "* Name — название игры\n",
    "* Platform — платформа\n",
    "* Year_of_Release — год выпуска\n",
    "* Genre — жанр игры\n",
    "* NA_sales — продажи в Северной Америке (миллионы долларов)\n",
    "* EU_sales — продажи в Европе (миллионы долларов)\n",
    "* JP_sales — продажи в Японии (миллионы долларов)\n",
    "* Other_sales — продажи в других странах (миллионы долларов)\n",
    "* Critic_Score — оценка критиков (максимум 100)\n",
    "* User_Score — оценка пользователей (максимум 10)\n",
    "* Rating — рейтинг от организации ESRB (англ. Entertainment Software Rating Board). Эта ассоциация определяет рейтинг компьютерных игр и присваивает им подходящую возрастную категорию."
   ]
  },
  {
   "cell_type": "code",
   "execution_count": 57,
   "metadata": {},
   "outputs": [],
   "source": [
    "#для работа с таблицами\n",
    "import pandas as pd\n",
    "\n",
    "#для математики\n",
    "import numpy as np\n",
    "\n",
    "#для графиков\n",
    "import matplotlib.pyplot as plt\n",
    "import seaborn as sns\n",
    "import plotly\n",
    "import plotly.graph_objs as go\n",
    "import pylab\n",
    "\n",
    "#для проверки гипотез\n",
    "from scipy import stats as st\n",
    "import scipy as sp#статистика\n",
    "import scipy.stats"
   ]
  },
  {
   "cell_type": "code",
   "execution_count": 13,
   "metadata": {},
   "outputs": [
    {
     "data": {
      "text/html": [
       "<div>\n",
       "<style scoped>\n",
       "    .dataframe tbody tr th:only-of-type {\n",
       "        vertical-align: middle;\n",
       "    }\n",
       "\n",
       "    .dataframe tbody tr th {\n",
       "        vertical-align: top;\n",
       "    }\n",
       "\n",
       "    .dataframe thead th {\n",
       "        text-align: right;\n",
       "    }\n",
       "</style>\n",
       "<table border=\"1\" class=\"dataframe\">\n",
       "  <thead>\n",
       "    <tr style=\"text-align: right;\">\n",
       "      <th></th>\n",
       "      <th>unnamed: 0</th>\n",
       "      <th>name</th>\n",
       "      <th>platform</th>\n",
       "      <th>year_of_release</th>\n",
       "      <th>genre</th>\n",
       "      <th>na_sales</th>\n",
       "      <th>eu_sales</th>\n",
       "      <th>jp_sales</th>\n",
       "      <th>other_sales</th>\n",
       "      <th>critic_score</th>\n",
       "      <th>user_score</th>\n",
       "      <th>rating</th>\n",
       "    </tr>\n",
       "  </thead>\n",
       "  <tbody>\n",
       "    <tr>\n",
       "      <th>0</th>\n",
       "      <td>0</td>\n",
       "      <td>Wii Sports</td>\n",
       "      <td>Wii</td>\n",
       "      <td>2006.0</td>\n",
       "      <td>Sports</td>\n",
       "      <td>41.36</td>\n",
       "      <td>28.96</td>\n",
       "      <td>3.77</td>\n",
       "      <td>8.45</td>\n",
       "      <td>76.0</td>\n",
       "      <td>8</td>\n",
       "      <td>E</td>\n",
       "    </tr>\n",
       "    <tr>\n",
       "      <th>1</th>\n",
       "      <td>1</td>\n",
       "      <td>Super Mario Bros.</td>\n",
       "      <td>NES</td>\n",
       "      <td>1985.0</td>\n",
       "      <td>Platform</td>\n",
       "      <td>29.08</td>\n",
       "      <td>3.58</td>\n",
       "      <td>6.81</td>\n",
       "      <td>0.77</td>\n",
       "      <td>NaN</td>\n",
       "      <td>NaN</td>\n",
       "      <td>NaN</td>\n",
       "    </tr>\n",
       "    <tr>\n",
       "      <th>2</th>\n",
       "      <td>2</td>\n",
       "      <td>Mario Kart Wii</td>\n",
       "      <td>Wii</td>\n",
       "      <td>2008.0</td>\n",
       "      <td>Racing</td>\n",
       "      <td>15.68</td>\n",
       "      <td>12.76</td>\n",
       "      <td>3.79</td>\n",
       "      <td>3.29</td>\n",
       "      <td>82.0</td>\n",
       "      <td>8.3</td>\n",
       "      <td>E</td>\n",
       "    </tr>\n",
       "    <tr>\n",
       "      <th>3</th>\n",
       "      <td>3</td>\n",
       "      <td>Wii Sports Resort</td>\n",
       "      <td>Wii</td>\n",
       "      <td>2009.0</td>\n",
       "      <td>Sports</td>\n",
       "      <td>15.61</td>\n",
       "      <td>10.93</td>\n",
       "      <td>3.28</td>\n",
       "      <td>2.95</td>\n",
       "      <td>80.0</td>\n",
       "      <td>8</td>\n",
       "      <td>E</td>\n",
       "    </tr>\n",
       "    <tr>\n",
       "      <th>4</th>\n",
       "      <td>4</td>\n",
       "      <td>Pokemon Red/Pokemon Blue</td>\n",
       "      <td>GB</td>\n",
       "      <td>1996.0</td>\n",
       "      <td>Role-Playing</td>\n",
       "      <td>11.27</td>\n",
       "      <td>8.89</td>\n",
       "      <td>10.22</td>\n",
       "      <td>1.00</td>\n",
       "      <td>NaN</td>\n",
       "      <td>NaN</td>\n",
       "      <td>NaN</td>\n",
       "    </tr>\n",
       "  </tbody>\n",
       "</table>\n",
       "</div>"
      ],
      "text/plain": [
       "   unnamed: 0                      name platform  year_of_release  \\\n",
       "0           0                Wii Sports      Wii           2006.0   \n",
       "1           1         Super Mario Bros.      NES           1985.0   \n",
       "2           2            Mario Kart Wii      Wii           2008.0   \n",
       "3           3         Wii Sports Resort      Wii           2009.0   \n",
       "4           4  Pokemon Red/Pokemon Blue       GB           1996.0   \n",
       "\n",
       "          genre  na_sales  eu_sales  jp_sales  other_sales  critic_score  \\\n",
       "0        Sports     41.36     28.96      3.77         8.45          76.0   \n",
       "1      Platform     29.08      3.58      6.81         0.77           NaN   \n",
       "2        Racing     15.68     12.76      3.79         3.29          82.0   \n",
       "3        Sports     15.61     10.93      3.28         2.95          80.0   \n",
       "4  Role-Playing     11.27      8.89     10.22         1.00           NaN   \n",
       "\n",
       "  user_score rating  \n",
       "0          8      E  \n",
       "1        NaN    NaN  \n",
       "2        8.3      E  \n",
       "3          8      E  \n",
       "4        NaN    NaN  "
      ]
     },
     "execution_count": 13,
     "metadata": {},
     "output_type": "execute_result"
    }
   ],
   "source": [
    "df = pd.read_csv('C:/Users/User/Desktop/Python/Практикум/df_games123.csv')\n",
    "\n",
    "#приведем столбцы к нижнему регистру\n",
    "df.columns = map(str.lower, df.columns)\n",
    "df.head()"
   ]
  },
  {
   "cell_type": "code",
   "execution_count": 14,
   "metadata": {},
   "outputs": [
    {
     "name": "stdout",
     "output_type": "stream",
     "text": [
      "Данная таблица имеет 12 столбцов.\n",
      "В ней 6 столбцов с пропусками.\n"
     ]
    },
    {
     "data": {
      "text/html": [
       "<div>\n",
       "<style scoped>\n",
       "    .dataframe tbody tr th:only-of-type {\n",
       "        vertical-align: middle;\n",
       "    }\n",
       "\n",
       "    .dataframe tbody tr th {\n",
       "        vertical-align: top;\n",
       "    }\n",
       "\n",
       "    .dataframe thead th {\n",
       "        text-align: right;\n",
       "    }\n",
       "</style>\n",
       "<table border=\"1\" class=\"dataframe\">\n",
       "  <thead>\n",
       "    <tr style=\"text-align: right;\">\n",
       "      <th></th>\n",
       "      <th>Пропуски</th>\n",
       "      <th>% от общего</th>\n",
       "    </tr>\n",
       "  </thead>\n",
       "  <tbody>\n",
       "    <tr>\n",
       "      <th>critic_score</th>\n",
       "      <td>8578</td>\n",
       "      <td>51.3</td>\n",
       "    </tr>\n",
       "    <tr>\n",
       "      <th>rating</th>\n",
       "      <td>6766</td>\n",
       "      <td>40.5</td>\n",
       "    </tr>\n",
       "    <tr>\n",
       "      <th>user_score</th>\n",
       "      <td>6701</td>\n",
       "      <td>40.1</td>\n",
       "    </tr>\n",
       "    <tr>\n",
       "      <th>year_of_release</th>\n",
       "      <td>269</td>\n",
       "      <td>1.6</td>\n",
       "    </tr>\n",
       "    <tr>\n",
       "      <th>name</th>\n",
       "      <td>2</td>\n",
       "      <td>0.0</td>\n",
       "    </tr>\n",
       "    <tr>\n",
       "      <th>genre</th>\n",
       "      <td>2</td>\n",
       "      <td>0.0</td>\n",
       "    </tr>\n",
       "  </tbody>\n",
       "</table>\n",
       "</div>"
      ],
      "text/plain": [
       "                 Пропуски  % от общего\n",
       "critic_score         8578         51.3\n",
       "rating               6766         40.5\n",
       "user_score           6701         40.1\n",
       "year_of_release       269          1.6\n",
       "name                    2          0.0\n",
       "genre                   2          0.0"
      ]
     },
     "execution_count": 14,
     "metadata": {},
     "output_type": "execute_result"
    }
   ],
   "source": [
    "#фунция для поиска пропусков и их количества от общего числа данных\n",
    "def missing_table(df):\n",
    "        # Сумма пропущенных значений\n",
    "        mis_val = df.isnull().sum()\n",
    "        # Процент пропусков\n",
    "        mis_val_percent = 100 * df.isnull().sum() / len(df)\n",
    "        # Таблица с реультатами\n",
    "        mis_val_table = pd.concat([mis_val, mis_val_percent], axis=1)\n",
    "        # Переменуем столбцы\n",
    "        mis_val_table_ren_columns = mis_val_table.rename(\n",
    "        columns = {0 : \"Пропуски\", 1 : \"% от общего\"})\n",
    "        # Отсортируем проценты по убыванию\n",
    "        mis_val_table_ren_columns = mis_val_table_ren_columns[mis_val_table_ren_columns['Пропуски'] != 0].sort_values(\n",
    "        \"% от общего\", ascending=False).round(1)\n",
    "        # Выведем инфу на экран\n",
    "        print (\"Данная таблица имеет \" + str(df.shape[1]) + \" столбцов.\\n\"      \n",
    "            \"В ней \" + str(mis_val_table_ren_columns.shape[0]) +\n",
    "              \" столбцов с пропусками.\")\n",
    "        # Вернем полученную таблицу\n",
    "        return mis_val_table_ren_columns\n",
    "missing_table(df)"
   ]
  },
  {
   "cell_type": "markdown",
   "metadata": {},
   "source": [
    "<a name=\"1.1.\"><a/><br/>\n",
    "    <font size =\"4\"><b>1.1.Подготовка данных</b></font><br/>\n",
    "[<font size=\"2\">(к содержанию)</font>](#1common.)"
   ]
  },
  {
   "cell_type": "markdown",
   "metadata": {},
   "source": [
    "В столбце user_score встречается рейтинг 'tbd'. В английских сокращениях это значит To Be Determined, то есть \"Будет определено\". Значит рейтинга так же нет"
   ]
  },
  {
   "cell_type": "code",
   "execution_count": 17,
   "metadata": {},
   "outputs": [
    {
     "data": {
      "text/plain": [
       "2424"
      ]
     },
     "execution_count": 17,
     "metadata": {},
     "output_type": "execute_result"
    }
   ],
   "source": [
    "#проверим их количество\n",
    "len(df.query('user_score == \"tbd\"'))#"
   ]
  },
  {
   "cell_type": "code",
   "execution_count": 19,
   "metadata": {},
   "outputs": [],
   "source": [
    "#заменим на NaN Для прощения работы\n",
    "df['user_score'] = df['user_score'].replace(\"tbd\", \"NaN\")"
   ]
  },
  {
   "cell_type": "markdown",
   "metadata": {},
   "source": [
    "Будм заменять пропущенные значения в столбцах 'year_of_release', 'critic_score', 'user_score'\n",
    "1. 'year_of_release' - сгруппируем данные по платформе и найдем медианой значения. Заменим пропущенные значения в годах в соответствии с платформой.\n",
    "2. 'critic_score' - заменим на медианный значения сгрупированные по жанрам\n",
    "3. 'user_score' - заменим на медианный значения сгрупированные по жанрам\n",
    "\n",
    "**Для замены будем использовать dict и map()**"
   ]
  },
  {
   "cell_type": "code",
   "execution_count": 22,
   "metadata": {},
   "outputs": [],
   "source": [
    "#заменим пропуски в годах и приведем к удобноvу виду\n",
    "dict_year = df.pivot_table(index = 'platform', values = 'year_of_release', aggfunc = 'median').to_dict('dict')\n",
    "df['year'] = df['platform'].map(dict_year['year_of_release'])\n",
    "df['year_of_release'] = df['year_of_release'].fillna(df['year']).astype(int)\n",
    "\n",
    "#во float\n",
    "df['user_score'] = pd.to_numeric(df['user_score'], errors='coerce')\n",
    "\n",
    "#заменим пропуски в критиках\n",
    "dict_critic = df.pivot_table(index = 'genre', values = ['critic_score'], aggfunc = 'median').to_dict('dict')\n",
    "df['cr'] = df['genre'].map(dict_critic['critic_score'])\n",
    "df['critic_score'] = df['critic_score'].fillna(df['cr'])\n",
    "\n",
    "#заменим пропуски в оценке пользователей\n",
    "dict_user = df.pivot_table(index = 'genre', values = ['user_score'], aggfunc = 'median').to_dict('dict')\n",
    "df['us'] = df['genre'].map(dict_user['user_score'])\n",
    "df['user_score'] = df['user_score'].fillna(df['us'])\n",
    "\n",
    "#удалим ненужные столбцы\n",
    "columns = ['year', 'cr', 'us']\n",
    "df.drop(columns, inplace=True, axis=1)"
   ]
  },
  {
   "cell_type": "code",
   "execution_count": 23,
   "metadata": {},
   "outputs": [
    {
     "data": {
      "text/plain": [
       "unnamed: 0            0\n",
       "name                  2\n",
       "platform              0\n",
       "year_of_release       0\n",
       "genre                 2\n",
       "na_sales              0\n",
       "eu_sales              0\n",
       "jp_sales              0\n",
       "other_sales           0\n",
       "critic_score          2\n",
       "user_score            2\n",
       "rating             6766\n",
       "dtype: int64"
      ]
     },
     "execution_count": 23,
     "metadata": {},
     "output_type": "execute_result"
    }
   ],
   "source": [
    "#проверка\n",
    "df.isnull().sum()"
   ]
  },
  {
   "cell_type": "code",
   "execution_count": 24,
   "metadata": {},
   "outputs": [],
   "source": [
    "#считаем общую выручку\n",
    "df['sum_sales'] = df['na_sales'] + df['eu_sales'] + df['jp_sales'] + df['other_sales']"
   ]
  },
  {
   "cell_type": "markdown",
   "metadata": {},
   "source": [
    " <a name=\"2.\"><a/><br/>\n",
    "    <font size =\"5\"><b>2. Исследовательский анализ данных</b></font><br/>\n",
    "[<font size=\"2\">(к содержанию)</font>](#1common.)"
   ]
  },
  {
   "cell_type": "code",
   "execution_count": 25,
   "metadata": {},
   "outputs": [
    {
     "data": {
      "text/plain": [
       "array([[<matplotlib.axes._subplots.AxesSubplot object at 0x00000229A713B668>]],\n",
       "      dtype=object)"
      ]
     },
     "execution_count": 25,
     "metadata": {},
     "output_type": "execute_result"
    },
    {
     "data": {
      "image/png": "[encoded data removed]",
      "text/plain": [
       "<Figure size 432x288 with 1 Axes>"
      ]
     },
     "metadata": {
      "needs_background": "light"
     },
     "output_type": "display_data"
    }
   ],
   "source": [
    "#посмотрели данные по количесвту игор за все года\n",
    "df.hist('year_of_release', bins = 30)"
   ]
  },
  {
   "cell_type": "code",
   "execution_count": 31,
   "metadata": {},
   "outputs": [
    {
     "data": {
      "text/html": [
       "<div>\n",
       "<style scoped>\n",
       "    .dataframe tbody tr th:only-of-type {\n",
       "        vertical-align: middle;\n",
       "    }\n",
       "\n",
       "    .dataframe tbody tr th {\n",
       "        vertical-align: top;\n",
       "    }\n",
       "\n",
       "    .dataframe thead th {\n",
       "        text-align: right;\n",
       "    }\n",
       "</style>\n",
       "<table border=\"1\" class=\"dataframe\">\n",
       "  <thead>\n",
       "    <tr style=\"text-align: right;\">\n",
       "      <th></th>\n",
       "      <th>sum_sales</th>\n",
       "    </tr>\n",
       "    <tr>\n",
       "      <th>platform</th>\n",
       "      <th></th>\n",
       "    </tr>\n",
       "  </thead>\n",
       "  <tbody>\n",
       "    <tr>\n",
       "      <th>PS2</th>\n",
       "      <td>1255.77</td>\n",
       "    </tr>\n",
       "    <tr>\n",
       "      <th>X360</th>\n",
       "      <td>971.42</td>\n",
       "    </tr>\n",
       "    <tr>\n",
       "      <th>PS3</th>\n",
       "      <td>939.65</td>\n",
       "    </tr>\n",
       "    <tr>\n",
       "      <th>Wii</th>\n",
       "      <td>907.51</td>\n",
       "    </tr>\n",
       "    <tr>\n",
       "      <th>DS</th>\n",
       "      <td>806.12</td>\n",
       "    </tr>\n",
       "    <tr>\n",
       "      <th>PS</th>\n",
       "      <td>730.86</td>\n",
       "    </tr>\n",
       "    <tr>\n",
       "      <th>GBA</th>\n",
       "      <td>317.85</td>\n",
       "    </tr>\n",
       "    <tr>\n",
       "      <th>PS4</th>\n",
       "      <td>314.14</td>\n",
       "    </tr>\n",
       "    <tr>\n",
       "      <th>PSP</th>\n",
       "      <td>294.05</td>\n",
       "    </tr>\n",
       "    <tr>\n",
       "      <th>PC</th>\n",
       "      <td>259.52</td>\n",
       "    </tr>\n",
       "  </tbody>\n",
       "</table>\n",
       "</div>"
      ],
      "text/plain": [
       "          sum_sales\n",
       "platform           \n",
       "PS2         1255.77\n",
       "X360         971.42\n",
       "PS3          939.65\n",
       "Wii          907.51\n",
       "DS           806.12\n",
       "PS           730.86\n",
       "GBA          317.85\n",
       "PS4          314.14\n",
       "PSP          294.05\n",
       "PC           259.52"
      ]
     },
     "execution_count": 31,
     "metadata": {},
     "output_type": "execute_result"
    }
   ],
   "source": [
    "top_plt = (df.pivot_table(index = 'platform', values = 'sum_sales', aggfunc = 'sum')\n",
    "    .sort_values(by = 'sum_sales', ascending = False)\n",
    "    .head(10)\n",
    ")\n",
    "#определим самые популярные платформы\n",
    "top_plt"
   ]
  },
  {
   "cell_type": "markdown",
   "metadata": {},
   "source": [
    "**Вывод**\n",
    "\n",
    "Видно что данные с 1980 - 1994 не очень важны, так как игр выпускалось очень мало, да и вообще игровая индустрия только делала первые шаги. Наблюдаем всплески выхода игр 2005, 2010, 2015"
   ]
  },
  {
   "cell_type": "markdown",
   "metadata": {},
   "source": [
    "<a name=\"2.1.\"><a/><br/>\n",
    "    <font size =\"4\"><b>2.1.Период жизни</b></font><br/>\n",
    "[<font size=\"2\">(к содержанию)</font>](#1common.)"
   ]
  },
  {
   "cell_type": "code",
   "execution_count": 28,
   "metadata": {},
   "outputs": [
    {
     "data": {
      "text/plain": [
       "Text(0.5, 1.0, 'Распределение продаж по годам и платформам')"
      ]
     },
     "execution_count": 28,
     "metadata": {},
     "output_type": "execute_result"
    },
    {
     "data": {
      "image/png": "[encoded data removed]",
      "text/plain": [
       "<Figure size 1296x720 with 1 Axes>"
      ]
     },
     "metadata": {
      "needs_background": "light"
     },
     "output_type": "display_data"
    }
   ],
   "source": [
    "data = df.query('platform in @top_plt.index')\n",
    "data1 = data.pivot_table(index='year_of_release', values='sum_sales', columns='platform', aggfunc = 'sum')\n",
    "data1.plot.area(grid=True, figsize=(18, 10), alpha = 0.3)\n",
    "plt.xlabel('Года')\n",
    "plt.ylabel('Продажи весь мир, млн. долл.')\n",
    "plt.title('Распределение продаж по годам и платформам')"
   ]
  },
  {
   "cell_type": "markdown",
   "metadata": {},
   "source": [
    "**Вывод**\n",
    "\n",
    "Можно сделать выод ,что средний срок жизни платформы 10 лет. Через 5 лет она на пике попупулярности, следующие 5 лет устаревание и появление на рынке более новых моделей. \n",
    "\n",
    "**Актуальный период** 2014-2016 год, последние 5 лет спад продаж у лидеров рынков. Значит на рынок выходят новые модели. PS4 и XOne например"
   ]
  },
  {
   "cell_type": "markdown",
   "metadata": {},
   "source": [
    "<a name=\"2.2.\"><a/><br/>\n",
    "    <font size =\"4\"><b>2.2.Топ - 5 платформ</b></font><br/>\n",
    "[<font size=\"2\">(к содержанию)</font>](#1common.)"
   ]
  },
  {
   "cell_type": "code",
   "execution_count": 105,
   "metadata": {},
   "outputs": [
    {
     "data": {
      "text/plain": [
       "<matplotlib.axes._subplots.AxesSubplot at 0x229b895ee10>"
      ]
     },
     "execution_count": 105,
     "metadata": {},
     "output_type": "execute_result"
    },
    {
     "data": {
      "image/png": "[encoded data removed]",
      "text/plain": [
       "<Figure size 1080x576 with 2 Axes>"
      ]
     },
     "metadata": {
      "needs_background": "light"
     },
     "output_type": "display_data"
    }
   ],
   "source": [
    "new_df = df.query('year_of_release >= 2014')\n",
    "new_df1 = new_df.pivot_table(index='year_of_release', values='sum_sales', columns='platform', aggfunc = 'sum')\n",
    "plt.figure(figsize=(15,8))\n",
    "sns.heatmap(new_df1, annot=True, fmt=\".1f\")"
   ]
  },
  {
   "cell_type": "code",
   "execution_count": 32,
   "metadata": {},
   "outputs": [
    {
     "data": {
      "text/html": [
       "<div>\n",
       "<style scoped>\n",
       "    .dataframe tbody tr th:only-of-type {\n",
       "        vertical-align: middle;\n",
       "    }\n",
       "\n",
       "    .dataframe tbody tr th {\n",
       "        vertical-align: top;\n",
       "    }\n",
       "\n",
       "    .dataframe thead th {\n",
       "        text-align: right;\n",
       "    }\n",
       "</style>\n",
       "<table border=\"1\" class=\"dataframe\">\n",
       "  <thead>\n",
       "    <tr style=\"text-align: right;\">\n",
       "      <th></th>\n",
       "      <th>sum_sales</th>\n",
       "    </tr>\n",
       "    <tr>\n",
       "      <th>platform</th>\n",
       "      <th></th>\n",
       "    </tr>\n",
       "  </thead>\n",
       "  <tbody>\n",
       "    <tr>\n",
       "      <th>PS4</th>\n",
       "      <td>288.15</td>\n",
       "    </tr>\n",
       "    <tr>\n",
       "      <th>XOne</th>\n",
       "      <td>140.36</td>\n",
       "    </tr>\n",
       "    <tr>\n",
       "      <th>3DS</th>\n",
       "      <td>86.68</td>\n",
       "    </tr>\n",
       "    <tr>\n",
       "      <th>PS3</th>\n",
       "      <td>68.18</td>\n",
       "    </tr>\n",
       "    <tr>\n",
       "      <th>X360</th>\n",
       "      <td>48.22</td>\n",
       "    </tr>\n",
       "    <tr>\n",
       "      <th>WiiU</th>\n",
       "      <td>42.98</td>\n",
       "    </tr>\n",
       "    <tr>\n",
       "      <th>PC</th>\n",
       "      <td>27.05</td>\n",
       "    </tr>\n",
       "    <tr>\n",
       "      <th>PSV</th>\n",
       "      <td>22.66</td>\n",
       "    </tr>\n",
       "    <tr>\n",
       "      <th>Wii</th>\n",
       "      <td>5.07</td>\n",
       "    </tr>\n",
       "    <tr>\n",
       "      <th>PSP</th>\n",
       "      <td>0.36</td>\n",
       "    </tr>\n",
       "  </tbody>\n",
       "</table>\n",
       "</div>"
      ],
      "text/plain": [
       "          sum_sales\n",
       "platform           \n",
       "PS4          288.15\n",
       "XOne         140.36\n",
       "3DS           86.68\n",
       "PS3           68.18\n",
       "X360          48.22\n",
       "WiiU          42.98\n",
       "PC            27.05\n",
       "PSV           22.66\n",
       "Wii            5.07\n",
       "PSP            0.36"
      ]
     },
     "execution_count": 32,
     "metadata": {},
     "output_type": "execute_result"
    }
   ],
   "source": [
    "(\n",
    "new_df.pivot_table(index='platform', values='sum_sales', aggfunc = 'sum')\n",
    "    .sort_values(by = 'sum_sales', ascending = False)\n",
    ")"
   ]
  },
  {
   "cell_type": "markdown",
   "metadata": {},
   "source": [
    "##### Выбираем 5 потенциальных платформы (**XOne,PS4, 3DS, PC, PS3**)\n",
    "\n",
    "Продажи падают по всем платформам, но лидиры рынка удерживают свои позиции лидеров.PC выбрали, из-за хорошего потенциала роста"
   ]
  },
  {
   "cell_type": "code",
   "execution_count": 38,
   "metadata": {},
   "outputs": [
    {
     "data": {
      "text/html": [
       "<div>\n",
       "<style scoped>\n",
       "    .dataframe tbody tr th:only-of-type {\n",
       "        vertical-align: middle;\n",
       "    }\n",
       "\n",
       "    .dataframe tbody tr th {\n",
       "        vertical-align: top;\n",
       "    }\n",
       "\n",
       "    .dataframe thead th {\n",
       "        text-align: right;\n",
       "    }\n",
       "</style>\n",
       "<table border=\"1\" class=\"dataframe\">\n",
       "  <thead>\n",
       "    <tr style=\"text-align: right;\">\n",
       "      <th></th>\n",
       "      <th>sum_sales</th>\n",
       "    </tr>\n",
       "    <tr>\n",
       "      <th>platform</th>\n",
       "      <th></th>\n",
       "    </tr>\n",
       "  </thead>\n",
       "  <tbody>\n",
       "    <tr>\n",
       "      <th>3DS</th>\n",
       "      <td>0.41</td>\n",
       "    </tr>\n",
       "    <tr>\n",
       "      <th>PC</th>\n",
       "      <td>0.18</td>\n",
       "    </tr>\n",
       "    <tr>\n",
       "      <th>PS3</th>\n",
       "      <td>0.31</td>\n",
       "    </tr>\n",
       "    <tr>\n",
       "      <th>PS4</th>\n",
       "      <td>0.77</td>\n",
       "    </tr>\n",
       "    <tr>\n",
       "      <th>XOne</th>\n",
       "      <td>0.62</td>\n",
       "    </tr>\n",
       "  </tbody>\n",
       "</table>\n",
       "</div>"
      ],
      "text/plain": [
       "          sum_sales\n",
       "platform           \n",
       "3DS            0.41\n",
       "PC             0.18\n",
       "PS3            0.31\n",
       "PS4            0.77\n",
       "XOne           0.62"
      ]
     },
     "execution_count": 38,
     "metadata": {},
     "output_type": "execute_result"
    },
    {
     "data": {
      "image/png": "[encoded data removed]",
      "text/plain": [
       "<Figure size 1080x576 with 1 Axes>"
      ]
     },
     "metadata": {
      "needs_background": "light"
     },
     "output_type": "display_data"
    }
   ],
   "source": [
    "top_platform = new_df.query('platform == [\"PC\",\"PS4\",\"XOne\",\"3DS\", \"PS3\"]')\n",
    "plt.figure(figsize=(15,8))\n",
    "plt.xlim([0,4])\n",
    "sns.boxplot(x='sum_sales', y='platform', data=top_platform, orient='h')\n",
    "top_platform.pivot_table(index = 'platform', values = 'sum_sales', aggfunc = 'mean').round(2)"
   ]
  },
  {
   "cell_type": "markdown",
   "metadata": {},
   "source": [
    "**Вывод**\n",
    "\n",
    "По диаграмме размаха и по средним можно сказать, что продажи по разным платформам отличаются. Лучше всего продажи на самых популярных PS4 и XOne"
   ]
  },
  {
   "cell_type": "markdown",
   "metadata": {},
   "source": [
    "<a name=\"2.3.\"><a/><br/>\n",
    "    <font size =\"4\"><b>2.3.Зависимость продаж от рейтинга</b></font><br/>\n",
    "[<font size=\"2\">(к содержанию)</font>](#1common.)"
   ]
  },
  {
   "cell_type": "code",
   "execution_count": 40,
   "metadata": {},
   "outputs": [
    {
     "data": {
      "text/html": [
       "        <script type=\"text/javascript\">\n",
       "        window.PlotlyConfig = {MathJaxConfig: 'local'};\n",
       "        if (window.MathJax) {MathJax.Hub.Config({SVG: {font: \"STIX-Web\"}});}\n",
       "        if (typeof require !== 'undefined') {\n",
       "        require.undef(\"plotly\");\n",
       "        requirejs.config({\n",
       "            paths: {\n",
       "                'plotly': ['https://cdn.plot.ly/plotly-latest.min']\n",
       "            }\n",
       "        });\n",
       "        require(['plotly'], function(Plotly) {\n",
       "            window._Plotly = Plotly;\n",
       "        });\n",
       "        }\n",
       "        </script>\n",
       "        "
      ]
     },
     "metadata": {},
     "output_type": "display_data"
    },
    {
     "data": {
      "application/vnd.plotly.v1+json": {
       "config": {
        "linkText": "Export to plot.ly",
        "plotlyServerURL": "https://plot.ly",
        "showLink": false
       },
       "data": [
        {
         "line": {
          "width": 0.02
         },
         "marker": {
          "colorscale": [
           [
            0,
            "#440154"
           ],
           [
            0.1111111111111111,
            "#482878"
           ],
           [
            0.2222222222222222,
            "#3e4989"
           ],
           [
            0.3333333333333333,
            "#31688e"
           ],
           [
            0.4444444444444444,
            "#26828e"
           ],
           [
            0.5555555555555556,
            "#1f9e89"
           ],
           [
            0.6666666666666666,
            "#35b779"
           ],
           [
            0.7777777777777778,
            "#6ece58"
           ],
           [
            0.8888888888888888,
            "#b5de2b"
           ],
           [
            1,
            "#fde725"
           ]
          ],
          "opacity": 0.8,
          "reversescale": true,
          "size": 3
         },
         "mode": "markers",
         "type": "scatter3d",
         "x": [
          73,
          97,
          82,
          73,
          83,
          85,
          87,
          82,
          76,
          93,
          68,
          86,
          77,
          69,
          88,
          80,
          85,
          92,
          70,
          87,
          87,
          80,
          93,
          76,
          83,
          84,
          80,
          83,
          92,
          83,
          69,
          76,
          73,
          81,
          90,
          73,
          74,
          71,
          89,
          86,
          79,
          88,
          73,
          74,
          68,
          75,
          82,
          74,
          63,
          61,
          71,
          79,
          89,
          79,
          69,
          73,
          68,
          74,
          75,
          73,
          68,
          62,
          79,
          83,
          79,
          69,
          83,
          70,
          90,
          74,
          76,
          66,
          79,
          73,
          80,
          77,
          70,
          68,
          82,
          80,
          68,
          87,
          89,
          82,
          74,
          74,
          68,
          71,
          80,
          83,
          68,
          73,
          78,
          66,
          67,
          71,
          65,
          68,
          68,
          88,
          69,
          78,
          68,
          75,
          74,
          72,
          69,
          60,
          75,
          68,
          61,
          68,
          81,
          74,
          66,
          85,
          78,
          68,
          76,
          79,
          69,
          74,
          72,
          85,
          68,
          68,
          72,
          69,
          72,
          78,
          84,
          68,
          74,
          84,
          85,
          85,
          73,
          70,
          48,
          66,
          69,
          81,
          72,
          77,
          78,
          74,
          59,
          76,
          81,
          68,
          75,
          68,
          60,
          72,
          80,
          68,
          74,
          73,
          68,
          66,
          73,
          81,
          72,
          68,
          59,
          66,
          63,
          57,
          76,
          73,
          59,
          77,
          74,
          68,
          66,
          68,
          83,
          32,
          72,
          74,
          62,
          68,
          87,
          53,
          63,
          47,
          69,
          68,
          59,
          73,
          67,
          66,
          59,
          68,
          66,
          74,
          75,
          58,
          72,
          66,
          68,
          79,
          73,
          68,
          80,
          80,
          88,
          45,
          63,
          81,
          80,
          86,
          76,
          75,
          74,
          65,
          68,
          73,
          19,
          75,
          74,
          79,
          69,
          68,
          68,
          71,
          73,
          73,
          53,
          70,
          68,
          71,
          69,
          68,
          68,
          44,
          69,
          67,
          69,
          66,
          74,
          68,
          74,
          68,
          73,
          85,
          66,
          70,
          90,
          72,
          77,
          75,
          60,
          69,
          74,
          75,
          74,
          68,
          64,
          62,
          71,
          78,
          72,
          68,
          63,
          83,
          72,
          73,
          67,
          74,
          64,
          60,
          74,
          66,
          68,
          42,
          25,
          68,
          75,
          73,
          69,
          68,
          52,
          43,
          74,
          75,
          76,
          66,
          69,
          81,
          68,
          74,
          78,
          73,
          64,
          66,
          82,
          71,
          68,
          71,
          66,
          80,
          70,
          64,
          72,
          78,
          74,
          68,
          68,
          69,
          69,
          68,
          68,
          73,
          53,
          77,
          74,
          61,
          73,
          68,
          68,
          74,
          80,
          78,
          68,
          88,
          66,
          82,
          68,
          69,
          59,
          57,
          67,
          69,
          62,
          72,
          67,
          58,
          69,
          68,
          62,
          68,
          52,
          31,
          74,
          55,
          68,
          79,
          68,
          70,
          48,
          69,
          68,
          72,
          68,
          49,
          69,
          68,
          68,
          68,
          69,
          66,
          72,
          66,
          74,
          68,
          66,
          75,
          42,
          68,
          70,
          69,
          66,
          61,
          51,
          70
         ],
         "y": [
          7.4,
          8.3,
          4.3,
          7.4,
          5.7,
          5,
          6.5,
          5.7,
          6.1,
          7.9,
          7.4,
          8.1,
          3.4,
          7.1,
          8.4,
          6.3,
          7.7,
          9.2,
          4.9,
          7.6,
          6.7,
          7,
          8.2,
          6.8,
          5.9,
          8.1,
          7.9,
          7.7,
          8.6,
          7,
          7.4,
          6.3,
          7.3,
          6.1,
          6.1,
          5,
          7.9,
          6.1,
          7.4,
          6,
          7.1,
          6.7,
          6.5,
          7.8,
          5.1,
          7.3,
          4.9,
          7.8,
          6.6,
          5.4,
          4.5,
          8.2,
          8.8,
          8.1,
          7.7,
          7.4,
          7.4,
          7.8,
          6.2,
          7.4,
          7.4,
          5.1,
          8.2,
          7.8,
          8.1,
          7.7,
          6.6,
          6.1,
          8.5,
          7.8,
          4.3,
          7.6,
          6.2,
          7.1,
          7.8,
          3.4,
          7,
          7.4,
          7.8,
          6.2,
          7.4,
          7.1,
          8.4,
          7.2,
          7.8,
          7.8,
          7.4,
          7,
          7.1,
          7.7,
          7.4,
          7.8,
          7.5,
          7.6,
          7.1,
          7.1,
          6.3,
          7.4,
          7.4,
          7.7,
          7.1,
          5.5,
          7.4,
          7.6,
          7.8,
          6.6,
          6.9,
          3.6,
          7.7,
          7.4,
          3.7,
          6.6,
          7.7,
          7.4,
          7.6,
          7.6,
          5.6,
          7.4,
          8,
          7.2,
          8.7,
          7.8,
          6.8,
          8.6,
          7.4,
          7.4,
          8,
          7.4,
          5.8,
          6.3,
          7.6,
          7.4,
          7.8,
          8.5,
          8.7,
          8.1,
          6.8,
          7.5,
          3.8,
          7.8,
          4.7,
          7.9,
          7.6,
          8.3,
          5.8,
          7.8,
          6.9,
          7.1,
          3.3,
          7.4,
          7.3,
          7.4,
          5.7,
          6.6,
          8.1,
          7.4,
          7.8,
          7.4,
          7.4,
          7.6,
          8.5,
          8.1,
          7.6,
          6.8,
          7.1,
          7.6,
          6.3,
          6.5,
          8.1,
          8.1,
          5.6,
          7.5,
          7.8,
          7.4,
          7,
          7.4,
          8.4,
          1.5,
          7.4,
          7.8,
          6.8,
          7.4,
          8.2,
          5.9,
          7.5,
          4.1,
          7.7,
          7.4,
          7.8,
          6.4,
          8,
          7.1,
          6.1,
          7.4,
          7.4,
          7.6,
          7.4,
          6.5,
          7.6,
          7.6,
          7.4,
          8.7,
          8.1,
          7.4,
          7.7,
          5.5,
          8,
          5.9,
          6.4,
          8.6,
          8.2,
          7.6,
          7.4,
          8.1,
          7.8,
          6.9,
          7.4,
          7.3,
          3.4,
          8.5,
          7.8,
          7.9,
          8,
          7.4,
          7.4,
          5.9,
          6.3,
          6.8,
          6,
          7.5,
          7.4,
          6.5,
          7.1,
          7.4,
          7.4,
          5.5,
          7.4,
          7.4,
          6.6,
          7.6,
          7.8,
          6.1,
          6.7,
          7.4,
          7.8,
          7.6,
          6.3,
          7.8,
          7.6,
          7.6,
          6.1,
          7.4,
          6.7,
          7.3,
          7.8,
          8,
          7.8,
          7.4,
          7.1,
          7.7,
          6.2,
          8.1,
          7.8,
          7.4,
          8.6,
          7.9,
          7.2,
          6.2,
          7.6,
          7.8,
          7.9,
          6.7,
          7.8,
          7.6,
          7.4,
          4.1,
          1.9,
          7.4,
          3,
          7.8,
          7.1,
          7.4,
          3.5,
          7.8,
          7.8,
          7.4,
          8,
          7.6,
          7.1,
          8.3,
          7.4,
          7.8,
          7.4,
          7.4,
          5.7,
          3.8,
          8,
          8,
          7.4,
          8.1,
          7,
          8.1,
          6.9,
          6.8,
          8.3,
          6.6,
          7.8,
          7.4,
          7.8,
          7.9,
          6.4,
          7.4,
          7.4,
          7.5,
          5.1,
          6.9,
          7.8,
          7.4,
          7.1,
          7.4,
          7.4,
          7.8,
          8,
          7.6,
          7.4,
          8.4,
          7.6,
          6.6,
          7.4,
          7.1,
          6.6,
          7.8,
          6.2,
          7.1,
          6.4,
          7.6,
          7.4,
          7.1,
          7.1,
          7.6,
          6.5,
          7.4,
          7.9,
          4.5,
          7.8,
          4.7,
          6.1,
          8.5,
          7.4,
          7.5,
          2,
          7.1,
          7.4,
          7.6,
          7.4,
          6,
          7.8,
          7.4,
          7.4,
          7.4,
          7.1,
          7.6,
          5.8,
          6.2,
          7.8,
          7.4,
          7.6,
          7.4,
          2.3,
          7.4,
          6.8,
          7.5,
          7.6,
          7.9,
          5.5,
          7.5
         ],
         "z": [
          14.629999999999999,
          12.620000000000001,
          8.58,
          7.98,
          7.66,
          7.6000000000000005,
          7.17,
          6.08,
          5.640000000000001,
          5.39,
          4.72,
          4.62,
          4.470000000000001,
          4.32,
          4.07,
          4.05,
          4.04,
          3.9699999999999998,
          3.96,
          3.96,
          3.87,
          3.8,
          3.4200000000000004,
          3.3899999999999997,
          3.2399999999999998,
          2.96,
          2.7899999999999996,
          2.78,
          2.48,
          2.4499999999999997,
          2.42,
          2.2600000000000002,
          2.21,
          2.19,
          2.14,
          2.11,
          2.09,
          2.07,
          2.01,
          1.9200000000000002,
          1.9100000000000001,
          1.8800000000000001,
          1.85,
          1.83,
          1.81,
          1.7900000000000003,
          1.74,
          1.75,
          1.7200000000000002,
          1.7200000000000002,
          1.6900000000000002,
          1.6600000000000001,
          1.6600000000000001,
          1.54,
          1.54,
          1.49,
          1.4000000000000001,
          1.3199999999999998,
          1.2699999999999998,
          1.21,
          1.17,
          1.15,
          1.14,
          1.13,
          1.1199999999999999,
          1.1,
          1.0799999999999998,
          1.05,
          1.02,
          0.98,
          0.9700000000000001,
          0.9400000000000001,
          0.93,
          0.92,
          0.93,
          0.9,
          0.9,
          0.89,
          0.88,
          0.86,
          0.8200000000000001,
          0.78,
          0.7600000000000001,
          0.75,
          0.75,
          0.7300000000000001,
          0.73,
          0.73,
          0.73,
          0.72,
          0.73,
          0.7,
          0.71,
          0.6900000000000001,
          0.6900000000000001,
          0.67,
          0.67,
          0.66,
          0.64,
          0.64,
          0.63,
          0.63,
          0.62,
          0.61,
          0.61,
          0.6,
          0.6,
          0.6,
          0.54,
          0.56,
          0.51,
          0.52,
          0.49000000000000005,
          0.47000000000000003,
          0.46,
          0.45,
          0.44,
          0.43,
          0.43,
          0.43,
          0.42,
          0.4,
          0.4,
          0.38999999999999996,
          0.39999999999999997,
          0.4,
          0.39999999999999997,
          0.37999999999999995,
          0.39,
          0.38,
          0.38,
          0.37,
          0.37,
          0.37000000000000005,
          0.36000000000000004,
          0.36,
          0.36000000000000004,
          0.36000000000000004,
          0.35000000000000003,
          0.36,
          0.34,
          0.34,
          0.33999999999999997,
          0.34,
          0.33,
          0.33999999999999997,
          0.32,
          0.32,
          0.3,
          0.3,
          0.31,
          0.3,
          0.3,
          0.3,
          0.29,
          0.28,
          0.27999999999999997,
          0.29000000000000004,
          0.29000000000000004,
          0.27,
          0.27,
          0.26,
          0.26,
          0.26,
          0.26,
          0.24000000000000002,
          0.25,
          0.25,
          0.24000000000000002,
          0.24000000000000002,
          0.24000000000000002,
          0.23,
          0.23,
          0.23,
          0.23,
          0.21000000000000002,
          0.21000000000000002,
          0.19999999999999998,
          0.2,
          0.2,
          0.19999999999999998,
          0.2,
          0.2,
          0.19999999999999998,
          0.19,
          0.19,
          0.19999999999999998,
          0.19,
          0.18,
          0.18,
          0.18,
          0.18000000000000002,
          0.17,
          0.17,
          0.16999999999999998,
          0.16,
          0.17,
          0.16999999999999998,
          0.16,
          0.16,
          0.15,
          0.15,
          0.13999999999999999,
          0.15,
          0.14,
          0.13999999999999999,
          0.13999999999999999,
          0.13999999999999999,
          0.13,
          0.13,
          0.12000000000000001,
          0.13,
          0.12,
          0.12,
          0.12000000000000001,
          0.11,
          0.11,
          0.12,
          0.12000000000000001,
          0.12000000000000001,
          0.12000000000000001,
          0.11,
          0.09999999999999999,
          0.11,
          0.1,
          0.09,
          0.1,
          0.09,
          0.1,
          0.1,
          0.1,
          0.09999999999999999,
          0.09,
          0.09,
          0.1,
          0.09000000000000001,
          0.08,
          0.09,
          0.09,
          0.09,
          0.09,
          0.08,
          0.08,
          0.08,
          0.08,
          0.08,
          0.08,
          0.08,
          0.06999999999999999,
          0.09,
          0.09000000000000001,
          0.08,
          0.06999999999999999,
          0.06999999999999999,
          0.08,
          0.07,
          0.08,
          0.08,
          0.08,
          0.06999999999999999,
          0.07,
          0.06999999999999999,
          0.07,
          0.060000000000000005,
          0.06999999999999999,
          0.07,
          0.06999999999999999,
          0.060000000000000005,
          0.060000000000000005,
          0.060000000000000005,
          0.060000000000000005,
          0.06999999999999999,
          0.06,
          0.06,
          0.06,
          0.060000000000000005,
          0.060000000000000005,
          0.060000000000000005,
          0.060000000000000005,
          0.06,
          0.060000000000000005,
          0.05,
          0.05,
          0.05,
          0.05,
          0.060000000000000005,
          0.05,
          0.05,
          0.05,
          0.05,
          0.05,
          0.05,
          0.04,
          0.05,
          0.05,
          0.05,
          0.05,
          0.05,
          0.05,
          0.05,
          0.05,
          0.04,
          0.03,
          0.05,
          0.04,
          0.04,
          0.04,
          0.04,
          0.04,
          0.04,
          0.04,
          0.04,
          0.03,
          0.03,
          0.03,
          0.04,
          0.03,
          0.03,
          0.03,
          0.04,
          0.03,
          0.03,
          0.03,
          0.03,
          0.03,
          0.02,
          0.02,
          0.02,
          0.03,
          0.03,
          0.02,
          0.02,
          0.02,
          0.02,
          0.02,
          0.02,
          0.02,
          0.02,
          0.02,
          0.02,
          0.02,
          0.02,
          0.02,
          0.02,
          0.02,
          0.02,
          0.02,
          0.02,
          0.02,
          0.02,
          0.01,
          0.01,
          0.01,
          0.02,
          0.02,
          0.01,
          0.01,
          0.01,
          0.02,
          0.02,
          0.02,
          0.01,
          0.02,
          0.01,
          0.01,
          0.01,
          0.01,
          0.01,
          0.01,
          0.01,
          0.01,
          0.01,
          0.01,
          0.01,
          0.01,
          0.01
         ]
        }
       ],
       "layout": {
        "scene": {
         "xaxis": {
          "title": {
           "text": "Критики"
          }
         },
         "yaxis": {
          "title": {
           "text": "Пользователи"
          }
         },
         "zaxis": {
          "title": {
           "text": "Продажи"
          }
         }
        },
        "template": {
         "data": {
          "bar": [
           {
            "error_x": {
             "color": "#2a3f5f"
            },
            "error_y": {
             "color": "#2a3f5f"
            },
            "marker": {
             "line": {
              "color": "#E5ECF6",
              "width": 0.5
             }
            },
            "type": "bar"
           }
          ],
          "barpolar": [
           {
            "marker": {
             "line": {
              "color": "#E5ECF6",
              "width": 0.5
             }
            },
            "type": "barpolar"
           }
          ],
          "carpet": [
           {
            "aaxis": {
             "endlinecolor": "#2a3f5f",
             "gridcolor": "white",
             "linecolor": "white",
             "minorgridcolor": "white",
             "startlinecolor": "#2a3f5f"
            },
            "baxis": {
             "endlinecolor": "#2a3f5f",
             "gridcolor": "white",
             "linecolor": "white",
             "minorgridcolor": "white",
             "startlinecolor": "#2a3f5f"
            },
            "type": "carpet"
           }
          ],
          "choropleth": [
           {
            "colorbar": {
             "outlinewidth": 0,
             "ticks": ""
            },
            "type": "choropleth"
           }
          ],
          "contour": [
           {
            "colorbar": {
             "outlinewidth": 0,
             "ticks": ""
            },
            "colorscale": [
             [
              0,
              "#0d0887"
             ],
             [
              0.1111111111111111,
              "#46039f"
             ],
             [
              0.2222222222222222,
              "#7201a8"
             ],
             [
              0.3333333333333333,
              "#9c179e"
             ],
             [
              0.4444444444444444,
              "#bd3786"
             ],
             [
              0.5555555555555556,
              "#d8576b"
             ],
             [
              0.6666666666666666,
              "#ed7953"
             ],
             [
              0.7777777777777778,
              "#fb9f3a"
             ],
             [
              0.8888888888888888,
              "#fdca26"
             ],
             [
              1,
              "#f0f921"
             ]
            ],
            "type": "contour"
           }
          ],
          "contourcarpet": [
           {
            "colorbar": {
             "outlinewidth": 0,
             "ticks": ""
            },
            "type": "contourcarpet"
           }
          ],
          "heatmap": [
           {
            "colorbar": {
             "outlinewidth": 0,
             "ticks": ""
            },
            "colorscale": [
             [
              0,
              "#0d0887"
             ],
             [
              0.1111111111111111,
              "#46039f"
             ],
             [
              0.2222222222222222,
              "#7201a8"
             ],
             [
              0.3333333333333333,
              "#9c179e"
             ],
             [
              0.4444444444444444,
              "#bd3786"
             ],
             [
              0.5555555555555556,
              "#d8576b"
             ],
             [
              0.6666666666666666,
              "#ed7953"
             ],
             [
              0.7777777777777778,
              "#fb9f3a"
             ],
             [
              0.8888888888888888,
              "#fdca26"
             ],
             [
              1,
              "#f0f921"
             ]
            ],
            "type": "heatmap"
           }
          ],
          "heatmapgl": [
           {
            "colorbar": {
             "outlinewidth": 0,
             "ticks": ""
            },
            "colorscale": [
             [
              0,
              "#0d0887"
             ],
             [
              0.1111111111111111,
              "#46039f"
             ],
             [
              0.2222222222222222,
              "#7201a8"
             ],
             [
              0.3333333333333333,
              "#9c179e"
             ],
             [
              0.4444444444444444,
              "#bd3786"
             ],
             [
              0.5555555555555556,
              "#d8576b"
             ],
             [
              0.6666666666666666,
              "#ed7953"
             ],
             [
              0.7777777777777778,
              "#fb9f3a"
             ],
             [
              0.8888888888888888,
              "#fdca26"
             ],
             [
              1,
              "#f0f921"
             ]
            ],
            "type": "heatmapgl"
           }
          ],
          "histogram": [
           {
            "marker": {
             "colorbar": {
              "outlinewidth": 0,
              "ticks": ""
             }
            },
            "type": "histogram"
           }
          ],
          "histogram2d": [
           {
            "colorbar": {
             "outlinewidth": 0,
             "ticks": ""
            },
            "colorscale": [
             [
              0,
              "#0d0887"
             ],
             [
              0.1111111111111111,
              "#46039f"
             ],
             [
              0.2222222222222222,
              "#7201a8"
             ],
             [
              0.3333333333333333,
              "#9c179e"
             ],
             [
              0.4444444444444444,
              "#bd3786"
             ],
             [
              0.5555555555555556,
              "#d8576b"
             ],
             [
              0.6666666666666666,
              "#ed7953"
             ],
             [
              0.7777777777777778,
              "#fb9f3a"
             ],
             [
              0.8888888888888888,
              "#fdca26"
             ],
             [
              1,
              "#f0f921"
             ]
            ],
            "type": "histogram2d"
           }
          ],
          "histogram2dcontour": [
           {
            "colorbar": {
             "outlinewidth": 0,
             "ticks": ""
            },
            "colorscale": [
             [
              0,
              "#0d0887"
             ],
             [
              0.1111111111111111,
              "#46039f"
             ],
             [
              0.2222222222222222,
              "#7201a8"
             ],
             [
              0.3333333333333333,
              "#9c179e"
             ],
             [
              0.4444444444444444,
              "#bd3786"
             ],
             [
              0.5555555555555556,
              "#d8576b"
             ],
             [
              0.6666666666666666,
              "#ed7953"
             ],
             [
              0.7777777777777778,
              "#fb9f3a"
             ],
             [
              0.8888888888888888,
              "#fdca26"
             ],
             [
              1,
              "#f0f921"
             ]
            ],
            "type": "histogram2dcontour"
           }
          ],
          "mesh3d": [
           {
            "colorbar": {
             "outlinewidth": 0,
             "ticks": ""
            },
            "type": "mesh3d"
           }
          ],
          "parcoords": [
           {
            "line": {
             "colorbar": {
              "outlinewidth": 0,
              "ticks": ""
             }
            },
            "type": "parcoords"
           }
          ],
          "pie": [
           {
            "automargin": true,
            "type": "pie"
           }
          ],
          "scatter": [
           {
            "marker": {
             "colorbar": {
              "outlinewidth": 0,
              "ticks": ""
             }
            },
            "type": "scatter"
           }
          ],
          "scatter3d": [
           {
            "line": {
             "colorbar": {
              "outlinewidth": 0,
              "ticks": ""
             }
            },
            "marker": {
             "colorbar": {
              "outlinewidth": 0,
              "ticks": ""
             }
            },
            "type": "scatter3d"
           }
          ],
          "scattercarpet": [
           {
            "marker": {
             "colorbar": {
              "outlinewidth": 0,
              "ticks": ""
             }
            },
            "type": "scattercarpet"
           }
          ],
          "scattergeo": [
           {
            "marker": {
             "colorbar": {
              "outlinewidth": 0,
              "ticks": ""
             }
            },
            "type": "scattergeo"
           }
          ],
          "scattergl": [
           {
            "marker": {
             "colorbar": {
              "outlinewidth": 0,
              "ticks": ""
             }
            },
            "type": "scattergl"
           }
          ],
          "scattermapbox": [
           {
            "marker": {
             "colorbar": {
              "outlinewidth": 0,
              "ticks": ""
             }
            },
            "type": "scattermapbox"
           }
          ],
          "scatterpolar": [
           {
            "marker": {
             "colorbar": {
              "outlinewidth": 0,
              "ticks": ""
             }
            },
            "type": "scatterpolar"
           }
          ],
          "scatterpolargl": [
           {
            "marker": {
             "colorbar": {
              "outlinewidth": 0,
              "ticks": ""
             }
            },
            "type": "scatterpolargl"
           }
          ],
          "scatterternary": [
           {
            "marker": {
             "colorbar": {
              "outlinewidth": 0,
              "ticks": ""
             }
            },
            "type": "scatterternary"
           }
          ],
          "surface": [
           {
            "colorbar": {
             "outlinewidth": 0,
             "ticks": ""
            },
            "colorscale": [
             [
              0,
              "#0d0887"
             ],
             [
              0.1111111111111111,
              "#46039f"
             ],
             [
              0.2222222222222222,
              "#7201a8"
             ],
             [
              0.3333333333333333,
              "#9c179e"
             ],
             [
              0.4444444444444444,
              "#bd3786"
             ],
             [
              0.5555555555555556,
              "#d8576b"
             ],
             [
              0.6666666666666666,
              "#ed7953"
             ],
             [
              0.7777777777777778,
              "#fb9f3a"
             ],
             [
              0.8888888888888888,
              "#fdca26"
             ],
             [
              1,
              "#f0f921"
             ]
            ],
            "type": "surface"
           }
          ],
          "table": [
           {
            "cells": {
             "fill": {
              "color": "#EBF0F8"
             },
             "line": {
              "color": "white"
             }
            },
            "header": {
             "fill": {
              "color": "#C8D4E3"
             },
             "line": {
              "color": "white"
             }
            },
            "type": "table"
           }
          ]
         },
         "layout": {
          "annotationdefaults": {
           "arrowcolor": "#2a3f5f",
           "arrowhead": 0,
           "arrowwidth": 1
          },
          "coloraxis": {
           "colorbar": {
            "outlinewidth": 0,
            "ticks": ""
           }
          },
          "colorscale": {
           "diverging": [
            [
             0,
             "#8e0152"
            ],
            [
             0.1,
             "#c51b7d"
            ],
            [
             0.2,
             "#de77ae"
            ],
            [
             0.3,
             "#f1b6da"
            ],
            [
             0.4,
             "#fde0ef"
            ],
            [
             0.5,
             "#f7f7f7"
            ],
            [
             0.6,
             "#e6f5d0"
            ],
            [
             0.7,
             "#b8e186"
            ],
            [
             0.8,
             "#7fbc41"
            ],
            [
             0.9,
             "#4d9221"
            ],
            [
             1,
             "#276419"
            ]
           ],
           "sequential": [
            [
             0,
             "#0d0887"
            ],
            [
             0.1111111111111111,
             "#46039f"
            ],
            [
             0.2222222222222222,
             "#7201a8"
            ],
            [
             0.3333333333333333,
             "#9c179e"
            ],
            [
             0.4444444444444444,
             "#bd3786"
            ],
            [
             0.5555555555555556,
             "#d8576b"
            ],
            [
             0.6666666666666666,
             "#ed7953"
            ],
            [
             0.7777777777777778,
             "#fb9f3a"
            ],
            [
             0.8888888888888888,
             "#fdca26"
            ],
            [
             1,
             "#f0f921"
            ]
           ],
           "sequentialminus": [
            [
             0,
             "#0d0887"
            ],
            [
             0.1111111111111111,
             "#46039f"
            ],
            [
             0.2222222222222222,
             "#7201a8"
            ],
            [
             0.3333333333333333,
             "#9c179e"
            ],
            [
             0.4444444444444444,
             "#bd3786"
            ],
            [
             0.5555555555555556,
             "#d8576b"
            ],
            [
             0.6666666666666666,
             "#ed7953"
            ],
            [
             0.7777777777777778,
             "#fb9f3a"
            ],
            [
             0.8888888888888888,
             "#fdca26"
            ],
            [
             1,
             "#f0f921"
            ]
           ]
          },
          "colorway": [
           "#636efa",
           "#EF553B",
           "#00cc96",
           "#ab63fa",
           "#FFA15A",
           "#19d3f3",
           "#FF6692",
           "#B6E880",
           "#FF97FF",
           "#FECB52"
          ],
          "font": {
           "color": "#2a3f5f"
          },
          "geo": {
           "bgcolor": "white",
           "lakecolor": "white",
           "landcolor": "#E5ECF6",
           "showlakes": true,
           "showland": true,
           "subunitcolor": "white"
          },
          "hoverlabel": {
           "align": "left"
          },
          "hovermode": "closest",
          "mapbox": {
           "style": "light"
          },
          "paper_bgcolor": "white",
          "plot_bgcolor": "#E5ECF6",
          "polar": {
           "angularaxis": {
            "gridcolor": "white",
            "linecolor": "white",
            "ticks": ""
           },
           "bgcolor": "#E5ECF6",
           "radialaxis": {
            "gridcolor": "white",
            "linecolor": "white",
            "ticks": ""
           }
          },
          "scene": {
           "xaxis": {
            "backgroundcolor": "#E5ECF6",
            "gridcolor": "white",
            "gridwidth": 2,
            "linecolor": "white",
            "showbackground": true,
            "ticks": "",
            "zerolinecolor": "white"
           },
           "yaxis": {
            "backgroundcolor": "#E5ECF6",
            "gridcolor": "white",
            "gridwidth": 2,
            "linecolor": "white",
            "showbackground": true,
            "ticks": "",
            "zerolinecolor": "white"
           },
           "zaxis": {
            "backgroundcolor": "#E5ECF6",
            "gridcolor": "white",
            "gridwidth": 2,
            "linecolor": "white",
            "showbackground": true,
            "ticks": "",
            "zerolinecolor": "white"
           }
          },
          "shapedefaults": {
           "line": {
            "color": "#2a3f5f"
           }
          },
          "ternary": {
           "aaxis": {
            "gridcolor": "white",
            "linecolor": "white",
            "ticks": ""
           },
           "baxis": {
            "gridcolor": "white",
            "linecolor": "white",
            "ticks": ""
           },
           "bgcolor": "#E5ECF6",
           "caxis": {
            "gridcolor": "white",
            "linecolor": "white",
            "ticks": ""
           }
          },
          "title": {
           "x": 0.05
          },
          "xaxis": {
           "automargin": true,
           "gridcolor": "white",
           "linecolor": "white",
           "ticks": "",
           "title": {
            "standoff": 15
           },
           "zerolinecolor": "white",
           "zerolinewidth": 2
          },
          "yaxis": {
           "automargin": true,
           "gridcolor": "white",
           "linecolor": "white",
           "ticks": "",
           "title": {
            "standoff": 15
           },
           "zerolinecolor": "white",
           "zerolinewidth": 2
          }
         }
        },
        "title": {
         "text": "Зависимость продаж игр PS4 от оценок пользователей и критиков"
        }
       }
      },
      "text/html": [
       "<div>\n",
       "        \n",
       "        \n",
       "            <div id=\"57cd36bc-6bb4-4986-9612-84ba779be490\" class=\"plotly-graph-div\" style=\"height:525px; width:100%;\"></div>\n",
       "            <script type=\"text/javascript\">\n",
       "                require([\"plotly\"], function(Plotly) {\n",
       "                    window.PLOTLYENV=window.PLOTLYENV || {};\n",
       "                    \n",
       "                if (document.getElementById(\"57cd36bc-6bb4-4986-9612-84ba779be490\")) {\n",
       "                    Plotly.newPlot(\n",
       "                        '57cd36bc-6bb4-4986-9612-84ba779be490',\n",
       "                        [{\"line\": {\"width\": 0.02}, \"marker\": {\"colorscale\": [[0.0, \"#440154\"], [0.1111111111111111, \"#482878\"], [0.2222222222222222, \"#3e4989\"], [0.3333333333333333, \"#31688e\"], [0.4444444444444444, \"#26828e\"], [0.5555555555555556, \"#1f9e89\"], [0.6666666666666666, \"#35b779\"], [0.7777777777777778, \"#6ece58\"], [0.8888888888888888, \"#b5de2b\"], [1.0, \"#fde725\"]], \"opacity\": 0.8, \"reversescale\": true, \"size\": 3}, \"mode\": \"markers\", \"type\": \"scatter3d\", \"x\": [73.0, 97.0, 82.0, 73.0, 83.0, 85.0, 87.0, 82.0, 76.0, 93.0, 68.0, 86.0, 77.0, 69.0, 88.0, 80.0, 85.0, 92.0, 70.0, 87.0, 87.0, 80.0, 93.0, 76.0, 83.0, 84.0, 80.0, 83.0, 92.0, 83.0, 69.0, 76.0, 73.0, 81.0, 90.0, 73.0, 74.0, 71.0, 89.0, 86.0, 79.0, 88.0, 73.0, 74.0, 68.0, 75.0, 82.0, 74.0, 63.0, 61.0, 71.0, 79.0, 89.0, 79.0, 69.0, 73.0, 68.0, 74.0, 75.0, 73.0, 68.0, 62.0, 79.0, 83.0, 79.0, 69.0, 83.0, 70.0, 90.0, 74.0, 76.0, 66.0, 79.0, 73.0, 80.0, 77.0, 70.0, 68.0, 82.0, 80.0, 68.0, 87.0, 89.0, 82.0, 74.0, 74.0, 68.0, 71.0, 80.0, 83.0, 68.0, 73.0, 78.0, 66.0, 67.0, 71.0, 65.0, 68.0, 68.0, 88.0, 69.0, 78.0, 68.0, 75.0, 74.0, 72.0, 69.0, 60.0, 75.0, 68.0, 61.0, 68.0, 81.0, 74.0, 66.0, 85.0, 78.0, 68.0, 76.0, 79.0, 69.0, 74.0, 72.0, 85.0, 68.0, 68.0, 72.0, 69.0, 72.0, 78.0, 84.0, 68.0, 74.0, 84.0, 85.0, 85.0, 73.0, 70.0, 48.0, 66.0, 69.0, 81.0, 72.0, 77.0, 78.0, 74.0, 59.0, 76.0, 81.0, 68.0, 75.0, 68.0, 60.0, 72.0, 80.0, 68.0, 74.0, 73.0, 68.0, 66.0, 73.0, 81.0, 72.0, 68.0, 59.0, 66.0, 63.0, 57.0, 76.0, 73.0, 59.0, 77.0, 74.0, 68.0, 66.0, 68.0, 83.0, 32.0, 72.0, 74.0, 62.0, 68.0, 87.0, 53.0, 63.0, 47.0, 69.0, 68.0, 59.0, 73.0, 67.0, 66.0, 59.0, 68.0, 66.0, 74.0, 75.0, 58.0, 72.0, 66.0, 68.0, 79.0, 73.0, 68.0, 80.0, 80.0, 88.0, 45.0, 63.0, 81.0, 80.0, 86.0, 76.0, 75.0, 74.0, 65.0, 68.0, 73.0, 19.0, 75.0, 74.0, 79.0, 69.0, 68.0, 68.0, 71.0, 73.0, 73.0, 53.0, 70.0, 68.0, 71.0, 69.0, 68.0, 68.0, 44.0, 69.0, 67.0, 69.0, 66.0, 74.0, 68.0, 74.0, 68.0, 73.0, 85.0, 66.0, 70.0, 90.0, 72.0, 77.0, 75.0, 60.0, 69.0, 74.0, 75.0, 74.0, 68.0, 64.0, 62.0, 71.0, 78.0, 72.0, 68.0, 63.0, 83.0, 72.0, 73.0, 67.0, 74.0, 64.0, 60.0, 74.0, 66.0, 68.0, 42.0, 25.0, 68.0, 75.0, 73.0, 69.0, 68.0, 52.0, 43.0, 74.0, 75.0, 76.0, 66.0, 69.0, 81.0, 68.0, 74.0, 78.0, 73.0, 64.0, 66.0, 82.0, 71.0, 68.0, 71.0, 66.0, 80.0, 70.0, 64.0, 72.0, 78.0, 74.0, 68.0, 68.0, 69.0, 69.0, 68.0, 68.0, 73.0, 53.0, 77.0, 74.0, 61.0, 73.0, 68.0, 68.0, 74.0, 80.0, 78.0, 68.0, 88.0, 66.0, 82.0, 68.0, 69.0, 59.0, 57.0, 67.0, 69.0, 62.0, 72.0, 67.0, 58.0, 69.0, 68.0, 62.0, 68.0, 52.0, 31.0, 74.0, 55.0, 68.0, 79.0, 68.0, 70.0, 48.0, 69.0, 68.0, 72.0, 68.0, 49.0, 69.0, 68.0, 68.0, 68.0, 69.0, 66.0, 72.0, 66.0, 74.0, 68.0, 66.0, 75.0, 42.0, 68.0, 70.0, 69.0, 66.0, 61.0, 51.0, 70.0], \"y\": [7.4, 8.3, 4.3, 7.4, 5.7, 5.0, 6.5, 5.7, 6.1, 7.9, 7.4, 8.1, 3.4, 7.1, 8.4, 6.3, 7.7, 9.2, 4.9, 7.6, 6.7, 7.0, 8.2, 6.8, 5.9, 8.1, 7.9, 7.7, 8.6, 7.0, 7.4, 6.3, 7.3, 6.1, 6.1, 5.0, 7.9, 6.1, 7.4, 6.0, 7.1, 6.7, 6.5, 7.8, 5.1, 7.3, 4.9, 7.8, 6.6, 5.4, 4.5, 8.2, 8.8, 8.1, 7.7, 7.4, 7.4, 7.8, 6.2, 7.4, 7.4, 5.1, 8.2, 7.8, 8.1, 7.7, 6.6, 6.1, 8.5, 7.8, 4.3, 7.6, 6.2, 7.1, 7.8, 3.4, 7.0, 7.4, 7.8, 6.2, 7.4, 7.1, 8.4, 7.2, 7.8, 7.8, 7.4, 7.0, 7.1, 7.7, 7.4, 7.8, 7.5, 7.6, 7.1, 7.1, 6.3, 7.4, 7.4, 7.7, 7.1, 5.5, 7.4, 7.6, 7.8, 6.6, 6.9, 3.6, 7.7, 7.4, 3.7, 6.6, 7.7, 7.4, 7.6, 7.6, 5.6, 7.4, 8.0, 7.2, 8.7, 7.8, 6.8, 8.6, 7.4, 7.4, 8.0, 7.4, 5.8, 6.3, 7.6, 7.4, 7.8, 8.5, 8.7, 8.1, 6.8, 7.5, 3.8, 7.8, 4.7, 7.9, 7.6, 8.3, 5.8, 7.8, 6.9, 7.1, 3.3, 7.4, 7.3, 7.4, 5.7, 6.6, 8.1, 7.4, 7.8, 7.4, 7.4, 7.6, 8.5, 8.1, 7.6, 6.8, 7.1, 7.6, 6.3, 6.5, 8.1, 8.1, 5.6, 7.5, 7.8, 7.4, 7.0, 7.4, 8.4, 1.5, 7.4, 7.8, 6.8, 7.4, 8.2, 5.9, 7.5, 4.1, 7.7, 7.4, 7.8, 6.4, 8.0, 7.1, 6.1, 7.4, 7.4, 7.6, 7.4, 6.5, 7.6, 7.6, 7.4, 8.7, 8.1, 7.4, 7.7, 5.5, 8.0, 5.9, 6.4, 8.6, 8.2, 7.6, 7.4, 8.1, 7.8, 6.9, 7.4, 7.3, 3.4, 8.5, 7.8, 7.9, 8.0, 7.4, 7.4, 5.9, 6.3, 6.8, 6.0, 7.5, 7.4, 6.5, 7.1, 7.4, 7.4, 5.5, 7.4, 7.4, 6.6, 7.6, 7.8, 6.1, 6.7, 7.4, 7.8, 7.6, 6.3, 7.8, 7.6, 7.6, 6.1, 7.4, 6.7, 7.3, 7.8, 8.0, 7.8, 7.4, 7.1, 7.7, 6.2, 8.1, 7.8, 7.4, 8.6, 7.9, 7.2, 6.2, 7.6, 7.8, 7.9, 6.7, 7.8, 7.6, 7.4, 4.1, 1.9, 7.4, 3.0, 7.8, 7.1, 7.4, 3.5, 7.8, 7.8, 7.4, 8.0, 7.6, 7.1, 8.3, 7.4, 7.8, 7.4, 7.4, 5.7, 3.8, 8.0, 8.0, 7.4, 8.1, 7.0, 8.1, 6.9, 6.8, 8.3, 6.6, 7.8, 7.4, 7.8, 7.9, 6.4, 7.4, 7.4, 7.5, 5.1, 6.9, 7.8, 7.4, 7.1, 7.4, 7.4, 7.8, 8.0, 7.6, 7.4, 8.4, 7.6, 6.6, 7.4, 7.1, 6.6, 7.8, 6.2, 7.1, 6.4, 7.6, 7.4, 7.1, 7.1, 7.6, 6.5, 7.4, 7.9, 4.5, 7.8, 4.7, 6.1, 8.5, 7.4, 7.5, 2.0, 7.1, 7.4, 7.6, 7.4, 6.0, 7.8, 7.4, 7.4, 7.4, 7.1, 7.6, 5.8, 6.2, 7.8, 7.4, 7.6, 7.4, 2.3, 7.4, 6.8, 7.5, 7.6, 7.9, 5.5, 7.5], \"z\": [14.629999999999999, 12.620000000000001, 8.58, 7.98, 7.66, 7.6000000000000005, 7.17, 6.08, 5.640000000000001, 5.39, 4.72, 4.62, 4.470000000000001, 4.32, 4.07, 4.05, 4.04, 3.9699999999999998, 3.96, 3.96, 3.87, 3.8, 3.4200000000000004, 3.3899999999999997, 3.2399999999999998, 2.96, 2.7899999999999996, 2.78, 2.48, 2.4499999999999997, 2.42, 2.2600000000000002, 2.21, 2.19, 2.14, 2.11, 2.09, 2.07, 2.01, 1.9200000000000002, 1.9100000000000001, 1.8800000000000001, 1.85, 1.83, 1.81, 1.7900000000000003, 1.74, 1.75, 1.7200000000000002, 1.7200000000000002, 1.6900000000000002, 1.6600000000000001, 1.6600000000000001, 1.54, 1.54, 1.49, 1.4000000000000001, 1.3199999999999998, 1.2699999999999998, 1.21, 1.17, 1.15, 1.14, 1.13, 1.1199999999999999, 1.1, 1.0799999999999998, 1.05, 1.02, 0.98, 0.9700000000000001, 0.9400000000000001, 0.93, 0.92, 0.93, 0.9, 0.9, 0.89, 0.88, 0.86, 0.8200000000000001, 0.78, 0.7600000000000001, 0.75, 0.75, 0.7300000000000001, 0.73, 0.73, 0.73, 0.72, 0.73, 0.7, 0.71, 0.6900000000000001, 0.6900000000000001, 0.67, 0.67, 0.66, 0.64, 0.64, 0.63, 0.63, 0.62, 0.61, 0.61, 0.6, 0.6, 0.6, 0.54, 0.56, 0.51, 0.52, 0.49000000000000005, 0.47000000000000003, 0.46, 0.45, 0.44, 0.43, 0.43, 0.43, 0.42, 0.4, 0.4, 0.38999999999999996, 0.39999999999999997, 0.4, 0.39999999999999997, 0.37999999999999995, 0.39, 0.38, 0.38, 0.37, 0.37, 0.37000000000000005, 0.36000000000000004, 0.36, 0.36000000000000004, 0.36000000000000004, 0.35000000000000003, 0.36, 0.34, 0.34, 0.33999999999999997, 0.34, 0.33, 0.33999999999999997, 0.32, 0.32, 0.3, 0.3, 0.31, 0.3, 0.3, 0.3, 0.29, 0.28, 0.27999999999999997, 0.29000000000000004, 0.29000000000000004, 0.27, 0.27, 0.26, 0.26, 0.26, 0.26, 0.24000000000000002, 0.25, 0.25, 0.24000000000000002, 0.24000000000000002, 0.24000000000000002, 0.23, 0.23, 0.23, 0.23, 0.21000000000000002, 0.21000000000000002, 0.19999999999999998, 0.2, 0.2, 0.19999999999999998, 0.2, 0.2, 0.19999999999999998, 0.19, 0.19, 0.19999999999999998, 0.19, 0.18, 0.18, 0.18, 0.18000000000000002, 0.17, 0.17, 0.16999999999999998, 0.16, 0.17, 0.16999999999999998, 0.16, 0.16, 0.15, 0.15, 0.13999999999999999, 0.15, 0.14, 0.13999999999999999, 0.13999999999999999, 0.13999999999999999, 0.13, 0.13, 0.12000000000000001, 0.13, 0.12, 0.12, 0.12000000000000001, 0.11, 0.11, 0.12, 0.12000000000000001, 0.12000000000000001, 0.12000000000000001, 0.11, 0.09999999999999999, 0.11, 0.1, 0.09, 0.1, 0.09, 0.1, 0.1, 0.1, 0.09999999999999999, 0.09, 0.09, 0.1, 0.09000000000000001, 0.08, 0.09, 0.09, 0.09, 0.09, 0.08, 0.08, 0.08, 0.08, 0.08, 0.08, 0.08, 0.06999999999999999, 0.09, 0.09000000000000001, 0.08, 0.06999999999999999, 0.06999999999999999, 0.08, 0.07, 0.08, 0.08, 0.08, 0.06999999999999999, 0.07, 0.06999999999999999, 0.07, 0.060000000000000005, 0.06999999999999999, 0.07, 0.06999999999999999, 0.060000000000000005, 0.060000000000000005, 0.060000000000000005, 0.060000000000000005, 0.06999999999999999, 0.06, 0.06, 0.06, 0.060000000000000005, 0.060000000000000005, 0.060000000000000005, 0.060000000000000005, 0.06, 0.060000000000000005, 0.05, 0.05, 0.05, 0.05, 0.060000000000000005, 0.05, 0.05, 0.05, 0.05, 0.05, 0.05, 0.04, 0.05, 0.05, 0.05, 0.05, 0.05, 0.05, 0.05, 0.05, 0.04, 0.03, 0.05, 0.04, 0.04, 0.04, 0.04, 0.04, 0.04, 0.04, 0.04, 0.03, 0.03, 0.03, 0.04, 0.03, 0.03, 0.03, 0.04, 0.03, 0.03, 0.03, 0.03, 0.03, 0.02, 0.02, 0.02, 0.03, 0.03, 0.02, 0.02, 0.02, 0.02, 0.02, 0.02, 0.02, 0.02, 0.02, 0.02, 0.02, 0.02, 0.02, 0.02, 0.02, 0.02, 0.02, 0.02, 0.02, 0.02, 0.01, 0.01, 0.01, 0.02, 0.02, 0.01, 0.01, 0.01, 0.02, 0.02, 0.02, 0.01, 0.02, 0.01, 0.01, 0.01, 0.01, 0.01, 0.01, 0.01, 0.01, 0.01, 0.01, 0.01, 0.01, 0.01]}],\n",
       "                        {\"scene\": {\"xaxis\": {\"title\": {\"text\": \"\\u041a\\u0440\\u0438\\u0442\\u0438\\u043a\\u0438\"}}, \"yaxis\": {\"title\": {\"text\": \"\\u041f\\u043e\\u043b\\u044c\\u0437\\u043e\\u0432\\u0430\\u0442\\u0435\\u043b\\u0438\"}}, \"zaxis\": {\"title\": {\"text\": \"\\u041f\\u0440\\u043e\\u0434\\u0430\\u0436\\u0438\"}}}, \"template\": {\"data\": {\"bar\": [{\"error_x\": {\"color\": \"#2a3f5f\"}, \"error_y\": {\"color\": \"#2a3f5f\"}, \"marker\": {\"line\": {\"color\": \"#E5ECF6\", \"width\": 0.5}}, \"type\": \"bar\"}], \"barpolar\": [{\"marker\": {\"line\": {\"color\": \"#E5ECF6\", \"width\": 0.5}}, \"type\": \"barpolar\"}], \"carpet\": [{\"aaxis\": {\"endlinecolor\": \"#2a3f5f\", \"gridcolor\": \"white\", \"linecolor\": \"white\", \"minorgridcolor\": \"white\", \"startlinecolor\": \"#2a3f5f\"}, \"baxis\": {\"endlinecolor\": \"#2a3f5f\", \"gridcolor\": \"white\", \"linecolor\": \"white\", \"minorgridcolor\": \"white\", \"startlinecolor\": \"#2a3f5f\"}, \"type\": \"carpet\"}], \"choropleth\": [{\"colorbar\": {\"outlinewidth\": 0, \"ticks\": \"\"}, \"type\": \"choropleth\"}], \"contour\": [{\"colorbar\": {\"outlinewidth\": 0, \"ticks\": \"\"}, \"colorscale\": [[0.0, \"#0d0887\"], [0.1111111111111111, \"#46039f\"], [0.2222222222222222, \"#7201a8\"], [0.3333333333333333, \"#9c179e\"], [0.4444444444444444, \"#bd3786\"], [0.5555555555555556, \"#d8576b\"], [0.6666666666666666, \"#ed7953\"], [0.7777777777777778, \"#fb9f3a\"], [0.8888888888888888, \"#fdca26\"], [1.0, \"#f0f921\"]], \"type\": \"contour\"}], \"contourcarpet\": [{\"colorbar\": {\"outlinewidth\": 0, \"ticks\": \"\"}, \"type\": \"contourcarpet\"}], \"heatmap\": [{\"colorbar\": {\"outlinewidth\": 0, \"ticks\": \"\"}, \"colorscale\": [[0.0, \"#0d0887\"], [0.1111111111111111, \"#46039f\"], [0.2222222222222222, \"#7201a8\"], [0.3333333333333333, \"#9c179e\"], [0.4444444444444444, \"#bd3786\"], [0.5555555555555556, \"#d8576b\"], [0.6666666666666666, \"#ed7953\"], [0.7777777777777778, \"#fb9f3a\"], [0.8888888888888888, \"#fdca26\"], [1.0, \"#f0f921\"]], \"type\": \"heatmap\"}], \"heatmapgl\": [{\"colorbar\": {\"outlinewidth\": 0, \"ticks\": \"\"}, \"colorscale\": [[0.0, \"#0d0887\"], [0.1111111111111111, \"#46039f\"], [0.2222222222222222, \"#7201a8\"], [0.3333333333333333, \"#9c179e\"], [0.4444444444444444, \"#bd3786\"], [0.5555555555555556, \"#d8576b\"], [0.6666666666666666, \"#ed7953\"], [0.7777777777777778, \"#fb9f3a\"], [0.8888888888888888, \"#fdca26\"], [1.0, \"#f0f921\"]], \"type\": \"heatmapgl\"}], \"histogram\": [{\"marker\": {\"colorbar\": {\"outlinewidth\": 0, \"ticks\": \"\"}}, \"type\": \"histogram\"}], \"histogram2d\": [{\"colorbar\": {\"outlinewidth\": 0, \"ticks\": \"\"}, \"colorscale\": [[0.0, \"#0d0887\"], [0.1111111111111111, \"#46039f\"], [0.2222222222222222, \"#7201a8\"], [0.3333333333333333, \"#9c179e\"], [0.4444444444444444, \"#bd3786\"], [0.5555555555555556, \"#d8576b\"], [0.6666666666666666, \"#ed7953\"], [0.7777777777777778, \"#fb9f3a\"], [0.8888888888888888, \"#fdca26\"], [1.0, \"#f0f921\"]], \"type\": \"histogram2d\"}], \"histogram2dcontour\": [{\"colorbar\": {\"outlinewidth\": 0, \"ticks\": \"\"}, \"colorscale\": [[0.0, \"#0d0887\"], [0.1111111111111111, \"#46039f\"], [0.2222222222222222, \"#7201a8\"], [0.3333333333333333, \"#9c179e\"], [0.4444444444444444, \"#bd3786\"], [0.5555555555555556, \"#d8576b\"], [0.6666666666666666, \"#ed7953\"], [0.7777777777777778, \"#fb9f3a\"], [0.8888888888888888, \"#fdca26\"], [1.0, \"#f0f921\"]], \"type\": \"histogram2dcontour\"}], \"mesh3d\": [{\"colorbar\": {\"outlinewidth\": 0, \"ticks\": \"\"}, \"type\": \"mesh3d\"}], \"parcoords\": [{\"line\": {\"colorbar\": {\"outlinewidth\": 0, \"ticks\": \"\"}}, \"type\": \"parcoords\"}], \"pie\": [{\"automargin\": true, \"type\": \"pie\"}], \"scatter\": [{\"marker\": {\"colorbar\": {\"outlinewidth\": 0, \"ticks\": \"\"}}, \"type\": \"scatter\"}], \"scatter3d\": [{\"line\": {\"colorbar\": {\"outlinewidth\": 0, \"ticks\": \"\"}}, \"marker\": {\"colorbar\": {\"outlinewidth\": 0, \"ticks\": \"\"}}, \"type\": \"scatter3d\"}], \"scattercarpet\": [{\"marker\": {\"colorbar\": {\"outlinewidth\": 0, \"ticks\": \"\"}}, \"type\": \"scattercarpet\"}], \"scattergeo\": [{\"marker\": {\"colorbar\": {\"outlinewidth\": 0, \"ticks\": \"\"}}, \"type\": \"scattergeo\"}], \"scattergl\": [{\"marker\": {\"colorbar\": {\"outlinewidth\": 0, \"ticks\": \"\"}}, \"type\": \"scattergl\"}], \"scattermapbox\": [{\"marker\": {\"colorbar\": {\"outlinewidth\": 0, \"ticks\": \"\"}}, \"type\": \"scattermapbox\"}], \"scatterpolar\": [{\"marker\": {\"colorbar\": {\"outlinewidth\": 0, \"ticks\": \"\"}}, \"type\": \"scatterpolar\"}], \"scatterpolargl\": [{\"marker\": {\"colorbar\": {\"outlinewidth\": 0, \"ticks\": \"\"}}, \"type\": \"scatterpolargl\"}], \"scatterternary\": [{\"marker\": {\"colorbar\": {\"outlinewidth\": 0, \"ticks\": \"\"}}, \"type\": \"scatterternary\"}], \"surface\": [{\"colorbar\": {\"outlinewidth\": 0, \"ticks\": \"\"}, \"colorscale\": [[0.0, \"#0d0887\"], [0.1111111111111111, \"#46039f\"], [0.2222222222222222, \"#7201a8\"], [0.3333333333333333, \"#9c179e\"], [0.4444444444444444, \"#bd3786\"], [0.5555555555555556, \"#d8576b\"], [0.6666666666666666, \"#ed7953\"], [0.7777777777777778, \"#fb9f3a\"], [0.8888888888888888, \"#fdca26\"], [1.0, \"#f0f921\"]], \"type\": \"surface\"}], \"table\": [{\"cells\": {\"fill\": {\"color\": \"#EBF0F8\"}, \"line\": {\"color\": \"white\"}}, \"header\": {\"fill\": {\"color\": \"#C8D4E3\"}, \"line\": {\"color\": \"white\"}}, \"type\": \"table\"}]}, \"layout\": {\"annotationdefaults\": {\"arrowcolor\": \"#2a3f5f\", \"arrowhead\": 0, \"arrowwidth\": 1}, \"coloraxis\": {\"colorbar\": {\"outlinewidth\": 0, \"ticks\": \"\"}}, \"colorscale\": {\"diverging\": [[0, \"#8e0152\"], [0.1, \"#c51b7d\"], [0.2, \"#de77ae\"], [0.3, \"#f1b6da\"], [0.4, \"#fde0ef\"], [0.5, \"#f7f7f7\"], [0.6, \"#e6f5d0\"], [0.7, \"#b8e186\"], [0.8, \"#7fbc41\"], [0.9, \"#4d9221\"], [1, \"#276419\"]], \"sequential\": [[0.0, \"#0d0887\"], [0.1111111111111111, \"#46039f\"], [0.2222222222222222, \"#7201a8\"], [0.3333333333333333, \"#9c179e\"], [0.4444444444444444, \"#bd3786\"], [0.5555555555555556, \"#d8576b\"], [0.6666666666666666, \"#ed7953\"], [0.7777777777777778, \"#fb9f3a\"], [0.8888888888888888, \"#fdca26\"], [1.0, \"#f0f921\"]], \"sequentialminus\": [[0.0, \"#0d0887\"], [0.1111111111111111, \"#46039f\"], [0.2222222222222222, \"#7201a8\"], [0.3333333333333333, \"#9c179e\"], [0.4444444444444444, \"#bd3786\"], [0.5555555555555556, \"#d8576b\"], [0.6666666666666666, \"#ed7953\"], [0.7777777777777778, \"#fb9f3a\"], [0.8888888888888888, \"#fdca26\"], [1.0, \"#f0f921\"]]}, \"colorway\": [\"#636efa\", \"#EF553B\", \"#00cc96\", \"#ab63fa\", \"#FFA15A\", \"#19d3f3\", \"#FF6692\", \"#B6E880\", \"#FF97FF\", \"#FECB52\"], \"font\": {\"color\": \"#2a3f5f\"}, \"geo\": {\"bgcolor\": \"white\", \"lakecolor\": \"white\", \"landcolor\": \"#E5ECF6\", \"showlakes\": true, \"showland\": true, \"subunitcolor\": \"white\"}, \"hoverlabel\": {\"align\": \"left\"}, \"hovermode\": \"closest\", \"mapbox\": {\"style\": \"light\"}, \"paper_bgcolor\": \"white\", \"plot_bgcolor\": \"#E5ECF6\", \"polar\": {\"angularaxis\": {\"gridcolor\": \"white\", \"linecolor\": \"white\", \"ticks\": \"\"}, \"bgcolor\": \"#E5ECF6\", \"radialaxis\": {\"gridcolor\": \"white\", \"linecolor\": \"white\", \"ticks\": \"\"}}, \"scene\": {\"xaxis\": {\"backgroundcolor\": \"#E5ECF6\", \"gridcolor\": \"white\", \"gridwidth\": 2, \"linecolor\": \"white\", \"showbackground\": true, \"ticks\": \"\", \"zerolinecolor\": \"white\"}, \"yaxis\": {\"backgroundcolor\": \"#E5ECF6\", \"gridcolor\": \"white\", \"gridwidth\": 2, \"linecolor\": \"white\", \"showbackground\": true, \"ticks\": \"\", \"zerolinecolor\": \"white\"}, \"zaxis\": {\"backgroundcolor\": \"#E5ECF6\", \"gridcolor\": \"white\", \"gridwidth\": 2, \"linecolor\": \"white\", \"showbackground\": true, \"ticks\": \"\", \"zerolinecolor\": \"white\"}}, \"shapedefaults\": {\"line\": {\"color\": \"#2a3f5f\"}}, \"ternary\": {\"aaxis\": {\"gridcolor\": \"white\", \"linecolor\": \"white\", \"ticks\": \"\"}, \"baxis\": {\"gridcolor\": \"white\", \"linecolor\": \"white\", \"ticks\": \"\"}, \"bgcolor\": \"#E5ECF6\", \"caxis\": {\"gridcolor\": \"white\", \"linecolor\": \"white\", \"ticks\": \"\"}}, \"title\": {\"x\": 0.05}, \"xaxis\": {\"automargin\": true, \"gridcolor\": \"white\", \"linecolor\": \"white\", \"ticks\": \"\", \"title\": {\"standoff\": 15}, \"zerolinecolor\": \"white\", \"zerolinewidth\": 2}, \"yaxis\": {\"automargin\": true, \"gridcolor\": \"white\", \"linecolor\": \"white\", \"ticks\": \"\", \"title\": {\"standoff\": 15}, \"zerolinecolor\": \"white\", \"zerolinewidth\": 2}}}, \"title\": {\"text\": \"\\u0417\\u0430\\u0432\\u0438\\u0441\\u0438\\u043c\\u043e\\u0441\\u0442\\u044c \\u043f\\u0440\\u043e\\u0434\\u0430\\u0436 \\u0438\\u0433\\u0440 PS4 \\u043e\\u0442 \\u043e\\u0446\\u0435\\u043d\\u043e\\u043a \\u043f\\u043e\\u043b\\u044c\\u0437\\u043e\\u0432\\u0430\\u0442\\u0435\\u043b\\u0435\\u0439 \\u0438 \\u043a\\u0440\\u0438\\u0442\\u0438\\u043a\\u043e\\u0432\"}},\n",
       "                        {\"responsive\": true}\n",
       "                    ).then(function(){\n",
       "                            \n",
       "var gd = document.getElementById('57cd36bc-6bb4-4986-9612-84ba779be490');\n",
       "var x = new MutationObserver(function (mutations, observer) {{\n",
       "        var display = window.getComputedStyle(gd).display;\n",
       "        if (!display || display === 'none') {{\n",
       "            console.log([gd, 'removed!']);\n",
       "            Plotly.purge(gd);\n",
       "            observer.disconnect();\n",
       "        }}\n",
       "}});\n",
       "\n",
       "// Listen for the removal of the full notebook cells\n",
       "var notebookContainer = gd.closest('#notebook-container');\n",
       "if (notebookContainer) {{\n",
       "    x.observe(notebookContainer, {childList: true});\n",
       "}}\n",
       "\n",
       "// Listen for the clearing of the current output cell\n",
       "var outputEl = gd.closest('.output');\n",
       "if (outputEl) {{\n",
       "    x.observe(outputEl, {childList: true});\n",
       "}}\n",
       "\n",
       "                        })\n",
       "                };\n",
       "                });\n",
       "            </script>\n",
       "        </div>"
      ]
     },
     "metadata": {},
     "output_type": "display_data"
    }
   ],
   "source": [
    "top_PS4 = top_platform.query('platform == \"PS4\"')\n",
    "\n",
    "#создаем 3d матрицу\n",
    "fig1 = go.Scatter3d(x=top_PS4['critic_score'],\n",
    "                    y=top_PS4['user_score'],\n",
    "                    z=top_PS4['sum_sales'],\n",
    "                    marker=dict( opacity=0.8,\n",
    "                                reversescale=True,\n",
    "                                colorscale= 'Viridis',\n",
    "                                size=3),\n",
    "                    line=dict (width=0.02),\n",
    "                    mode='markers')\n",
    "mylayout = go.Layout(title = 'Зависимость продаж игр PS4 от оценок пользователей и критиков',\n",
    "                    scene=dict(xaxis=dict(title=\"Критики\"),#карта для отображения\n",
    "                                yaxis=dict(title=\"Пользователи\"),\n",
    "                                zaxis=dict(title=\"Продажи\")),)\n",
    "\n",
    "#подключаем мод для отображения в notebook\n",
    "plotly.offline.init_notebook_mode(connected=True)\n",
    "\n",
    "plotly.offline.iplot({\n",
    "    \"data\": [fig1], \n",
    "    \"layout\": mylayout\n",
    " })"
   ]
  },
  {
   "cell_type": "markdown",
   "metadata": {},
   "source": [
    "**Вывод**\n",
    "\n",
    "По диаграмме рассеивания можно сказать, что сильно зависимости между 3 показателями нету. Но у игр с большими продажами рейтинг пользователей и критиков высокий. "
   ]
  },
  {
   "cell_type": "code",
   "execution_count": 43,
   "metadata": {},
   "outputs": [
    {
     "data": {
      "image/png": "[encoded data removed]",
      "text/plain": [
       "<Figure size 400x240 with 2 Axes>"
      ]
     },
     "metadata": {
      "needs_background": "light"
     },
     "output_type": "display_data"
    },
    {
     "data": {
      "image/png": "[encoded data removed]",
      "text/plain": [
       "<Figure size 400x240 with 2 Axes>"
      ]
     },
     "metadata": {
      "needs_background": "light"
     },
     "output_type": "display_data"
    }
   ],
   "source": [
    "#построим коррялиационную тепловую карту на 1 место по продажам и ТОП -5\n",
    "data_corr = top_PS4[['sum_sales', 'user_score', 'critic_score']]\n",
    "plt.figure(figsize=(5,3), dpi= 80)\n",
    "sns.heatmap(data_corr.corr(), xticklabels=data_corr.corr().columns, yticklabels=data_corr.corr().columns, cmap='RdYlGn', center=0, annot=True)\n",
    "plt.title('Корреляция продаж PS4', fontsize=12)\n",
    "plt.xticks(fontsize=12)\n",
    "plt.yticks(fontsize=12)\n",
    "plt.show()\n",
    "data_corr1 = top_platform[['sum_sales', 'user_score', 'critic_score']]\n",
    "plt.figure(figsize=(5,3), dpi= 80)\n",
    "sns.heatmap(data_corr1.corr(), xticklabels=data_corr1.corr().columns, yticklabels=data_corr1.corr().columns, cmap='RdYlGn', center=0, annot=True)\n",
    "plt.title('Корреляция продаж Топ 5', fontsize=12)\n",
    "plt.xticks(fontsize=12)\n",
    "plt.yticks(fontsize=12)\n",
    "plt.show()"
   ]
  },
  {
   "cell_type": "markdown",
   "metadata": {},
   "source": [
    "**Вывод**\n",
    "\n",
    "Оценки пользователей практически не влияют на продажи. Оценки критиков имеют слабую положительную взаимосвязь с продажами и с оценками пользователей. "
   ]
  },
  {
   "cell_type": "code",
   "execution_count": 44,
   "metadata": {},
   "outputs": [
    {
     "data": {
      "text/html": [
       "<div>\n",
       "<style scoped>\n",
       "    .dataframe tbody tr th:only-of-type {\n",
       "        vertical-align: middle;\n",
       "    }\n",
       "\n",
       "    .dataframe tbody tr th {\n",
       "        vertical-align: top;\n",
       "    }\n",
       "\n",
       "    .dataframe thead th {\n",
       "        text-align: right;\n",
       "    }\n",
       "</style>\n",
       "<table border=\"1\" class=\"dataframe\">\n",
       "  <thead>\n",
       "    <tr style=\"text-align: right;\">\n",
       "      <th></th>\n",
       "      <th>sum_sales</th>\n",
       "    </tr>\n",
       "    <tr>\n",
       "      <th>genre</th>\n",
       "      <th></th>\n",
       "    </tr>\n",
       "  </thead>\n",
       "  <tbody>\n",
       "    <tr>\n",
       "      <th>Action</th>\n",
       "      <td>168.18</td>\n",
       "    </tr>\n",
       "    <tr>\n",
       "      <th>Shooter</th>\n",
       "      <td>151.81</td>\n",
       "    </tr>\n",
       "    <tr>\n",
       "      <th>Sports</th>\n",
       "      <td>93.41</td>\n",
       "    </tr>\n",
       "    <tr>\n",
       "      <th>Role-Playing</th>\n",
       "      <td>91.06</td>\n",
       "    </tr>\n",
       "    <tr>\n",
       "      <th>Misc</th>\n",
       "      <td>25.10</td>\n",
       "    </tr>\n",
       "    <tr>\n",
       "      <th>Fighting</th>\n",
       "      <td>20.99</td>\n",
       "    </tr>\n",
       "    <tr>\n",
       "      <th>Racing</th>\n",
       "      <td>18.69</td>\n",
       "    </tr>\n",
       "    <tr>\n",
       "      <th>Adventure</th>\n",
       "      <td>12.96</td>\n",
       "    </tr>\n",
       "    <tr>\n",
       "      <th>Simulation</th>\n",
       "      <td>12.67</td>\n",
       "    </tr>\n",
       "    <tr>\n",
       "      <th>Platform</th>\n",
       "      <td>10.84</td>\n",
       "    </tr>\n",
       "    <tr>\n",
       "      <th>Strategy</th>\n",
       "      <td>3.78</td>\n",
       "    </tr>\n",
       "    <tr>\n",
       "      <th>Puzzle</th>\n",
       "      <td>0.93</td>\n",
       "    </tr>\n",
       "  </tbody>\n",
       "</table>\n",
       "</div>"
      ],
      "text/plain": [
       "              sum_sales\n",
       "genre                  \n",
       "Action           168.18\n",
       "Shooter          151.81\n",
       "Sports            93.41\n",
       "Role-Playing      91.06\n",
       "Misc              25.10\n",
       "Fighting          20.99\n",
       "Racing            18.69\n",
       "Adventure         12.96\n",
       "Simulation        12.67\n",
       "Platform          10.84\n",
       "Strategy           3.78\n",
       "Puzzle             0.93"
      ]
     },
     "execution_count": 44,
     "metadata": {},
     "output_type": "execute_result"
    }
   ],
   "source": [
    "#распределение выручки по жанрам\n",
    "(\n",
    "top_platform.pivot_table(index = 'genre', values = 'sum_sales', aggfunc = 'sum')\n",
    ".sort_values(by = 'sum_sales', ascending = False)\n",
    ")"
   ]
  },
  {
   "cell_type": "markdown",
   "metadata": {},
   "source": [
    "**Вывод**\n",
    "\n",
    "Можно сказать, что выделяются игры 4 жанкров Action, Shooter, Role-Playing, Sports. У остальных жанров продажи гораздо ниже. \n",
    "\n",
    "Puzzle продажи, оставляют желать лучшего, но на создание игры в жанре puzzle уходит куда меньше средств, чем на action, например. Стоит обратить на это внимание"
   ]
  },
  {
   "cell_type": "markdown",
   "metadata": {},
   "source": [
    "<a name=\"2.4.\"><a/><br/>\n",
    "    <font size =\"4\"><b>2.4.Портрет пользователя в каждом регионе</b></font><br/>\n",
    "[<font size=\"2\">(к содержанию)</font>](#1common.)"
   ]
  },
  {
   "cell_type": "code",
   "execution_count": 45,
   "metadata": {},
   "outputs": [
    {
     "data": {
      "text/plain": [
       "Text(0.5, 1.0, 'Популярность по продажам в 3 областях')"
      ]
     },
     "execution_count": 45,
     "metadata": {},
     "output_type": "execute_result"
    },
    {
     "data": {
      "image/png": "[encoded data removed]",
      "text/plain": [
       "<Figure size 864x360 with 1 Axes>"
      ]
     },
     "metadata": {
      "needs_background": "light"
     },
     "output_type": "display_data"
    }
   ],
   "source": [
    "(\n",
    "new_df.pivot_table(index='platform', values=['na_sales','eu_sales','jp_sales'], aggfunc = 'sum')\n",
    "    .plot(grid=True, figsize=(12, 5),kind = 'bar',color=['y', 'g', 'b'])\n",
    ")\n",
    "plt.title(\"Популярность по продажам в 3 областях\")"
   ]
  },
  {
   "cell_type": "markdown",
   "metadata": {},
   "source": [
    "**Вывод**\n",
    "\n",
    "Из графика можно выделить топ 5 популярных платформ. В Европе и Америке они практически не отличаются, а вот в Японии лидирует 3DS и PSV. Местные поддерживают отечественного производителя играя в Sony и Nintendo. "
   ]
  },
  {
   "cell_type": "code",
   "execution_count": 46,
   "metadata": {},
   "outputs": [
    {
     "data": {
      "text/plain": [
       "<matplotlib.legend.Legend at 0x229ab5f6c18>"
      ]
     },
     "execution_count": 46,
     "metadata": {},
     "output_type": "execute_result"
    },
    {
     "data": {
      "image/png": "[encoded data removed]",
      "text/plain": [
       "<Figure size 864x360 with 1 Axes>"
      ]
     },
     "metadata": {},
     "output_type": "display_data"
    },
    {
     "data": {
      "image/png": "[encoded data removed]",
      "text/plain": [
       "<Figure size 864x360 with 1 Axes>"
      ]
     },
     "metadata": {},
     "output_type": "display_data"
    },
    {
     "data": {
      "image/png": "[encoded data removed]",
      "text/plain": [
       "<Figure size 864x360 with 1 Axes>"
      ]
     },
     "metadata": {},
     "output_type": "display_data"
    }
   ],
   "source": [
    "(\n",
    "new_df.pivot_table(index='genre', values='na_sales', aggfunc = 'sum')\n",
    "    .sort_values(by = 'na_sales', ascending = False)\n",
    "    .head(5)\n",
    "    .plot.pie(grid=True, figsize=(12, 5), subplots=True),\n",
    ")\n",
    "plt.title(\"Северная Америка\")\n",
    "plt.ylabel(\"\")\n",
    "plt.legend(\"\")\n",
    "(\n",
    "new_df.pivot_table(index='genre', values='eu_sales', aggfunc = 'sum')\n",
    "    .sort_values(by = 'eu_sales', ascending = False)\n",
    "    .head(5)\n",
    "    .plot.pie(grid=True, figsize=(12, 5), subplots=True)\n",
    ")\n",
    "plt.title(\"Европа\")\n",
    "plt.ylabel(\"\")\n",
    "plt.legend(\"\")\n",
    "(\n",
    "new_df.pivot_table(index='genre', values='jp_sales', aggfunc = 'sum')\n",
    "    .sort_values(by = 'jp_sales', ascending = False)\n",
    "    .head(5)\n",
    "    .plot.pie(grid=True, figsize=(12, 5), subplots=True)\n",
    ")\n",
    "plt.title(\"Япония\")\n",
    "plt.ylabel(\"\")\n",
    "plt.legend(\"\")"
   ]
  },
  {
   "cell_type": "markdown",
   "metadata": {},
   "source": [
    "**Вывод**\n",
    "\n",
    "Различия по жанрам тоже существенны. Америка и Европа любят стрелялки и спортивные симуляторы, когда как Япония предпочитает RPG и Экшн"
   ]
  },
  {
   "cell_type": "code",
   "execution_count": 48,
   "metadata": {},
   "outputs": [
    {
     "data": {
      "text/plain": [
       "<matplotlib.axes._subplots.AxesSubplot at 0x229ab56fd68>"
      ]
     },
     "execution_count": 48,
     "metadata": {},
     "output_type": "execute_result"
    },
    {
     "data": {
      "image/png": "[encoded data removed]",
      "text/plain": [
       "<Figure size 864x360 with 1 Axes>"
      ]
     },
     "metadata": {
      "needs_background": "light"
     },
     "output_type": "display_data"
    }
   ],
   "source": [
    "(\n",
    "new_df.pivot_table(index='rating', values=['na_sales','eu_sales','jp_sales'], aggfunc = 'sum')\n",
    "    .plot(grid=True, figsize=(12, 5), color = ['y', 'b', 'g'])\n",
    ")"
   ]
  },
  {
   "cell_type": "markdown",
   "metadata": {},
   "source": [
    "**Вывод**\n",
    "\n",
    "В Америке и Евроме лидирует рейтинг M, когда как в Японии рейтинг практически не влияет на продажи"
   ]
  },
  {
   "cell_type": "markdown",
   "metadata": {},
   "source": [
    " <a name=\"3.\"><a/><br/>\n",
    "    <font size =\"5\"><b>3. Проверка гипотез</b></font><br/>\n",
    "[<font size=\"2\">(к содержанию)</font>](#1common.)"
   ]
  },
  {
   "cell_type": "markdown",
   "metadata": {},
   "source": [
    "Выдвигаем гипотезу, что средние пользовательских рейтингов платформы PC и XOne равны:\n",
    "    \n",
    "    Нулевая - равны\n",
    "    Альтернетивная - различны"
   ]
  },
  {
   "cell_type": "code",
   "execution_count": 93,
   "metadata": {},
   "outputs": [
    {
     "data": {
      "text/plain": [
       "<matplotlib.axes._subplots.AxesSubplot at 0x229b85f4400>"
      ]
     },
     "execution_count": 93,
     "metadata": {},
     "output_type": "execute_result"
    },
    {
     "data": {
      "image/png": "[encoded data removed]",
      "text/plain": [
       "<Figure size 432x288 with 1 Axes>"
      ]
     },
     "metadata": {
      "needs_background": "light"
     },
     "output_type": "display_data"
    }
   ],
   "source": [
    "#проверим распределение наших данных\n",
    "df['user_score'].hist()"
   ]
  },
  {
   "cell_type": "code",
   "execution_count": 95,
   "metadata": {},
   "outputs": [
    {
     "data": {
      "text/plain": [
       "(5, 9)"
      ]
     },
     "execution_count": 95,
     "metadata": {},
     "output_type": "execute_result"
    },
    {
     "data": {
      "image/png": "[encoded data removed]",
      "text/plain": [
       "<Figure size 432x288 with 1 Axes>"
      ]
     },
     "metadata": {
      "needs_background": "light"
     },
     "output_type": "display_data"
    }
   ],
   "source": [
    "#взглянем на выбросы\n",
    "df.boxplot('user_score')\n",
    "plt.ylim(5, 9)"
   ]
  },
  {
   "cell_type": "markdown",
   "metadata": {},
   "source": [
    "### Вывод\n",
    "\n",
    "Очень много выбросов ниже 6 и выше 9 баллов, они исказать наши данные, удалим их"
   ]
  },
  {
   "cell_type": "code",
   "execution_count": 54,
   "metadata": {},
   "outputs": [],
   "source": [
    "#функция для расчета стандартной ошибки\n",
    "def stde(data, confidence):\n",
    "    arr = np.array(data)\n",
    "    se = scipy.stats.sem(arr)\n",
    "    he = se * (1+confidence)\n",
    "    return he"
   ]
  },
  {
   "cell_type": "code",
   "execution_count": 55,
   "metadata": {},
   "outputs": [],
   "source": [
    "#функция для определение дов.интервалов\n",
    "def dov_int(data, confidence):\n",
    "    arr = np.array(data)\n",
    "    n = len(arr)\n",
    "    m, se = np.mean(arr), scipy.stats.sem(arr)\n",
    "    h = stde(data, confidence)\n",
    "    print('mean =', m.round(1), 'down =',(m-h).round(1), 'up =',(m+h).round(1), 'stde =',h.round(1))"
   ]
  },
  {
   "cell_type": "code",
   "execution_count": 83,
   "metadata": {},
   "outputs": [],
   "source": [
    "#функция для проведения теста Стьюдента\n",
    "def st_tt(array1, array2):\n",
    "    alpha = 0.05\n",
    "    results = st.ttest_ind(\n",
    "    array1, \n",
    "    array2)\n",
    "    if (results.pvalue < alpha):\n",
    "        print('Отклоняем нулевую гипотезу')\n",
    "    else:\n",
    "        print('Не получилось отклонить нулевую гипотезу')\n",
    "    print('p-value =', results.pvalue)\n",
    "    print('Доверительные интервалы')\n",
    "    print('Группа а')\n",
    "    dov_int(array1, 0.95)\n",
    "    print('Группа b')\n",
    "    dov_int(array2, 0.95)"
   ]
  },
  {
   "cell_type": "code",
   "execution_count": 99,
   "metadata": {},
   "outputs": [
    {
     "name": "stdout",
     "output_type": "stream",
     "text": [
      "Отклоняем нулевую гипотезу\n",
      "p-value = 4.241060846429663e-11\n",
      "Доверительные интервалы\n",
      "Группа а\n",
      "mean = 7.5 down = 7.4 up = 7.5 stde = 0.1\n",
      "Группа b\n",
      "mean = 7.0 down = 6.9 up = 7.1 stde = 0.1\n"
     ]
    }
   ],
   "source": [
    "#проверим различия между платформами \"PC\" и \"XOne\"\n",
    "a = df.query('platform == \"PC\" & user_score > 5 & user_score < 9')['user_score']\n",
    "b = df.query('platform == \"XOne\" & user_score > 5 & user_score > 5')['user_score']\n",
    "st_tt(a, b)"
   ]
  },
  {
   "cell_type": "code",
   "execution_count": 103,
   "metadata": {},
   "outputs": [
    {
     "data": {
      "image/png": "[encoded data removed]",
      "text/plain": [
       "<Figure size 320x400 with 1 Axes>"
      ]
     },
     "metadata": {
      "needs_background": "light"
     },
     "output_type": "display_data"
    }
   ],
   "source": [
    "value = (a.mean(), b.mean())\n",
    "label = ('PC', 'XOne')\n",
    "stde1, stde2 = stde(a, 0.95),stde(b, 0.95)\n",
    "y_pos = np.arange(len(label))\n",
    "plt.figure(figsize=(4,5), dpi= 80)\n",
    "plt.errorbar(y_pos, value, yerr =(2*stde1, 2*stde2), color=\"black\", capsize=5,\n",
    "             marker=\"s\", markersize=7, mfc=\"blue\", mec=\"black\")\n",
    "plt.xticks(y_pos, label)\n",
    "plt.ylabel('Оценка пользователей')\n",
    "plt.title('Доверительные интервалы')\n",
    "plt.show()"
   ]
  },
  {
   "cell_type": "code",
   "execution_count": 101,
   "metadata": {},
   "outputs": [
    {
     "name": "stdout",
     "output_type": "stream",
     "text": [
      "Отклоняем нулевую гипотезу\n",
      "p-value = 7.801312968693395e-12\n",
      "Доверительные интервалы\n",
      "Группа а\n",
      "mean = 7.3 down = 7.2 up = 7.3 stde = 0.0\n",
      "Группа b\n",
      "mean = 6.8 down = 6.6 up = 7.0 stde = 0.2\n"
     ]
    }
   ],
   "source": [
    "#проверим различия между жанрами \"Action\" и \"Sports\"\n",
    "c = new_df.query('genre == \"Action\" & user_score > 5 & user_score < 9')['user_score']\n",
    "d = new_df.query('genre == \"Sports\" & user_score > 5 & user_score < 9')['user_score']\n",
    "st_tt(c, d)"
   ]
  },
  {
   "cell_type": "code",
   "execution_count": 104,
   "metadata": {},
   "outputs": [
    {
     "data": {
      "image/png": "[encoded data removed]",
      "text/plain": [
       "<Figure size 320x400 with 1 Axes>"
      ]
     },
     "metadata": {
      "needs_background": "light"
     },
     "output_type": "display_data"
    }
   ],
   "source": [
    "value = (c.mean(), d.mean())\n",
    "label = ('Action', 'Sports')\n",
    "stde1, stde2 = stde(a, 0.95),stde(b, 0.95)\n",
    "y_pos = np.arange(len(label))\n",
    "plt.figure(figsize=(4,5), dpi= 80)\n",
    "plt.errorbar(y_pos, value, yerr =(2*stde1, 2*stde2), color=\"black\", capsize=5,\n",
    "             marker=\"s\", markersize=7, mfc=\"blue\", mec=\"black\")\n",
    "plt.xticks(y_pos, label)\n",
    "plt.ylabel('Оценка пользователей')\n",
    "plt.title('Доверительные интервалы')\n",
    "plt.show()"
   ]
  },
  {
   "cell_type": "markdown",
   "metadata": {},
   "source": [
    " <a name=\"4.\"><a/><br/>\n",
    "    <font size =\"5\"><b>4. Общий вывод</b></font><br/>\n",
    "[<font size=\"2\">(к содержанию)</font>](#1common.)"
   ]
  },
  {
   "cell_type": "markdown",
   "metadata": {},
   "source": [
    "Для оценки потенциального спроса на игру в 3 частях света мы используем метрики:\n",
    "1. Жанр\n",
    "2. Платформа\n",
    "3. Рейтинг ESRB\n",
    "4. Рейтинг критиков\n",
    "\n",
    "Предположения сделанны на основе данных по продажам за прошлые года. В список признаков попали лидеры по продажам. Мы получили портрет идеальной игры по 4-признакам.\n",
    "\n",
    "**Северная Америка и Европа:**\n",
    "1. Action, Shooter, Sports\n",
    "2. PS4, XOne, 3DS\n",
    "3. Ретинг M\n",
    "4. Высокий\n",
    "\n",
    "**Япония:**\n",
    "1. Action, RPG\n",
    "2. 3DS, PS4, PSV\n",
    "3. Любой рейтинг\n",
    "4. Высокий\n",
    "\n",
    "Игры попадающие в эти метрики будут пользоваться хорошим спросом\n",
    "\n",
    "Прверка статистических гипотез показала, что оценки пользователей по платформам PC и XOne, и жанрам Action и Sports имеют статистически значимые различия. Доверительные интервалы не пересекаються. "
   ]
  }
 ],
 "metadata": {
  "kernelspec": {
   "display_name": "Python 3",
   "language": "python",
   "name": "python3"
  },
  "language_info": {
   "codemirror_mode": {
    "name": "ipython",
    "version": 3
   },
   "file_extension": ".py",
   "mimetype": "text/x-python",
   "name": "python",
   "nbconvert_exporter": "python",
   "pygments_lexer": "ipython3",
   "version": "3.7.3"
  }
 },
 "nbformat": 4,
 "nbformat_minor": 2
}
